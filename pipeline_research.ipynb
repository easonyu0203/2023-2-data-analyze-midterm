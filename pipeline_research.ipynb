{
 "cells": [
  {
   "cell_type": "markdown",
   "source": [
    "# Pipeline Research\n",
    "when developing a pipeline, I use this notebook to play around with the data and see what I can do with it."
   ],
   "metadata": {
    "collapsed": false
   }
  },
  {
   "cell_type": "markdown",
   "source": [],
   "metadata": {
    "collapsed": false
   }
  },
  {
   "cell_type": "code",
   "execution_count": 2,
   "outputs": [
    {
     "name": "stdout",
     "output_type": "stream",
     "text": [
      "[DefaultFilterer] filtering documents by whether doc title or content contains the stock name\n"
     ]
    },
    {
     "name": "stderr",
     "output_type": "stream",
     "text": [
      "filtering documents:   0%|          | 1000/2362610 [00:10<7:00:09, 93.68it/s]\n"
     ]
    },
    {
     "name": "stdout",
     "output_type": "stream",
     "text": [
      "left with 1001 documents after filtering\n",
      "[DefaultDocsLabeler] labeling documents by the s day future return percentage of the stock...\n"
     ]
    },
    {
     "name": "stderr",
     "output_type": "stream",
     "text": [
      "labeling documents: 1026it [00:01, 725.64it/s]\n"
     ]
    },
    {
     "name": "stdout",
     "output_type": "stream",
     "text": [
      "[Near 0 return filterer] filtering out documents with return close to 0 within 0.01\n"
     ]
    },
    {
     "name": "stderr",
     "output_type": "stream",
     "text": [
      "filtering documents: 100%|██████████| 503/503 [00:00<00:00, 502317.84it/s]\n"
     ]
    },
    {
     "name": "stdout",
     "output_type": "stream",
     "text": [
      "left with 503 documents after filtering\n",
      "[DefaultKeywordExtractor] extract keywords from documents using jieba\n"
     ]
    },
    {
     "name": "stderr",
     "output_type": "stream",
     "text": [
      "extracting keywords: 100%|██████████| 503/503 [00:00<?, ?it/s]\n"
     ]
    },
    {
     "name": "stdout",
     "output_type": "stream",
     "text": [
      "remove 9 docs because of empty keywords\n",
      "left with 494 docs\n",
      "[TFIDFVectorlizer] converting 494 docs to vectors using tf-idf\n",
      "tfidf vectorizer fitting...\n",
      "tfidf vectorizer fitted.\n"
     ]
    }
   ],
   "source": [
    "\"\"\"\n",
    "Preprocessing pipeline\n",
    "\"\"\"\n",
    "from preprocess.keyword_extractor import DefaultKeywordExtractor\n",
    "from datasets.docs_dataset import DbDocsDataset\n",
    "from datasets.stock_dataset import StockMeta\n",
    "from preprocess.preprocess_pipeline import PreprocessPipeline, PreprocessPipeLineConfig\n",
    "from preprocess.docs_filterer import DefaultFilterer\n",
    "from preprocess.docs_labeler import DefaultDocsLabeler\n",
    "from preprocess.vectorlizer import TFIDFVectorlizer\n",
    "from preprocess.labeled_docs_filterer import Near0returnFilterer\n",
    "\n",
    "\n",
    "docs_dataset = DbDocsDataset()\n",
    "stock_meta = StockMeta(stock_meta_path=\"./organized_data/stock_metadata.csv\")\n",
    "stock_name = '台積電'\n",
    "stock = stock_meta.get_stock_by_name(stock_name)\n",
    "\n",
    "pipeline_config = PreprocessPipeLineConfig(\n",
    "    docs_filterer=DefaultFilterer(),\n",
    "    docs_labeler=DefaultDocsLabeler(s=3),\n",
    "    labeled_docs_filterer=Near0returnFilterer(threshold=0.01),\n",
    "    keywords_extractor=DefaultKeywordExtractor(),\n",
    "    vectorizer=TFIDFVectorlizer()\n",
    ")\n",
    "\n",
    "pipeline = PreprocessPipeline(pipeline_config)\n",
    "\n",
    "dataset = pipeline.preprocess(docs_dataset, stock, verbose=True)"
   ],
   "metadata": {
    "collapsed": false
   }
  },
  {
   "cell_type": "code",
   "execution_count": 3,
   "outputs": [
    {
     "ename": "ValueError",
     "evalue": "Number of classes, 1, does not match size of target_names, 2. Try specifying the labels parameter",
     "output_type": "error",
     "traceback": [
      "\u001B[1;31m---------------------------------------------------------------------------\u001B[0m",
      "\u001B[1;31mValueError\u001B[0m                                Traceback (most recent call last)",
      "Cell \u001B[1;32mIn[3], line 13\u001B[0m\n\u001B[0;32m     10\u001B[0m train_dataset, val_dataset \u001B[38;5;241m=\u001B[39m random_split_train_val(dataset, \u001B[38;5;241m0.8\u001B[39m)\n\u001B[0;32m     12\u001B[0m \u001B[38;5;66;03m# train and validate model\u001B[39;00m\n\u001B[1;32m---> 13\u001B[0m result \u001B[38;5;241m=\u001B[39m \u001B[43mtrain_val_model\u001B[49m\u001B[43m(\u001B[49m\u001B[43mmodel\u001B[49m\u001B[43m,\u001B[49m\u001B[43m \u001B[49m\u001B[43mtrain_dataset\u001B[49m\u001B[43m,\u001B[49m\u001B[43m \u001B[49m\u001B[43mval_dataset\u001B[49m\u001B[43m)\u001B[49m\n\u001B[0;32m     15\u001B[0m \u001B[38;5;66;03m# display result\u001B[39;00m\n\u001B[0;32m     16\u001B[0m display_evaluation_result(result)\n",
      "File \u001B[1;32m~\\Projects\\College\\大四下\\DatAnalysis\\2023-2-data-analyze-midterm\\model_evaluation.py:50\u001B[0m, in \u001B[0;36mtrain_val_model\u001B[1;34m(model, train_dataset, val_dataset)\u001B[0m\n\u001B[0;32m     47\u001B[0m train_acc \u001B[38;5;241m=\u001B[39m accuracy_score(y_train_binary, y_train_pred_binary)\n\u001B[0;32m     48\u001B[0m val_acc \u001B[38;5;241m=\u001B[39m accuracy_score(y_val_binary, y_val_pred_binary)\n\u001B[1;32m---> 50\u001B[0m train_report \u001B[38;5;241m=\u001B[39m \u001B[43mclassification_report\u001B[49m\u001B[43m(\u001B[49m\u001B[43my_train_binary\u001B[49m\u001B[43m,\u001B[49m\u001B[43m \u001B[49m\u001B[43my_train_pred_binary\u001B[49m\u001B[43m,\u001B[49m\u001B[43m \u001B[49m\u001B[43mtarget_names\u001B[49m\u001B[38;5;241;43m=\u001B[39;49m\u001B[43m[\u001B[49m\u001B[38;5;124;43m'\u001B[39;49m\u001B[38;5;124;43mfall\u001B[39;49m\u001B[38;5;124;43m'\u001B[39;49m\u001B[43m,\u001B[49m\u001B[43m \u001B[49m\u001B[38;5;124;43m'\u001B[39;49m\u001B[38;5;124;43mrise\u001B[39;49m\u001B[38;5;124;43m'\u001B[39;49m\u001B[43m]\u001B[49m\u001B[43m)\u001B[49m\n\u001B[0;32m     51\u001B[0m val_report \u001B[38;5;241m=\u001B[39m classification_report(y_val_binary, y_val_pred_binary, target_names\u001B[38;5;241m=\u001B[39m[\u001B[38;5;124m'\u001B[39m\u001B[38;5;124mfall\u001B[39m\u001B[38;5;124m'\u001B[39m, \u001B[38;5;124m'\u001B[39m\u001B[38;5;124mrise\u001B[39m\u001B[38;5;124m'\u001B[39m])\n\u001B[0;32m     53\u001B[0m train_conf_matrix \u001B[38;5;241m=\u001B[39m confusion_matrix(y_train_binary, y_train_pred_binary)\n",
      "File \u001B[1;32m~\\Projects\\College\\大四下\\DatAnalysis\\2023-2-data-analyze-midterm\\venv\\Lib\\site-packages\\sklearn\\metrics\\_classification.py:2332\u001B[0m, in \u001B[0;36mclassification_report\u001B[1;34m(y_true, y_pred, labels, target_names, sample_weight, digits, output_dict, zero_division)\u001B[0m\n\u001B[0;32m   2326\u001B[0m         warnings\u001B[38;5;241m.\u001B[39mwarn(\n\u001B[0;32m   2327\u001B[0m             \u001B[38;5;124m\"\u001B[39m\u001B[38;5;124mlabels size, \u001B[39m\u001B[38;5;132;01m{0}\u001B[39;00m\u001B[38;5;124m, does not match size of target_names, \u001B[39m\u001B[38;5;132;01m{1}\u001B[39;00m\u001B[38;5;124m\"\u001B[39m\u001B[38;5;241m.\u001B[39mformat(\n\u001B[0;32m   2328\u001B[0m                 \u001B[38;5;28mlen\u001B[39m(labels), \u001B[38;5;28mlen\u001B[39m(target_names)\n\u001B[0;32m   2329\u001B[0m             )\n\u001B[0;32m   2330\u001B[0m         )\n\u001B[0;32m   2331\u001B[0m     \u001B[38;5;28;01melse\u001B[39;00m:\n\u001B[1;32m-> 2332\u001B[0m         \u001B[38;5;28;01mraise\u001B[39;00m \u001B[38;5;167;01mValueError\u001B[39;00m(\n\u001B[0;32m   2333\u001B[0m             \u001B[38;5;124m\"\u001B[39m\u001B[38;5;124mNumber of classes, \u001B[39m\u001B[38;5;132;01m{0}\u001B[39;00m\u001B[38;5;124m, does not match size of \u001B[39m\u001B[38;5;124m\"\u001B[39m\n\u001B[0;32m   2334\u001B[0m             \u001B[38;5;124m\"\u001B[39m\u001B[38;5;124mtarget_names, \u001B[39m\u001B[38;5;132;01m{1}\u001B[39;00m\u001B[38;5;124m. Try specifying the labels \u001B[39m\u001B[38;5;124m\"\u001B[39m\n\u001B[0;32m   2335\u001B[0m             \u001B[38;5;124m\"\u001B[39m\u001B[38;5;124mparameter\u001B[39m\u001B[38;5;124m\"\u001B[39m\u001B[38;5;241m.\u001B[39mformat(\u001B[38;5;28mlen\u001B[39m(labels), \u001B[38;5;28mlen\u001B[39m(target_names))\n\u001B[0;32m   2336\u001B[0m         )\n\u001B[0;32m   2337\u001B[0m \u001B[38;5;28;01mif\u001B[39;00m target_names \u001B[38;5;129;01mis\u001B[39;00m \u001B[38;5;28;01mNone\u001B[39;00m:\n\u001B[0;32m   2338\u001B[0m     target_names \u001B[38;5;241m=\u001B[39m [\u001B[38;5;124m\"\u001B[39m\u001B[38;5;132;01m%s\u001B[39;00m\u001B[38;5;124m\"\u001B[39m \u001B[38;5;241m%\u001B[39m l \u001B[38;5;28;01mfor\u001B[39;00m l \u001B[38;5;129;01min\u001B[39;00m labels]\n",
      "\u001B[1;31mValueError\u001B[0m: Number of classes, 1, does not match size of target_names, 2. Try specifying the labels parameter"
     ]
    }
   ],
   "source": [
    "\"\"\"\n",
    "Train & validate model\n",
    "\"\"\"\n",
    "from sklearn.svm import SVR\n",
    "from model_evaluation import train_val_model, display_evaluation_result\n",
    "from utils.data import random_split_train_val\n",
    "\n",
    "# set model and datasets\n",
    "model = SVR()\n",
    "train_dataset, val_dataset = random_split_train_val(dataset, 0.8)\n",
    "\n",
    "# train and validate model\n",
    "result = train_val_model(model, train_dataset, val_dataset)\n",
    "\n",
    "# display result\n",
    "display_evaluation_result(result)"
   ],
   "metadata": {
    "collapsed": false
   }
  }
 ],
 "metadata": {
  "kernelspec": {
   "display_name": "Python 3",
   "language": "python",
   "name": "python3"
  },
  "language_info": {
   "codemirror_mode": {
    "name": "ipython",
    "version": 2
   },
   "file_extension": ".py",
   "mimetype": "text/x-python",
   "name": "python",
   "nbconvert_exporter": "python",
   "pygments_lexer": "ipython2",
   "version": "2.7.6"
  }
 },
 "nbformat": 4,
 "nbformat_minor": 0
}
