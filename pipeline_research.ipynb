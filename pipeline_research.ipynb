{
 "cells": [
  {
   "cell_type": "markdown",
   "source": [
    "# Pipeline Research\n",
    "when developing a pipeline, I use this notebook to play around with the data and see what I can do with it."
   ],
   "metadata": {
    "collapsed": false
   }
  },
  {
   "cell_type": "markdown",
   "source": [],
   "metadata": {
    "collapsed": false
   }
  },
  {
   "cell_type": "code",
   "execution_count": null,
   "metadata": {
    "collapsed": true
   },
   "outputs": [],
   "source": [
    "from pipeline.keyword_extractor import DefaultKeywordExtractor\n",
    "from datasets.docs_dataset import DocsDataset, DbDocsDataset\n",
    "from datasets.stock_dataset import StockMeta\n",
    "from pipeline.preprocess_pipeline import PreprocessPipeline, PreprocessPipeLineConfig\n",
    "from pipeline.docs_filterer import DefaultFilterer\n",
    "from pipeline.docs_labeler import DefaultDocsLabeler\n",
    "from pipeline.vectorlizer import TFIDFVectorlizer\n",
    "from pipeline.labeled_docs_filterer import Near0returnFilterer\n",
    "from utils.data import random_split_train_val"
   ]
  },
  {
   "cell_type": "code",
   "execution_count": null,
   "outputs": [],
   "source": [
    "\"\"\"\n",
    "Preprocessing pipeline\n",
    "\"\"\"\n",
    "# doc_dataset = DocsDataset(documents_csv_path=\"./organized_data/documents.csv\")\n",
    "stock_meta = StockMeta(stock_meta_path=\"./organized_data/stock_metadata.csv\")\n",
    "stock_name = '台積電'\n",
    "stock = stock_meta.get_stock_by_name(stock_name)\n",
    "\n",
    "pipeline_config = PreprocessPipeLineConfig(\n",
    "    docs_dataset=DbDocsDataset(),\n",
    "    stock=stock,\n",
    "    docs_filterer=DefaultFilterer(),\n",
    "    docs_labeler=DefaultDocsLabeler(s=3),\n",
    "    labeled_docs_filterer=Near0returnFilterer(threshold=5),\n",
    "    keywords_extractor=DefaultKeywordExtractor(),\n",
    "    vectorizer=TFIDFVectorlizer()\n",
    ")\n",
    "\n",
    "pipeline = PreprocessPipeline(pipeline_config)\n",
    "\n",
    "dataset = pipeline.preprocess(verbose=True)"
   ],
   "metadata": {
    "collapsed": false
   }
  },
  {
   "cell_type": "code",
   "execution_count": 2,
   "outputs": [
    {
     "name": "stdout",
     "output_type": "stream",
     "text": [
      "Feature names: ['and' 'document' 'first' 'is' 'one' 'second' 'the' 'third' 'this']\n",
      "Shape of the TF-IDF matrix: (4, 9)\n",
      "TF-IDF matrix:\n",
      "[[0.         0.46979139 0.58028582 0.38408524 0.         0.\n",
      "  0.38408524 0.         0.38408524]\n",
      " [0.         0.6876236  0.         0.28108867 0.         0.53864762\n",
      "  0.28108867 0.         0.28108867]\n",
      " [0.51184851 0.         0.         0.26710379 0.51184851 0.\n",
      "  0.26710379 0.51184851 0.26710379]\n",
      " [0.         0.46979139 0.58028582 0.38408524 0.         0.\n",
      "  0.38408524 0.         0.38408524]]\n"
     ]
    }
   ],
   "source": [
    "\"\"\"\n",
    "Train & validate model\n",
    "\"\"\"\n",
    "\n",
    "train_dataset, val_dataset = random_split_train_val(dataset, 0.8)"
   ],
   "metadata": {
    "collapsed": false
   }
  },
  {
   "cell_type": "code",
   "execution_count": null,
   "outputs": [],
   "source": [
    "from sklearn.svm import SVR\n",
    "from sklearn.metrics import classification_report, confusion_matrix, accuracy_score, ConfusionMatrixDisplay\n",
    "import matplotlib.pyplot as plt\n",
    "import numpy as np\n",
    "\n",
    "# Function to convert continuous labels to binary\n",
    "def convert_to_binary_labels(y_values):\n",
    "    return [1 if y > 0 else 0 for y in y_values]\n",
    "\n",
    "# Split the dataset\n",
    "train_dataset, val_dataset = random_split_train_val(labeled_vectors, 0.8)\n",
    "\n",
    "# Extract features and labels from the training and validation datasets\n",
    "X_train, y_train = zip(*train_dataset)\n",
    "X_val, y_val = zip(*val_dataset)\n",
    "\n",
    "# Train the SVR model\n",
    "model = SVR()\n",
    "model.fit(X_train, y_train)\n",
    "\n",
    "# Make predictions on the training and validation datasets\n",
    "y_train_pred = model.predict(X_train)\n",
    "y_val_pred = model.predict(X_val)\n",
    "\n",
    "# Convert predictions to binary labels for evaluation\n",
    "y_train_pred_binary = convert_to_binary_labels(y_train_pred)\n",
    "y_val_pred_binary = convert_to_binary_labels(y_val_pred)\n",
    "\n",
    "# Convert true labels to binary for evaluation\n",
    "y_train_binary = convert_to_binary_labels(y_train)\n",
    "y_val_binary = convert_to_binary_labels(y_val)\n",
    "\n",
    "# Calculate performance metrics\n",
    "train_acc = accuracy_score(y_train_binary, y_train_pred_binary)\n",
    "val_acc = accuracy_score(y_val_binary, y_val_pred_binary)\n",
    "\n",
    "train_report = classification_report(y_train_binary, y_train_pred_binary)\n",
    "val_report = classification_report(y_val_binary, y_val_pred_binary)\n",
    "\n",
    "train_conf_matrix = confusion_matrix(y_train_binary, y_train_pred_binary)\n",
    "val_conf_matrix = confusion_matrix(y_val_binary, y_val_pred_binary)\n",
    "\n",
    "# Display the results\n",
    "print(\"Training accuracy:\", train_acc)\n",
    "print(\"Validation accuracy:\", val_acc)\n",
    "\n",
    "print(\"\\nTraining classification report:\")\n",
    "print(train_report)\n",
    "\n",
    "print(\"\\nValidation classification report:\")\n",
    "print(val_report)\n",
    "\n",
    "print(\"\\nTraining confusion matrix:\")\n",
    "print(train_conf_matrix)\n",
    "\n",
    "print(\"\\nValidation confusion matrix:\")\n",
    "print(val_conf_matrix)\n",
    "\n",
    "# Plot confusion matrices\n",
    "fig, (ax1, ax2) = plt.subplots(1, 2, figsize=(10, 5))\n",
    "\n",
    "ConfusionMatrixDisplay(train_conf_matrix, display_labels=np.unique(y_train_binary)).plot(ax=ax1, cmap='Blues', xticks_rotation=45)\n",
    "ax1.set_title(\"Training Confusion Matrix\")\n",
    "\n",
    "ConfusionMatrixDisplay(val_conf_matrix, display_labels=np.unique(y_val_binary)).plot(ax=ax2, cmap='Blues', xticks_rotation=45)\n",
    "ax2.set_title(\"Validation Confusion Matrix\")\n",
    "\n",
    "plt.tight_layout()\n",
    "plt.show()\n"
   ],
   "metadata": {
    "collapsed": false
   }
  }
 ],
 "metadata": {
  "kernelspec": {
   "display_name": "Python 3",
   "language": "python",
   "name": "python3"
  },
  "language_info": {
   "codemirror_mode": {
    "name": "ipython",
    "version": 2
   },
   "file_extension": ".py",
   "mimetype": "text/x-python",
   "name": "python",
   "nbconvert_exporter": "python",
   "pygments_lexer": "ipython2",
   "version": "2.7.6"
  }
 },
 "nbformat": 4,
 "nbformat_minor": 0
}
