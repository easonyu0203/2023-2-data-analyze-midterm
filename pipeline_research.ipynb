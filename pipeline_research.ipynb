{
 "cells": [
  {
   "cell_type": "markdown",
   "source": [
    "# Pipeline Research\n",
    "when developing a pipeline, I use this notebook to play around with the data and see what I can do with it."
   ],
   "metadata": {
    "collapsed": false
   }
  },
  {
   "cell_type": "code",
   "execution_count": 2,
   "metadata": {
    "collapsed": true
   },
   "outputs": [],
   "source": [
    "from datasets.documents_dataset import DocumentsDataset\n",
    "from datasets.stock_dataset import StockMeta\n",
    "from pipeline.document_filterer import DefaultFilterer\n",
    "\n",
    "doc_dataset = DocumentsDataset(documents_csv_path=\"./organized_data/documents.csv\")\n",
    "filterer = DefaultFilterer()\n",
    "stock_meta = StockMeta(stock_meta_path=\"./organized_data/stock_metadata.csv\")"
   ]
  },
  {
   "cell_type": "code",
   "execution_count": 4,
   "outputs": [],
   "source": [
    "stock_name = '台積電'\n",
    "\n",
    "stock = stock_meta.get_stock_by_name(stock_name)\n",
    "filtered_docs = filterer.filter_documents(doc_dataset, stock)"
   ],
   "metadata": {
    "collapsed": false
   }
  },
  {
   "cell_type": "code",
   "execution_count": 5,
   "outputs": [
    {
     "data": {
      "text/plain": "DocumentsDataset(size=72508)"
     },
     "execution_count": 5,
     "metadata": {},
     "output_type": "execute_result"
    }
   ],
   "source": [
    "filtered_docs"
   ],
   "metadata": {
    "collapsed": false
   }
  }
 ],
 "metadata": {
  "kernelspec": {
   "display_name": "Python 3",
   "language": "python",
   "name": "python3"
  },
  "language_info": {
   "codemirror_mode": {
    "name": "ipython",
    "version": 2
   },
   "file_extension": ".py",
   "mimetype": "text/x-python",
   "name": "python",
   "nbconvert_exporter": "python",
   "pygments_lexer": "ipython2",
   "version": "2.7.6"
  }
 },
 "nbformat": 4,
 "nbformat_minor": 0
}
