{
 "cells": [
  {
   "cell_type": "markdown",
   "source": [
    "# Pipeline Research\n",
    "when developing a pipeline, I use this notebook to play around with the data and see what I can do with it."
   ],
   "metadata": {
    "collapsed": false
   }
  },
  {
   "cell_type": "markdown",
   "source": [],
   "metadata": {
    "collapsed": false
   }
  },
  {
   "cell_type": "code",
   "execution_count": null,
   "outputs": [],
   "source": [
    "\"\"\"\n",
    "Preprocessing pipeline\n",
    "\"\"\"\n",
    "from preprocess.keyword_extractor import DefaultKeywordExtractor\n",
    "from datasets.docs_dataset import DbDocsDataset\n",
    "from datasets.stock_dataset import StockMeta\n",
    "from preprocess.preprocess_pipeline import PreprocessPipeline, PreprocessPipeLineConfig\n",
    "from preprocess.docs_filterer import DefaultFilterer\n",
    "from preprocess.docs_labeler import DefaultDocsLabeler\n",
    "from preprocess.vectorlizer import TFIDFVectorlizer\n",
    "from preprocess.labeled_docs_filterer import Near0returnFilterer\n",
    "\n",
    "\n",
    "stock_meta = StockMeta(stock_meta_path=\"./organized_data/stock_metadata.csv\")\n",
    "stock_name = '台積電'\n",
    "stock = stock_meta.get_stock_by_name(stock_name)\n",
    "\n",
    "pipeline_config = PreprocessPipeLineConfig(\n",
    "    docs_dataset=DbDocsDataset(),\n",
    "    stock=stock,\n",
    "    docs_filterer=DefaultFilterer(),\n",
    "    docs_labeler=DefaultDocsLabeler(s=3),\n",
    "    labeled_docs_filterer=Near0returnFilterer(threshold=5),\n",
    "    keywords_extractor=DefaultKeywordExtractor(),\n",
    "    vectorizer=TFIDFVectorlizer()\n",
    ")\n",
    "\n",
    "pipeline = PreprocessPipeline(pipeline_config)\n",
    "\n",
    "dataset = pipeline.preprocess(verbose=True)"
   ],
   "metadata": {
    "collapsed": false,
    "pycharm": {
     "is_executing": true
    }
   }
  },
  {
   "cell_type": "code",
   "execution_count": null,
   "outputs": [],
   "source": [
    "\"\"\"\n",
    "Train & validate model\n",
    "\"\"\"\n",
    "from sklearn.svm import SVR\n",
    "from model_evaluation import train_val_model, display_evaluation_result\n",
    "from utils.data import random_split_train_val\n",
    "\n",
    "# set model and datasets\n",
    "model = SVR()\n",
    "train_dataset, val_dataset = random_split_train_val(dataset, 0.8)\n",
    "\n",
    "# train and validate model\n",
    "result = train_val_model(model, train_dataset, val_dataset)\n",
    "\n",
    "# display result\n",
    "display_evaluation_result(result)"
   ],
   "metadata": {
    "collapsed": false
   }
  }
 ],
 "metadata": {
  "kernelspec": {
   "display_name": "Python 3",
   "language": "python",
   "name": "python3"
  },
  "language_info": {
   "codemirror_mode": {
    "name": "ipython",
    "version": 2
   },
   "file_extension": ".py",
   "mimetype": "text/x-python",
   "name": "python",
   "nbconvert_exporter": "python",
   "pygments_lexer": "ipython2",
   "version": "2.7.6"
  }
 },
 "nbformat": 4,
 "nbformat_minor": 0
}
