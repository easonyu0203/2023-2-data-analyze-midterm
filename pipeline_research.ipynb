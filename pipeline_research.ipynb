{
 "cells": [
  {
   "cell_type": "markdown",
   "source": [
    "# Pipeline Research\n",
    "when developing a pipeline, I use this notebook to play around with the data and see what I can do with it."
   ],
   "metadata": {
    "collapsed": false
   }
  },
  {
   "cell_type": "code",
   "execution_count": 7,
   "metadata": {
    "collapsed": true
   },
   "outputs": [],
   "source": [
    "from datasets.documents_dataset import DocumentsDataset\n",
    "from datasets.stock_dataset import StockMeta\n",
    "from pipeline.document_filterer import DefaultFilterer\n",
    "\n",
    "doc_dataset = DocumentsDataset(documents_csv_path=\"./organized_data/documents.csv\")\n",
    "filterer = DefaultFilterer()\n",
    "stock_meta = StockMeta(stock_meta_path=\"./organized_data/stock_metadata.csv\")"
   ]
  },
  {
   "cell_type": "code",
   "execution_count": 3,
   "outputs": [
    {
     "ename": "TypeError",
     "evalue": "argument of type 'float' is not iterable",
     "output_type": "error",
     "traceback": [
      "\u001B[0;31m---------------------------------------------------------------------------\u001B[0m",
      "\u001B[0;31mTypeError\u001B[0m                                 Traceback (most recent call last)",
      "Cell \u001B[0;32mIn[3], line 3\u001B[0m\n\u001B[1;32m      1\u001B[0m stock_name \u001B[38;5;241m=\u001B[39m stock_meta\u001B[38;5;241m.\u001B[39mstock_names[\u001B[38;5;241m20\u001B[39m]\n\u001B[1;32m      2\u001B[0m stock \u001B[38;5;241m=\u001B[39m stock_meta\u001B[38;5;241m.\u001B[39mget_stock_by_name(stock_name)\n\u001B[0;32m----> 3\u001B[0m filtered_docs \u001B[38;5;241m=\u001B[39m \u001B[43mfilterer\u001B[49m\u001B[38;5;241;43m.\u001B[39;49m\u001B[43mfilter_documents\u001B[49m\u001B[43m(\u001B[49m\u001B[43mdoc_dataset\u001B[49m\u001B[43m,\u001B[49m\u001B[43m \u001B[49m\u001B[43mstock\u001B[49m\u001B[43m)\u001B[49m\n\u001B[1;32m      4\u001B[0m filtered_docs\n",
      "File \u001B[0;32m~/Developer/Projects/College/大四下/數據分析/期中/pipeline/document_filterer.py:19\u001B[0m, in \u001B[0;36mDefaultFilterer.filter_documents\u001B[0;34m(self, documents, stock)\u001B[0m\n\u001B[1;32m     17\u001B[0m filtered_documents \u001B[38;5;241m=\u001B[39m []\n\u001B[1;32m     18\u001B[0m \u001B[38;5;28;01mfor\u001B[39;00m document \u001B[38;5;129;01min\u001B[39;00m documents:\n\u001B[0;32m---> 19\u001B[0m     \u001B[38;5;28;01mif\u001B[39;00m stock_name \u001B[38;5;129;01min\u001B[39;00m document\u001B[38;5;241m.\u001B[39mtitle \u001B[38;5;129;01mor\u001B[39;00m \u001B[43mstock_name\u001B[49m\u001B[43m \u001B[49m\u001B[38;5;129;43;01min\u001B[39;49;00m\u001B[43m \u001B[49m\u001B[43mdocument\u001B[49m\u001B[38;5;241;43m.\u001B[39;49m\u001B[43mcontent\u001B[49m:\n\u001B[1;32m     20\u001B[0m         filtered_documents\u001B[38;5;241m.\u001B[39mappend(document)\n\u001B[1;32m     22\u001B[0m \u001B[38;5;28;01mreturn\u001B[39;00m DocumentsDataset(document_list\u001B[38;5;241m=\u001B[39mfiltered_documents)\n",
      "\u001B[0;31mTypeError\u001B[0m: argument of type 'float' is not iterable"
     ]
    }
   ],
   "source": [
    "stock_name = stock_meta.stock_names[20]\n",
    "stock = stock_meta.get_stock_by_name(stock_name)\n",
    "filtered_docs = filterer.filter_documents(doc_dataset, stock)\n",
    "filtered_docs"
   ],
   "metadata": {
    "collapsed": false
   }
  },
  {
   "cell_type": "code",
   "execution_count": 5,
   "outputs": [
    {
     "ename": "TypeError",
     "evalue": "argument of type 'float' is not iterable",
     "output_type": "error",
     "traceback": [
      "\u001B[0;31m---------------------------------------------------------------------------\u001B[0m",
      "\u001B[0;31mTypeError\u001B[0m                                 Traceback (most recent call last)",
      "Cell \u001B[0;32mIn[5], line 3\u001B[0m\n\u001B[1;32m      1\u001B[0m filtered_documents \u001B[38;5;241m=\u001B[39m []\n\u001B[1;32m      2\u001B[0m \u001B[38;5;28;01mfor\u001B[39;00m document \u001B[38;5;129;01min\u001B[39;00m doc_dataset:\n\u001B[0;32m----> 3\u001B[0m     \u001B[38;5;28;01mif\u001B[39;00m stock_name \u001B[38;5;129;01min\u001B[39;00m document\u001B[38;5;241m.\u001B[39mtitle \u001B[38;5;129;01mor\u001B[39;00m \u001B[43mstock_name\u001B[49m\u001B[43m \u001B[49m\u001B[38;5;129;43;01min\u001B[39;49;00m\u001B[43m \u001B[49m\u001B[43mdocument\u001B[49m\u001B[38;5;241;43m.\u001B[39;49m\u001B[43mcontent\u001B[49m:\n\u001B[1;32m      4\u001B[0m         filtered_documents\u001B[38;5;241m.\u001B[39mappend(document)\n",
      "\u001B[0;31mTypeError\u001B[0m: argument of type 'float' is not iterable"
     ]
    }
   ],
   "source": [
    "filtered_documents = []\n",
    "for document in doc_dataset:\n",
    "    if stock_name in document.title or stock_name in document.content:\n",
    "        filtered_documents.append(document)"
   ],
   "metadata": {
    "collapsed": false
   }
  },
  {
   "cell_type": "code",
   "execution_count": 11,
   "outputs": [],
   "source": [
    "import pandas as pd\n",
    "\n",
    "df = pd.read_csv(\"./organized_data/documents.csv\")"
   ],
   "metadata": {
    "collapsed": false
   }
  },
  {
   "cell_type": "code",
   "execution_count": 12,
   "outputs": [
    {
     "data": {
      "text/plain": "p_type                 0\ns_name                 0\ns_area_name            0\npost_time              0\ntitle                  0\nauthor             26826\ncontent             9896\ncontent_type     1020442\ncomment_count    1020442\ndtype: int64"
     },
     "execution_count": 12,
     "metadata": {},
     "output_type": "execute_result"
    }
   ],
   "source": [
    "df.isnull().sum()"
   ],
   "metadata": {
    "collapsed": false
   }
  }
 ],
 "metadata": {
  "kernelspec": {
   "display_name": "Python 3",
   "language": "python",
   "name": "python3"
  },
  "language_info": {
   "codemirror_mode": {
    "name": "ipython",
    "version": 2
   },
   "file_extension": ".py",
   "mimetype": "text/x-python",
   "name": "python",
   "nbconvert_exporter": "python",
   "pygments_lexer": "ipython2",
   "version": "2.7.6"
  }
 },
 "nbformat": 4,
 "nbformat_minor": 0
}
