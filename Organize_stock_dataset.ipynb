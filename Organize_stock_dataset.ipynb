{
 "cells": [
  {
   "attachments": {},
   "cell_type": "markdown",
   "metadata": {
    "collapsed": false
   },
   "source": [
    "# Organize Stock Dataset\n",
    "Stock data is store in an Excel file but the structure isn't what we ideally want. In this notebook we aim to do the following\n",
    "1. make two Excel files one contain all 上市股票 other contain all 上櫃股票\n",
    "2. separate each stock to a sheet and order by time\n",
    "3. rename column to english so will be easy to use in the future"
   ]
  },
  {
   "cell_type": "code",
   "execution_count": 50,
   "metadata": {
    "collapsed": true
   },
   "outputs": [],
   "source": [
    "import pandas as pd\n",
    "from pathlib import Path"
   ]
  },
  {
   "cell_type": "markdown",
   "metadata": {
    "collapsed": false
   },
   "source": [
    "# Configuration"
   ]
  },
  {
   "cell_type": "code",
   "execution_count": 51,
   "metadata": {
    "collapsed": false
   },
   "outputs": [],
   "source": [
    "DATA_DIR = \"./bda2023_mid_dataset\"\n",
    "ORGANIZED_DATASET_DIR = \"./organized_dataset\"\n",
    "RAW_DATASET_NAME = 'stock_data_2019-2023.xlsx'\n",
    "ORGANIZED_DATASET_NAME = \"stocks.xlsx\"\n",
    "RENAMED_COLUMNS = [\n",
    "    'name', 'date', 'open', 'high', 'low', 'close', 'volume(k)', 'turnover(k)', 'transaction', 'outstanding(k)', 'pe', 'pb'\n",
    "]\n",
    "\n",
    "raw_stocks_path = Path(DATA_DIR, RAW_DATASET_NAME)"
   ]
  },
  {
   "attachments": {},
   "cell_type": "markdown",
   "metadata": {},
   "source": [
    "# Utility functions"
   ]
  },
  {
   "cell_type": "code",
   "execution_count": 52,
   "metadata": {
    "collapsed": false
   },
   "outputs": [],
   "source": [
    "def get_raw_stocks_dfs() -> pd.DataFrame:\n",
    "    \"\"\"\n",
    "    get raw stocks dfs, this function will load the excel file and return a dict of dfs\n",
    "    \"\"\"\n",
    "    # Load the Excel file\n",
    "    excel_file = pd.ExcelFile(raw_stocks_path)\n",
    "\n",
    "    # Get the sheet names\n",
    "    sheet_names = excel_file.sheet_names\n",
    "\n",
    "    # Load all sheets\n",
    "    dfs = {sheet_name: excel_file.parse(sheet_name, na_values=['-']) for sheet_name in sheet_names if sheet_name != '摘要'}\n",
    "    return dfs"
   ]
  },
  {
   "attachments": {},
   "cell_type": "markdown",
   "metadata": {},
   "source": [
    "# Research & Preprocessing\n",
    "I just simply open excel and look around a bit, here we check about null value and see if there is any error in the data"
   ]
  },
  {
   "cell_type": "code",
   "execution_count": null,
   "metadata": {
    "pycharm": {
     "is_executing": true
    }
   },
   "outputs": [
    {
     "name": "stdout",
     "output_type": "stream",
     "text": [
      "上市2023 null value count:\n",
      "證券代碼              0\n",
      "年月日               0\n",
      "開盤價(元)         3813\n",
      "最高價(元)         3815\n",
      "最低價(元)         3815\n",
      "收盤價(元)            0\n",
      "成交量(千股)           0\n",
      "成交值(千元)           0\n",
      "成交筆數(筆)           0\n",
      "流通在外股數(千股)        0\n",
      "本益比-TSE       21534\n",
      "股價淨值比-TSE     15178\n",
      "dtype: int64\n",
      "\n",
      "上市2022 null value count:\n",
      "證券代碼               0\n",
      "年月日                0\n",
      "開盤價(元)         19097\n",
      "最高價(元)         19099\n",
      "最低價(元)         19099\n",
      "收盤價(元)             0\n",
      "成交量(千股)            0\n",
      "成交值(千元)            0\n",
      "成交筆數(筆)            0\n",
      "流通在外股數(千股)         6\n",
      "本益比-TSE       109169\n",
      "股價淨值比-TSE      77321\n",
      "dtype: int64\n",
      "\n",
      "上市2021 null value count:\n",
      "證券代碼               0\n",
      "年月日                0\n",
      "開盤價(元)         20242\n",
      "最高價(元)         20243\n",
      "最低價(元)         20243\n",
      "收盤價(元)             0\n",
      "成交量(千股)            0\n",
      "成交值(千元)            0\n",
      "成交筆數(筆)            0\n",
      "流通在外股數(千股)         0\n",
      "本益比-TSE       113126\n",
      "股價淨值比-TSE      75544\n",
      "dtype: int64\n",
      "\n",
      "上市2020 null value count:\n",
      "證券代碼              0\n",
      "年月日               0\n",
      "開盤價(元)            0\n",
      "最高價(元)            0\n",
      "最低價(元)            0\n",
      "收盤價(元)            0\n",
      "成交量(千股)           0\n",
      "成交值(千元)           0\n",
      "成交筆數(筆)           0\n",
      "流通在外股數(千股)        0\n",
      "本益比-TSE       51046\n",
      "股價淨值比-TSE     11866\n",
      "dtype: int64\n",
      "\n",
      "上市2019 null value count:\n",
      "證券代碼              0\n",
      "年月日               0\n",
      "開盤價(元)            0\n",
      "最高價(元)            0\n",
      "最低價(元)            0\n",
      "收盤價(元)            0\n",
      "成交量(千股)           0\n",
      "成交值(千元)           0\n",
      "成交筆數(筆)           0\n",
      "流通在外股數(千股)        0\n",
      "本益比-TSE        8476\n",
      "股價淨值比-TSE     12313\n",
      "dtype: int64\n",
      "\n",
      "上櫃2023 null value count:\n",
      "證券代碼              0\n",
      "年月日               0\n",
      "開盤價(元)         1568\n",
      "最高價(元)         1568\n",
      "最低價(元)         1568\n",
      "收盤價(元)            0\n",
      "成交量(千股)           0\n",
      "成交值(千元)           0\n",
      "成交筆數(筆)           0\n",
      "流通在外股數(千股)        0\n",
      "本益比-TSE       26295\n",
      "股價淨值比-TSE     17560\n",
      "dtype: int64\n",
      "\n",
      "上櫃2022 null value count:\n",
      "證券代碼               0\n",
      "年月日                0\n",
      "開盤價(元)          7872\n",
      "最高價(元)          7872\n",
      "最低價(元)          7872\n",
      "收盤價(元)             0\n",
      "成交量(千股)            0\n",
      "成交值(千元)            0\n",
      "成交筆數(筆)            0\n",
      "流通在外股數(千股)        16\n",
      "本益比-TSE       145853\n",
      "股價淨值比-TSE     101700\n",
      "dtype: int64\n",
      "\n",
      "上櫃2021 null value count:\n",
      "證券代碼               0\n",
      "年月日                0\n",
      "開盤價(元)          8304\n",
      "最高價(元)          8296\n",
      "最低價(元)          8296\n",
      "收盤價(元)             0\n",
      "成交量(千股)            0\n",
      "成交值(千元)            0\n",
      "成交筆數(筆)            0\n",
      "流通在外股數(千股)         0\n",
      "本益比-TSE       141466\n",
      "股價淨值比-TSE      90632\n",
      "dtype: int64\n",
      "\n",
      "上櫃2020 null value count:\n",
      "證券代碼              0\n",
      "年月日               0\n",
      "開盤價(元)            0\n",
      "最高價(元)            0\n",
      "最低價(元)            0\n",
      "收盤價(元)            0\n",
      "成交量(千股)           0\n",
      "成交值(千元)           0\n",
      "成交筆數(筆)           0\n",
      "流通在外股數(千股)        0\n",
      "本益比-TSE       61504\n",
      "股價淨值比-TSE      4536\n",
      "dtype: int64\n",
      "\n",
      "上櫃2019 null value count:\n",
      "證券代碼              0\n",
      "年月日               0\n",
      "開盤價(元)            0\n",
      "最高價(元)            0\n",
      "最低價(元)            0\n",
      "收盤價(元)            0\n",
      "成交量(千股)           0\n",
      "成交值(千元)           0\n",
      "成交筆數(筆)           0\n",
      "流通在外股數(千股)        0\n",
      "本益比-TSE       55200\n",
      "股價淨值比-TSE      4356\n",
      "dtype: int64\n",
      "\n"
     ]
    }
   ],
   "source": [
    "raw_stock_dfs = get_raw_stocks_dfs()\n",
    "# for each sheet, check each column null value count\n",
    "for sheet_name, df in raw_stock_dfs.items():\n",
    "    print(f\"{sheet_name} null value count:\")\n",
    "    print(df.isnull().sum())\n",
    "    print()\n"
   ]
  },
  {
   "cell_type": "markdown",
   "source": [
    "Look like there is some stock have missing prices value, we will mark them as null value and handle it later\n",
    "\n",
    "first, let change column into english, and cast data type to what we want"
   ],
   "metadata": {
    "collapsed": false
   }
  },
  {
   "cell_type": "code",
   "execution_count": null,
   "outputs": [
    {
     "name": "stdout",
     "output_type": "stream",
     "text": [
      "上市2023 data type:\n",
      "name                      object\n",
      "date              datetime64[ns]\n",
      "open                     float64\n",
      "high                     float64\n",
      "low                      float64\n",
      "close                    float64\n",
      "volume(k)                  int64\n",
      "turnover(k)                int64\n",
      "transaction                int64\n",
      "outstanding(k)             int64\n",
      "pe                       float64\n",
      "pb                       float64\n",
      "dtype: object\n",
      "\n",
      "上市2022 data type:\n",
      "name                      object\n",
      "date              datetime64[ns]\n",
      "open                     float64\n",
      "high                     float64\n",
      "low                      float64\n",
      "close                    float64\n",
      "volume(k)                  int64\n",
      "turnover(k)                int64\n",
      "transaction                int64\n",
      "outstanding(k)           float64\n",
      "pe                       float64\n",
      "pb                       float64\n",
      "dtype: object\n",
      "\n",
      "上市2021 data type:\n",
      "name                      object\n",
      "date              datetime64[ns]\n",
      "open                     float64\n",
      "high                     float64\n",
      "low                      float64\n",
      "close                    float64\n",
      "volume(k)                  int64\n",
      "turnover(k)                int64\n",
      "transaction                int64\n",
      "outstanding(k)             int64\n",
      "pe                       float64\n",
      "pb                       float64\n",
      "dtype: object\n",
      "\n",
      "上市2020 data type:\n",
      "name                      object\n",
      "date              datetime64[ns]\n",
      "open                     float64\n",
      "high                     float64\n",
      "low                      float64\n",
      "close                    float64\n",
      "volume(k)                  int64\n",
      "turnover(k)                int64\n",
      "transaction                int64\n",
      "outstanding(k)             int64\n",
      "pe                       float64\n",
      "pb                       float64\n",
      "dtype: object\n",
      "\n",
      "上市2019 data type:\n",
      "name                      object\n",
      "date              datetime64[ns]\n",
      "open                     float64\n",
      "high                     float64\n",
      "low                      float64\n",
      "close                    float64\n",
      "volume(k)                  int64\n",
      "turnover(k)                int64\n",
      "transaction                int64\n",
      "outstanding(k)             int64\n",
      "pe                       float64\n",
      "pb                       float64\n",
      "dtype: object\n",
      "\n",
      "上櫃2023 data type:\n",
      "name                      object\n",
      "date              datetime64[ns]\n",
      "open                     float64\n",
      "high                     float64\n",
      "low                      float64\n",
      "close                    float64\n",
      "volume(k)                  int64\n",
      "turnover(k)                int64\n",
      "transaction                int64\n",
      "outstanding(k)             int64\n",
      "pe                       float64\n",
      "pb                       float64\n",
      "dtype: object\n",
      "\n",
      "上櫃2022 data type:\n",
      "name                      object\n",
      "date              datetime64[ns]\n",
      "open                     float64\n",
      "high                     float64\n",
      "low                      float64\n",
      "close                    float64\n",
      "volume(k)                  int64\n",
      "turnover(k)                int64\n",
      "transaction                int64\n",
      "outstanding(k)           float64\n",
      "pe                       float64\n",
      "pb                       float64\n",
      "dtype: object\n",
      "\n",
      "上櫃2021 data type:\n",
      "name                      object\n",
      "date              datetime64[ns]\n",
      "open                     float64\n",
      "high                     float64\n",
      "low                      float64\n",
      "close                    float64\n",
      "volume(k)                  int64\n",
      "turnover(k)                int64\n",
      "transaction                int64\n",
      "outstanding(k)             int64\n",
      "pe                       float64\n",
      "pb                       float64\n",
      "dtype: object\n",
      "\n",
      "上櫃2020 data type:\n",
      "name                      object\n",
      "date              datetime64[ns]\n",
      "open                     float64\n",
      "high                     float64\n",
      "low                      float64\n",
      "close                    float64\n",
      "volume(k)                  int64\n",
      "turnover(k)                int64\n",
      "transaction                int64\n",
      "outstanding(k)             int64\n",
      "pe                       float64\n",
      "pb                       float64\n",
      "dtype: object\n",
      "\n",
      "上櫃2019 data type:\n",
      "name                      object\n",
      "date              datetime64[ns]\n",
      "open                     float64\n",
      "high                     float64\n",
      "low                      float64\n",
      "close                    float64\n",
      "volume(k)                  int64\n",
      "turnover(k)                int64\n",
      "transaction                int64\n",
      "outstanding(k)             int64\n",
      "pe                       float64\n",
      "pb                       float64\n",
      "dtype: object\n",
      "\n"
     ]
    }
   ],
   "source": [
    "for sheet_name, df in raw_stock_dfs.items():\n",
    "    # rename columns\n",
    "    df.columns = RENAMED_COLUMNS\n",
    "    # cast data\n",
    "    df['date'] = pd.to_datetime(df['date'])\n",
    "    # if name have char * replace with _\n",
    "    df['name'] = df['name'].str.replace('*', '_')\n",
    "\n",
    "# check all df data type\n",
    "for sheet_name, df in raw_stock_dfs.items():\n",
    "    print(f\"{sheet_name} data type:\")\n",
    "    print(df.dtypes)\n",
    "    print()"
   ],
   "metadata": {
    "collapsed": false,
    "pycharm": {
     "is_executing": true
    }
   }
  },
  {
   "cell_type": "markdown",
   "source": [
    "Every column data type seems correct, let make each stock a df and order by time"
   ],
   "metadata": {
    "collapsed": false
   }
  },
  {
   "cell_type": "code",
   "execution_count": null,
   "outputs": [],
   "source": [
    "# make each stock a df\n",
    "stock_dfs = dict()\n",
    "for sheet_name, df in raw_stock_dfs.items():\n",
    "    # make each stock a sheet\n",
    "    for stock_id in df['name'].unique():\n",
    "        stock_df = df[df['name'] == stock_id]\n",
    "        # if stock_dfs have stock_id, stack it\n",
    "        if stock_id in stock_dfs:\n",
    "            stock_dfs[stock_id] = pd.concat([stock_dfs[stock_id], stock_df])\n",
    "        else:\n",
    "            stock_dfs[stock_id] = stock_df"
   ],
   "metadata": {
    "collapsed": false,
    "pycharm": {
     "is_executing": true
    }
   }
  },
  {
   "cell_type": "code",
   "execution_count": null,
   "outputs": [
    {
     "data": {
      "text/plain": "'0050 元大台灣50 head:'"
     },
     "metadata": {},
     "output_type": "display_data"
    },
    {
     "data": {
      "text/plain": "               name       date      open      high       low     close   \n305781  0050 元大台灣50 2021-01-04  116.7284  118.9254  116.5373  118.7821  \\\n304538  0050 元大台灣50 2021-01-05  118.6388  119.0687  118.2090  119.0209   \n303294  0050 元大台灣50 2021-01-06  120.4537  121.4567  118.5433  120.3105   \n302050  0050 元大台灣50 2021-01-07  120.8836  123.2239  120.8836  123.1284   \n300806  0050 元大台灣50 2021-01-08  124.7523  125.3731  123.7493  125.3254   \n\n        volume(k)  turnover(k)  transaction  outstanding(k)  pe  pb  \n305781       6307       778088         5434        945500.0 NaN NaN  \n304538       4962       616480         6179        945500.0 NaN NaN  \n303294      10859      1367952         9245        945500.0 NaN NaN  \n302050       6863       877015         6299        944000.0 NaN NaN  \n300806      13298      1733821        10629        922000.0 NaN NaN  ",
      "text/html": "<div>\n<style scoped>\n    .dataframe tbody tr th:only-of-type {\n        vertical-align: middle;\n    }\n\n    .dataframe tbody tr th {\n        vertical-align: top;\n    }\n\n    .dataframe thead th {\n        text-align: right;\n    }\n</style>\n<table border=\"1\" class=\"dataframe\">\n  <thead>\n    <tr style=\"text-align: right;\">\n      <th></th>\n      <th>name</th>\n      <th>date</th>\n      <th>open</th>\n      <th>high</th>\n      <th>low</th>\n      <th>close</th>\n      <th>volume(k)</th>\n      <th>turnover(k)</th>\n      <th>transaction</th>\n      <th>outstanding(k)</th>\n      <th>pe</th>\n      <th>pb</th>\n    </tr>\n  </thead>\n  <tbody>\n    <tr>\n      <th>305781</th>\n      <td>0050 元大台灣50</td>\n      <td>2021-01-04</td>\n      <td>116.7284</td>\n      <td>118.9254</td>\n      <td>116.5373</td>\n      <td>118.7821</td>\n      <td>6307</td>\n      <td>778088</td>\n      <td>5434</td>\n      <td>945500.0</td>\n      <td>NaN</td>\n      <td>NaN</td>\n    </tr>\n    <tr>\n      <th>304538</th>\n      <td>0050 元大台灣50</td>\n      <td>2021-01-05</td>\n      <td>118.6388</td>\n      <td>119.0687</td>\n      <td>118.2090</td>\n      <td>119.0209</td>\n      <td>4962</td>\n      <td>616480</td>\n      <td>6179</td>\n      <td>945500.0</td>\n      <td>NaN</td>\n      <td>NaN</td>\n    </tr>\n    <tr>\n      <th>303294</th>\n      <td>0050 元大台灣50</td>\n      <td>2021-01-06</td>\n      <td>120.4537</td>\n      <td>121.4567</td>\n      <td>118.5433</td>\n      <td>120.3105</td>\n      <td>10859</td>\n      <td>1367952</td>\n      <td>9245</td>\n      <td>945500.0</td>\n      <td>NaN</td>\n      <td>NaN</td>\n    </tr>\n    <tr>\n      <th>302050</th>\n      <td>0050 元大台灣50</td>\n      <td>2021-01-07</td>\n      <td>120.8836</td>\n      <td>123.2239</td>\n      <td>120.8836</td>\n      <td>123.1284</td>\n      <td>6863</td>\n      <td>877015</td>\n      <td>6299</td>\n      <td>944000.0</td>\n      <td>NaN</td>\n      <td>NaN</td>\n    </tr>\n    <tr>\n      <th>300806</th>\n      <td>0050 元大台灣50</td>\n      <td>2021-01-08</td>\n      <td>124.7523</td>\n      <td>125.3731</td>\n      <td>123.7493</td>\n      <td>125.3254</td>\n      <td>13298</td>\n      <td>1733821</td>\n      <td>10629</td>\n      <td>922000.0</td>\n      <td>NaN</td>\n      <td>NaN</td>\n    </tr>\n  </tbody>\n</table>\n</div>"
     },
     "metadata": {},
     "output_type": "display_data"
    },
    {
     "name": "stdout",
     "output_type": "stream",
     "text": [
      "\n"
     ]
    },
    {
     "data": {
      "text/plain": "'0051 元大中型100 head:'"
     },
     "metadata": {},
     "output_type": "display_data"
    },
    {
     "data": {
      "text/plain": "                name       date     open     high      low    close   \n305782  0051 元大中型100 2021-01-04  43.1954  43.3411  42.9038  43.3411  \\\n304539  0051 元大中型100 2021-01-05  43.3411  43.4772  43.1370  43.3800   \n303295  0051 元大中型100 2021-01-06  43.5355  43.8464  42.7581  43.0204   \n302051  0051 元大中型100 2021-01-07  43.1565  43.3606  43.0496  43.2828   \n300807  0051 元大中型100 2021-01-08  43.4189  43.5160  43.2439  43.5160   \n\n        volume(k)  turnover(k)  transaction  outstanding(k)  pe  pb  \n305782         32         1424           35         10000.0 NaN NaN  \n304539        175         7827           44         10000.0 NaN NaN  \n303295        102         4556           77         10000.0 NaN NaN  \n302051         65         2919           61         10000.0 NaN NaN  \n300807        137         6127           50         10000.0 NaN NaN  ",
      "text/html": "<div>\n<style scoped>\n    .dataframe tbody tr th:only-of-type {\n        vertical-align: middle;\n    }\n\n    .dataframe tbody tr th {\n        vertical-align: top;\n    }\n\n    .dataframe thead th {\n        text-align: right;\n    }\n</style>\n<table border=\"1\" class=\"dataframe\">\n  <thead>\n    <tr style=\"text-align: right;\">\n      <th></th>\n      <th>name</th>\n      <th>date</th>\n      <th>open</th>\n      <th>high</th>\n      <th>low</th>\n      <th>close</th>\n      <th>volume(k)</th>\n      <th>turnover(k)</th>\n      <th>transaction</th>\n      <th>outstanding(k)</th>\n      <th>pe</th>\n      <th>pb</th>\n    </tr>\n  </thead>\n  <tbody>\n    <tr>\n      <th>305782</th>\n      <td>0051 元大中型100</td>\n      <td>2021-01-04</td>\n      <td>43.1954</td>\n      <td>43.3411</td>\n      <td>42.9038</td>\n      <td>43.3411</td>\n      <td>32</td>\n      <td>1424</td>\n      <td>35</td>\n      <td>10000.0</td>\n      <td>NaN</td>\n      <td>NaN</td>\n    </tr>\n    <tr>\n      <th>304539</th>\n      <td>0051 元大中型100</td>\n      <td>2021-01-05</td>\n      <td>43.3411</td>\n      <td>43.4772</td>\n      <td>43.1370</td>\n      <td>43.3800</td>\n      <td>175</td>\n      <td>7827</td>\n      <td>44</td>\n      <td>10000.0</td>\n      <td>NaN</td>\n      <td>NaN</td>\n    </tr>\n    <tr>\n      <th>303295</th>\n      <td>0051 元大中型100</td>\n      <td>2021-01-06</td>\n      <td>43.5355</td>\n      <td>43.8464</td>\n      <td>42.7581</td>\n      <td>43.0204</td>\n      <td>102</td>\n      <td>4556</td>\n      <td>77</td>\n      <td>10000.0</td>\n      <td>NaN</td>\n      <td>NaN</td>\n    </tr>\n    <tr>\n      <th>302051</th>\n      <td>0051 元大中型100</td>\n      <td>2021-01-07</td>\n      <td>43.1565</td>\n      <td>43.3606</td>\n      <td>43.0496</td>\n      <td>43.2828</td>\n      <td>65</td>\n      <td>2919</td>\n      <td>61</td>\n      <td>10000.0</td>\n      <td>NaN</td>\n      <td>NaN</td>\n    </tr>\n    <tr>\n      <th>300807</th>\n      <td>0051 元大中型100</td>\n      <td>2021-01-08</td>\n      <td>43.4189</td>\n      <td>43.5160</td>\n      <td>43.2439</td>\n      <td>43.5160</td>\n      <td>137</td>\n      <td>6127</td>\n      <td>50</td>\n      <td>10000.0</td>\n      <td>NaN</td>\n      <td>NaN</td>\n    </tr>\n  </tbody>\n</table>\n</div>"
     },
     "metadata": {},
     "output_type": "display_data"
    },
    {
     "name": "stdout",
     "output_type": "stream",
     "text": [
      "\n"
     ]
    },
    {
     "data": {
      "text/plain": "'0052 富邦科技 head:'"
     },
     "metadata": {},
     "output_type": "display_data"
    },
    {
     "data": {
      "text/plain": "             name       date      open      high       low     close   \n305783  0052 富邦科技 2021-01-04  109.7031  111.3894  109.7031  111.1910  \\\n304540  0052 富邦科技 2021-01-05  111.1910  111.9845  110.2487  111.9845   \n303296  0052 富邦科技 2021-01-06  113.5715  114.4146  111.3894  112.6788   \n302052  0052 富邦科技 2021-01-07  114.0179  116.2000  113.4723  115.8529   \n300808  0052 富邦科技 2021-01-08  118.0350  118.5310  117.1919  118.5310   \n\n        volume(k)  turnover(k)  transaction  outstanding(k)  pe  pb  \n305783       1079       120653          549         36500.0 NaN NaN  \n304540       1536       172232          673         37000.0 NaN NaN  \n303296        864        98497          743         37500.0 NaN NaN  \n302052        817        94932          810         37500.0 NaN NaN  \n300808       1244       148170          849         38000.0 NaN NaN  ",
      "text/html": "<div>\n<style scoped>\n    .dataframe tbody tr th:only-of-type {\n        vertical-align: middle;\n    }\n\n    .dataframe tbody tr th {\n        vertical-align: top;\n    }\n\n    .dataframe thead th {\n        text-align: right;\n    }\n</style>\n<table border=\"1\" class=\"dataframe\">\n  <thead>\n    <tr style=\"text-align: right;\">\n      <th></th>\n      <th>name</th>\n      <th>date</th>\n      <th>open</th>\n      <th>high</th>\n      <th>low</th>\n      <th>close</th>\n      <th>volume(k)</th>\n      <th>turnover(k)</th>\n      <th>transaction</th>\n      <th>outstanding(k)</th>\n      <th>pe</th>\n      <th>pb</th>\n    </tr>\n  </thead>\n  <tbody>\n    <tr>\n      <th>305783</th>\n      <td>0052 富邦科技</td>\n      <td>2021-01-04</td>\n      <td>109.7031</td>\n      <td>111.3894</td>\n      <td>109.7031</td>\n      <td>111.1910</td>\n      <td>1079</td>\n      <td>120653</td>\n      <td>549</td>\n      <td>36500.0</td>\n      <td>NaN</td>\n      <td>NaN</td>\n    </tr>\n    <tr>\n      <th>304540</th>\n      <td>0052 富邦科技</td>\n      <td>2021-01-05</td>\n      <td>111.1910</td>\n      <td>111.9845</td>\n      <td>110.2487</td>\n      <td>111.9845</td>\n      <td>1536</td>\n      <td>172232</td>\n      <td>673</td>\n      <td>37000.0</td>\n      <td>NaN</td>\n      <td>NaN</td>\n    </tr>\n    <tr>\n      <th>303296</th>\n      <td>0052 富邦科技</td>\n      <td>2021-01-06</td>\n      <td>113.5715</td>\n      <td>114.4146</td>\n      <td>111.3894</td>\n      <td>112.6788</td>\n      <td>864</td>\n      <td>98497</td>\n      <td>743</td>\n      <td>37500.0</td>\n      <td>NaN</td>\n      <td>NaN</td>\n    </tr>\n    <tr>\n      <th>302052</th>\n      <td>0052 富邦科技</td>\n      <td>2021-01-07</td>\n      <td>114.0179</td>\n      <td>116.2000</td>\n      <td>113.4723</td>\n      <td>115.8529</td>\n      <td>817</td>\n      <td>94932</td>\n      <td>810</td>\n      <td>37500.0</td>\n      <td>NaN</td>\n      <td>NaN</td>\n    </tr>\n    <tr>\n      <th>300808</th>\n      <td>0052 富邦科技</td>\n      <td>2021-01-08</td>\n      <td>118.0350</td>\n      <td>118.5310</td>\n      <td>117.1919</td>\n      <td>118.5310</td>\n      <td>1244</td>\n      <td>148170</td>\n      <td>849</td>\n      <td>38000.0</td>\n      <td>NaN</td>\n      <td>NaN</td>\n    </tr>\n  </tbody>\n</table>\n</div>"
     },
     "metadata": {},
     "output_type": "display_data"
    },
    {
     "name": "stdout",
     "output_type": "stream",
     "text": [
      "\n"
     ]
    }
   ],
   "source": [
    "# order by time\n",
    "for stock_id, df in stock_dfs.items():\n",
    "    stock_dfs[stock_id] = df.sort_values(by='date')\n",
    "\n",
    "# preview 5 stocks head\n",
    "for stock_id, df in list(stock_dfs.items())[:3]:\n",
    "    display(f\"{stock_id} head:\")\n",
    "    display(df.head())\n",
    "    print()"
   ],
   "metadata": {
    "collapsed": false,
    "pycharm": {
     "is_executing": true
    }
   }
  },
  {
   "cell_type": "markdown",
   "source": [
    "Now we make metadata for all stock, this should include row_cnt, have_null_price, missing_rows_cnt"
   ],
   "metadata": {
    "collapsed": false
   }
  },
  {
   "cell_type": "code",
   "execution_count": 56,
   "outputs": [
    {
     "data": {
      "text/plain": "              row_cnt have_null_price stock_type\n0050 元大台灣50       539           False         上櫃\n0051 元大中型100      539           False         上櫃\n0052 富邦科技         539           False         上櫃\n0053 元大電子         539           False         上櫃\n0055 元大MSCI金融     539           False         上櫃",
      "text/html": "<div>\n<style scoped>\n    .dataframe tbody tr th:only-of-type {\n        vertical-align: middle;\n    }\n\n    .dataframe tbody tr th {\n        vertical-align: top;\n    }\n\n    .dataframe thead th {\n        text-align: right;\n    }\n</style>\n<table border=\"1\" class=\"dataframe\">\n  <thead>\n    <tr style=\"text-align: right;\">\n      <th></th>\n      <th>row_cnt</th>\n      <th>have_null_price</th>\n      <th>stock_type</th>\n    </tr>\n  </thead>\n  <tbody>\n    <tr>\n      <th>0050 元大台灣50</th>\n      <td>539</td>\n      <td>False</td>\n      <td>上櫃</td>\n    </tr>\n    <tr>\n      <th>0051 元大中型100</th>\n      <td>539</td>\n      <td>False</td>\n      <td>上櫃</td>\n    </tr>\n    <tr>\n      <th>0052 富邦科技</th>\n      <td>539</td>\n      <td>False</td>\n      <td>上櫃</td>\n    </tr>\n    <tr>\n      <th>0053 元大電子</th>\n      <td>539</td>\n      <td>False</td>\n      <td>上櫃</td>\n    </tr>\n    <tr>\n      <th>0055 元大MSCI金融</th>\n      <td>539</td>\n      <td>False</td>\n      <td>上櫃</td>\n    </tr>\n  </tbody>\n</table>\n</div>"
     },
     "execution_count": 56,
     "metadata": {},
     "output_type": "execute_result"
    }
   ],
   "source": [
    "# make metadata for all stock\n",
    "stock_metadata = dict()\n",
    "for stock_id, df in stock_dfs.items():\n",
    "    # get row count\n",
    "    row_cnt = df.shape[0]\n",
    "    # check if there is any null price\n",
    "    have_null_price = df['close'].isnull().any()\n",
    "    stock_metadata[stock_id] = {\n",
    "        'row_cnt': row_cnt,\n",
    "        'have_null_price': have_null_price\n",
    "    }\n",
    "# check type 上市 or 上櫃\n",
    "for sheet_name, df in raw_stock_dfs.items():\n",
    "    stock_type = \"上市\" if sheet_name == \"上市股票\" else \"上櫃\"\n",
    "    for stock_id in df['name'].unique():\n",
    "        stock_metadata[stock_id]['stock_type'] = stock_type\n",
    "# convert to df\n",
    "stock_metadata_df = pd.DataFrame(stock_metadata).T\n",
    "stock_metadata_df.head()"
   ],
   "metadata": {
    "collapsed": false
   }
  },
  {
   "cell_type": "markdown",
   "source": [
    "Save metadata and stock dfs to excel, each df will be a sheet"
   ],
   "metadata": {
    "collapsed": false
   }
  },
  {
   "cell_type": "code",
   "execution_count": 58,
   "outputs": [
    {
     "name": "stdout",
     "output_type": "stream",
     "text": [
      "Unexpected exception formatting exception. Falling back to standard exception\n"
     ]
    },
    {
     "name": "stderr",
     "output_type": "stream",
     "text": [
      "Traceback (most recent call last):\n",
      "  File \"/var/folders/36/xrq0hvyj4t1g49sh7nhx56c00000gn/T/ipykernel_14292/983899689.py\", line 5, in <module>\n",
      "    df.to_excel(writer, sheet_name=stock_id, index=False)\n",
      "  File \"/Users/Ethan/Developer/Projects/College/大四下/數據分析/期中/venv/lib/python3.11/site-packages/pandas/core/generic.py\", line 2252, in to_excel\n",
      "    formatter.write(\n",
      "  File \"/Users/Ethan/Developer/Projects/College/大四下/數據分析/期中/venv/lib/python3.11/site-packages/pandas/io/formats/excel.py\", line 940, in write\n",
      "    writer._write_cells(\n",
      "  File \"/Users/Ethan/Developer/Projects/College/大四下/數據分析/期中/venv/lib/python3.11/site-packages/pandas/io/excel/_openpyxl.py\", line 454, in _write_cells\n",
      "    if sheet_name in self.sheets and self._if_sheet_exists != \"new\":\n",
      "                     ^^^^^^^^^^^\n",
      "  File \"/Users/Ethan/Developer/Projects/College/大四下/數據分析/期中/venv/lib/python3.11/site-packages/pandas/io/excel/_openpyxl.py\", line 102, in sheets\n",
      "    result = {name: self.book[name] for name in self.book.sheetnames}\n",
      "             ^^^^^^^^^^^^^^^^^^^^^^^^^^^^^^^^^^^^^^^^^^^^^^^^^^^^^^^^\n",
      "  File \"/Users/Ethan/Developer/Projects/College/大四下/數據分析/期中/venv/lib/python3.11/site-packages/pandas/io/excel/_openpyxl.py\", line 102, in <dictcomp>\n",
      "    result = {name: self.book[name] for name in self.book.sheetnames}\n",
      "                    ~~~~~~~~~^^^^^^\n",
      "  File \"/Users/Ethan/Developer/Projects/College/大四下/數據分析/期中/venv/lib/python3.11/site-packages/openpyxl/workbook/workbook.py\", line 284, in __getitem__\n",
      "    for sheet in self.worksheets + self.chartsheets:\n",
      "                 ^^^^^^^^^^^^^^^\n",
      "  File \"/Users/Ethan/Developer/Projects/College/大四下/數據分析/期中/venv/lib/python3.11/site-packages/openpyxl/workbook/workbook.py\", line 307, in worksheets\n",
      "    return [s for s in self._sheets if isinstance(s, (Worksheet, ReadOnlyWorksheet, WriteOnlyWorksheet))]\n",
      "           ^^^^^^^^^^^^^^^^^^^^^^^^^^^^^^^^^^^^^^^^^^^^^^^^^^^^^^^^^^^^^^^^^^^^^^^^^^^^^^^^^^^^^^^^^^^^^^\n",
      "  File \"/Users/Ethan/Developer/Projects/College/大四下/數據分析/期中/venv/lib/python3.11/site-packages/openpyxl/workbook/workbook.py\", line 307, in <listcomp>\n",
      "    return [s for s in self._sheets if isinstance(s, (Worksheet, ReadOnlyWorksheet, WriteOnlyWorksheet))]\n",
      "           ^^^^^^^^^^^^^^^^^^^^^^^^^^^^^^^^^^^^^^^^^^^^^^^^^^^^^^^^^^^^^^^^^^^^^^^^^^^^^^^^^^^^^^^^^^^^^^\n",
      "KeyboardInterrupt\n",
      "\n",
      "During handling of the above exception, another exception occurred:\n",
      "\n",
      "Traceback (most recent call last):\n",
      "  File \"/Users/Ethan/Developer/Projects/College/大四下/數據分析/期中/venv/lib/python3.11/site-packages/IPython/core/interactiveshell.py\", line 3505, in run_code\n",
      "    exec(code_obj, self.user_global_ns, self.user_ns)\n",
      "  File \"/var/folders/36/xrq0hvyj4t1g49sh7nhx56c00000gn/T/ipykernel_14292/983899689.py\", line 2, in <module>\n",
      "    with pd.ExcelWriter(Path(ORGANIZED_DATASET_DIR, ORGANIZED_DATASET_NAME)) as writer:\n",
      "  File \"/Users/Ethan/Developer/Projects/College/大四下/數據分析/期中/venv/lib/python3.11/site-packages/pandas/io/excel/_base.py\", line 1322, in __exit__\n",
      "    self.close()\n",
      "  File \"/Users/Ethan/Developer/Projects/College/大四下/數據分析/期中/venv/lib/python3.11/site-packages/pandas/io/excel/_base.py\", line 1326, in close\n",
      "    self._save()\n",
      "  File \"/Users/Ethan/Developer/Projects/College/大四下/數據分析/期中/venv/lib/python3.11/site-packages/pandas/io/excel/_openpyxl.py\", line 109, in _save\n",
      "    self.book.save(self._handles.handle)\n",
      "  File \"/Users/Ethan/Developer/Projects/College/大四下/數據分析/期中/venv/lib/python3.11/site-packages/openpyxl/workbook/workbook.py\", line 386, in save\n",
      "    save_workbook(self, filename)\n",
      "  File \"/Users/Ethan/Developer/Projects/College/大四下/數據分析/期中/venv/lib/python3.11/site-packages/openpyxl/writer/excel.py\", line 294, in save_workbook\n",
      "    writer.save()\n",
      "  File \"/Users/Ethan/Developer/Projects/College/大四下/數據分析/期中/venv/lib/python3.11/site-packages/openpyxl/writer/excel.py\", line 275, in save\n",
      "    self.write_data()\n",
      "  File \"/Users/Ethan/Developer/Projects/College/大四下/數據分析/期中/venv/lib/python3.11/site-packages/openpyxl/writer/excel.py\", line 77, in write_data\n",
      "    self._write_worksheets()\n",
      "  File \"/Users/Ethan/Developer/Projects/College/大四下/數據分析/期中/venv/lib/python3.11/site-packages/openpyxl/writer/excel.py\", line 215, in _write_worksheets\n",
      "    self.write_worksheet(ws)\n",
      "  File \"/Users/Ethan/Developer/Projects/College/大四下/數據分析/期中/venv/lib/python3.11/site-packages/openpyxl/writer/excel.py\", line 200, in write_worksheet\n",
      "    writer.write()\n",
      "  File \"/Users/Ethan/Developer/Projects/College/大四下/數據分析/期中/venv/lib/python3.11/site-packages/openpyxl/worksheet/_writer.py\", line 361, in write\n",
      "    self.close()\n",
      "  File \"/Users/Ethan/Developer/Projects/College/大四下/數據分析/期中/venv/lib/python3.11/site-packages/openpyxl/worksheet/_writer.py\", line 369, in close\n",
      "    self.xf.close()\n",
      "  File \"/Users/Ethan/Developer/Projects/College/大四下/數據分析/期中/venv/lib/python3.11/site-packages/openpyxl/worksheet/_writer.py\", line 289, in get_stream\n",
      "    with xf.element(\"worksheet\", xmlns=SHEET_MAIN_NS):\n",
      "  File \"/Library/Frameworks/Python.framework/Versions/3.11/lib/python3.11/contextlib.py\", line 144, in __exit__\n",
      "    next(self.gen)\n",
      "  File \"/Users/Ethan/Developer/Projects/College/大四下/數據分析/期中/venv/lib/python3.11/site-packages/et_xmlfile/xmlfile.py\", line 50, in element\n",
      "    self._write_element(el)\n",
      "  File \"/Users/Ethan/Developer/Projects/College/大四下/數據分析/期中/venv/lib/python3.11/site-packages/et_xmlfile/xmlfile.py\", line 77, in _write_element\n",
      "    xml = tostring(element)\n",
      "          ^^^^^^^^^^^^^^^^^\n",
      "  File \"/Library/Frameworks/Python.framework/Versions/3.11/lib/python3.11/xml/etree/ElementTree.py\", line 1098, in tostring\n",
      "    ElementTree(element).write(stream, encoding,\n",
      "  File \"/Library/Frameworks/Python.framework/Versions/3.11/lib/python3.11/xml/etree/ElementTree.py\", line 741, in write\n",
      "    qnames, namespaces = _namespaces(self._root, default_namespace)\n",
      "                         ^^^^^^^^^^^^^^^^^^^^^^^^^^^^^^^^^^^^^^^^^^\n",
      "  File \"/Library/Frameworks/Python.framework/Versions/3.11/lib/python3.11/xml/etree/ElementTree.py\", line -1, in _namespaces\n",
      "KeyboardInterrupt\n",
      "\n",
      "During handling of the above exception, another exception occurred:\n",
      "\n",
      "Traceback (most recent call last):\n",
      "  File \"/Users/Ethan/Developer/Projects/College/大四下/數據分析/期中/venv/lib/python3.11/site-packages/IPython/core/interactiveshell.py\", line 2102, in showtraceback\n",
      "    stb = self.InteractiveTB.structured_traceback(\n",
      "          ^^^^^^^^^^^^^^^^^^^^^^^^^^^^^^^^^^^^^^^^\n",
      "  File \"/Users/Ethan/Developer/Projects/College/大四下/數據分析/期中/venv/lib/python3.11/site-packages/IPython/core/ultratb.py\", line 1310, in structured_traceback\n",
      "    return FormattedTB.structured_traceback(\n",
      "           ^^^^^^^^^^^^^^^^^^^^^^^^^^^^^^^^^\n",
      "  File \"/Users/Ethan/Developer/Projects/College/大四下/數據分析/期中/venv/lib/python3.11/site-packages/IPython/core/ultratb.py\", line 1199, in structured_traceback\n",
      "    return VerboseTB.structured_traceback(\n",
      "           ^^^^^^^^^^^^^^^^^^^^^^^^^^^^^^^\n",
      "  File \"/Users/Ethan/Developer/Projects/College/大四下/數據分析/期中/venv/lib/python3.11/site-packages/IPython/core/ultratb.py\", line 1052, in structured_traceback\n",
      "    formatted_exception = self.format_exception_as_a_whole(etype, evalue, etb, number_of_lines_of_context,\n",
      "                          ^^^^^^^^^^^^^^^^^^^^^^^^^^^^^^^^^^^^^^^^^^^^^^^^^^^^^^^^^^^^^^^^^^^^^^^^^^^^^^^^\n",
      "  File \"/Users/Ethan/Developer/Projects/College/大四下/數據分析/期中/venv/lib/python3.11/site-packages/IPython/core/ultratb.py\", line 978, in format_exception_as_a_whole\n",
      "    frames.append(self.format_record(record))\n",
      "                  ^^^^^^^^^^^^^^^^^^^^^^^^^^\n",
      "  File \"/Users/Ethan/Developer/Projects/College/大四下/數據分析/期中/venv/lib/python3.11/site-packages/IPython/core/ultratb.py\", line 878, in format_record\n",
      "    frame_info.lines, Colors, self.has_colors, lvals\n",
      "    ^^^^^^^^^^^^^^^^\n",
      "  File \"/Users/Ethan/Developer/Projects/College/大四下/數據分析/期中/venv/lib/python3.11/site-packages/IPython/core/ultratb.py\", line 712, in lines\n",
      "    return self._sd.lines\n",
      "           ^^^^^^^^^^^^^^\n",
      "  File \"/Users/Ethan/Developer/Projects/College/大四下/數據分析/期中/venv/lib/python3.11/site-packages/stack_data/utils.py\", line 144, in cached_property_wrapper\n",
      "    value = obj.__dict__[self.func.__name__] = self.func(obj)\n",
      "                                               ^^^^^^^^^^^^^^\n",
      "  File \"/Users/Ethan/Developer/Projects/College/大四下/數據分析/期中/venv/lib/python3.11/site-packages/stack_data/core.py\", line 734, in lines\n",
      "    pieces = self.included_pieces\n",
      "             ^^^^^^^^^^^^^^^^^^^^\n",
      "  File \"/Users/Ethan/Developer/Projects/College/大四下/數據分析/期中/venv/lib/python3.11/site-packages/stack_data/utils.py\", line 144, in cached_property_wrapper\n",
      "    value = obj.__dict__[self.func.__name__] = self.func(obj)\n",
      "                                               ^^^^^^^^^^^^^^\n",
      "  File \"/Users/Ethan/Developer/Projects/College/大四下/數據分析/期中/venv/lib/python3.11/site-packages/stack_data/core.py\", line 681, in included_pieces\n",
      "    pos = scope_pieces.index(self.executing_piece)\n",
      "                             ^^^^^^^^^^^^^^^^^^^^\n",
      "  File \"/Users/Ethan/Developer/Projects/College/大四下/數據分析/期中/venv/lib/python3.11/site-packages/stack_data/utils.py\", line 144, in cached_property_wrapper\n",
      "    value = obj.__dict__[self.func.__name__] = self.func(obj)\n",
      "                                               ^^^^^^^^^^^^^^\n",
      "  File \"/Users/Ethan/Developer/Projects/College/大四下/數據分析/期中/venv/lib/python3.11/site-packages/stack_data/core.py\", line 660, in executing_piece\n",
      "    return only(\n",
      "           ^^^^^\n",
      "  File \"/Users/Ethan/Developer/Projects/College/大四下/數據分析/期中/venv/lib/python3.11/site-packages/executing/executing.py\", line 190, in only\n",
      "    raise NotOneValueFound('Expected one value, found 0')\n",
      "executing.executing.NotOneValueFound: Expected one value, found 0\n"
     ]
    }
   ],
   "source": [
    "# save to excel\n",
    "with pd.ExcelWriter(Path(ORGANIZED_DATASET_DIR, ORGANIZED_DATASET_NAME)) as writer:\n",
    "    stock_metadata_df.to_excel(writer, sheet_name='metadata')\n",
    "    for stock_id, df in stock_dfs.items():\n",
    "        df.to_excel(writer, sheet_name=stock_id, index=False)\n"
   ],
   "metadata": {
    "collapsed": false
   }
  },
  {
   "cell_type": "code",
   "execution_count": null,
   "outputs": [],
   "source": [
    "# print stock df which have character *\n",
    "for stock_id, df in stock_dfs.items():\n",
    "    if '*' in stock_id:\n",
    "        print(stock_id)"
   ],
   "metadata": {
    "collapsed": false
   }
  },
  {
   "cell_type": "markdown",
   "source": [
    "Check every thing is correct"
   ],
   "metadata": {
    "collapsed": false
   }
  },
  {
   "cell_type": "code",
   "execution_count": null,
   "outputs": [],
   "source": [
    "# check every thing is correct\n",
    "with pd.ExcelFile(Path(ORGANIZED_DATASET_DIR, ORGANIZED_DATASET_NAME)) as excel_file:\n",
    "    # get sheet names\n",
    "    sheet_names = excel_file.sheet_names\n",
    "    # load all sheets\n",
    "    dfs = {sheet_name: excel_file.parse(sheet_name) for sheet_name in sheet_names}\n",
    "    # check metadata\n",
    "    metadata_df = dfs['metadata']\n",
    "    display(\"metadata:\")\n",
    "    display(metadata_df.head())\n",
    "    print()\n",
    "\n",
    "    # check random 3 stocks\n",
    "    for stock_id in list(dfs.keys())[1:4]:\n",
    "        display(f\"{stock_id} head:\")\n",
    "        display(dfs[stock_id].head())\n",
    "        print()\n"
   ],
   "metadata": {
    "collapsed": false
   }
  }
 ],
 "metadata": {
  "kernelspec": {
   "display_name": "Python 3",
   "language": "python",
   "name": "python3"
  },
  "language_info": {
   "codemirror_mode": {
    "name": "ipython",
    "version": 3
   },
   "file_extension": ".py",
   "mimetype": "text/x-python",
   "name": "python",
   "nbconvert_exporter": "python",
   "pygments_lexer": "ipython3",
   "version": "3.11.2"
  }
 },
 "nbformat": 4,
 "nbformat_minor": 0
}
