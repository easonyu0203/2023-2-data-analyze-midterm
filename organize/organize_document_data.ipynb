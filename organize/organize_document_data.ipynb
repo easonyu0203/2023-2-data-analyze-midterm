{
 "cells": [
  {
   "attachments": {},
   "cell_type": "markdown",
   "metadata": {
    "collapsed": false
   },
   "source": [
    "# Organize Article Dataset\n",
    "The raw dataset is a little messy, in this notebook, we aim to process dataset to became more structured, here is main steps:\n",
    "1. Remove unused columns\n",
    "2. covert data types( exp: post_time to datetime)\n",
    "3. for each year/kind we make a new csv file\n",
    "4. each year stock data separate to a csv file"
   ]
  },
  {
   "cell_type": "code",
   "execution_count": 1,
   "metadata": {
    "collapsed": true
   },
   "outputs": [
    {
     "data": {
      "text/plain": "'C:\\\\Users\\\\break\\\\Projects\\\\College\\\\大四下\\\\DatAnalysis\\\\2023-2-data-analyze-midterm'"
     },
     "execution_count": 1,
     "metadata": {},
     "output_type": "execute_result"
    }
   ],
   "source": [
    "import pandas as pd\n",
    "from pathlib import Path\n",
    "from typing import Literal\n",
    "import os\n",
    "\n",
    "folder_name = \"organize\"\n",
    "if folder_name in os.getcwd():\n",
    "    os.chdir(os.path.abspath(os.pardir))\n",
    "%pwd"
   ]
  },
  {
   "cell_type": "markdown",
   "metadata": {
    "collapsed": false
   },
   "source": [
    "# Configuration"
   ]
  },
  {
   "cell_type": "code",
   "execution_count": 2,
   "metadata": {
    "collapsed": false
   },
   "outputs": [],
   "source": [
    "DATA_DIR = \"./bda2023_mid_dataset\"\n",
    "ORGANIZED_DATASET_DIR = \"./organized_data\"\n",
    "ORGANIZED_DATASET_NAME = \"documents.csv\"\n",
    "RAW_DATASET_NAMES = {\n",
    "    'bbs_2019_2021': \"bda2023_mid_bbs_2019-2021.csv\",\n",
    "    'bbs_2022_2023' : \"bda2023_mid_bbs_2022-2023.csv\",\n",
    "    'forum_2019' : \"bda2023_mid_forum_2019.csv\",\n",
    "    'forum_2020' : \"bda2023_mid_forum_2020.csv\",\n",
    "    'forum_2021' : \"bda2023_mid_forum_2021.csv\",\n",
    "    'forum_2022_2023' : \"bda2023_mid_forum_2022-2023.csv\",\n",
    "    'news_2019' : \"bda2023_mid_news_2019.csv\",\n",
    "    'news_2020' : \"bda2023_mid_news_2020.csv\",\n",
    "    'news_2021' : \"bda2023_mid_news_2021.csv\",\n",
    "    'news_2022' : \"bda2023_mid_news_2022.csv\",\n",
    "    'news_2022_2023' : \"bda2023_mid_news_2022-2023.csv\",\n",
    "    'news_2023' : \"bda2023_mid_news_2023.csv\",\n",
    "}"
   ]
  },
  {
   "attachments": {},
   "cell_type": "markdown",
   "metadata": {},
   "source": [
    "# Utility functions"
   ]
  },
  {
   "cell_type": "code",
   "execution_count": 3,
   "metadata": {
    "collapsed": false
   },
   "outputs": [],
   "source": [
    "def have_same_columns(*dfs):\n",
    "    \"\"\"check df have same columns or not\"\"\"\n",
    "    for i in range(len(dfs)):\n",
    "        for j in range(i + 1, len(dfs)):\n",
    "            if not dfs[i].columns.equals(dfs[j].columns):\n",
    "                print(f\"columns of {i} and {j} are not equal\")\n",
    "                return False\n",
    "    return True\n",
    "\n",
    "\n",
    "def get_article_dfs_by_type(article_type: Literal['bbs', 'forum', 'news']) -> pd.DataFrame:\n",
    "    \"\"\"\n",
    "    get article dfs by type, type can be bbs, forum, news\n",
    "    return a dataframe that contains all data of that type.\n",
    "    exp: get_article_dfs_by_type('bbs') will return a dataframe that contains all bbs data from 2019 to 2023\n",
    "    \"\"\"\n",
    "    raw_dataset_paths = {k: Path(DATA_DIR, v) for k, v in RAW_DATASET_NAMES.items()}\n",
    "    dfs = [pd.read_csv(file_path) for k, file_path in raw_dataset_paths.items() if k.startswith(article_type)]\n",
    "    assert have_same_columns(*dfs)\n",
    "    df = pd.concat(dfs)\n",
    "    return df"
   ]
  },
  {
   "attachments": {},
   "cell_type": "markdown",
   "metadata": {},
   "source": [
    "# Research\n",
    "before we start preprocessing the dataset, we first need to have a brief idea of what the dataset looks like"
   ]
  },
  {
   "cell_type": "code",
   "execution_count": 4,
   "metadata": {},
   "outputs": [
    {
     "data": {
      "text/plain": "                     id p_type s_name s_area_name            post_time   \n0  1546274852018_PTT02R    bbs    Ptt       Stock  2019-01-01 00:31:32  \\\n1  1546278287622_PTT02R    bbs    Ptt       Stock  2019-01-01 01:28:28   \n2  1546278288500_PTT02R    bbs    Ptt       Stock  2019-01-01 01:32:39   \n3  1546298530556_PTT02R    bbs    Ptt       Stock  2019-01-01 07:07:37   \n4  1546299585726_PTT02R    bbs    Ptt       Stock  2019-01-01 07:35:29   \n\n                             title   author   \n0      [公告] n199808m HitMaker 警告一次  eyespot  \\\n1     Re: [新聞] 貿戰讓台商錢匯不出？ 海基會：漣漪效應   CGDGAD   \n2  Re: [新聞] 貿易戰搶出口 透支效應2019衝擊中國經濟!   americ   \n3        Re: [新聞]  陸媒：俄羅斯想聯手中國去美元化   taco13   \n4                  [標的] (伺機作多)日元正二     hrma   \n\n                                             content   \n0  1. 主旨：n199808m 違反板規4-2-1 警告一次          HitMake...  \\\n1  小弟有個想法不知可不可行 如果有人民幣想洗出來 出國一趟，比方去歐洲 用海外刷卡買黃金，存在...   \n2  分身帳號好像要連坐水桶  《ＩＤ暱稱》tangolosss (配息配股變成大富翁)《經濟狀況...   \n3  所以說不要小看俄羅斯的險惡奸詐  俄國一直鼓勵中國發展人民幣石油 去美元化的種種行為  俄羅...   \n4  1. 標的：元大日元指數正二  2. 分類：(伺機作多)多  3. 分析/正文：     (...   \n\n                                            page_url  \n0  http://www.ptt.cc/bbs/Stock/M.1546273895.A.81F...  \n1  http://www.ptt.cc/bbs/Stock/M.1546277311.A.1D3...  \n2  http://www.ptt.cc/bbs/Stock/M.1546277562.A.F7E...  \n3  http://www.ptt.cc/bbs/Stock/M.1546297660.A.928...  \n4  http://www.ptt.cc/bbs/Stock/M.1546299333.A.8D3...  ",
      "text/html": "<div>\n<style scoped>\n    .dataframe tbody tr th:only-of-type {\n        vertical-align: middle;\n    }\n\n    .dataframe tbody tr th {\n        vertical-align: top;\n    }\n\n    .dataframe thead th {\n        text-align: right;\n    }\n</style>\n<table border=\"1\" class=\"dataframe\">\n  <thead>\n    <tr style=\"text-align: right;\">\n      <th></th>\n      <th>id</th>\n      <th>p_type</th>\n      <th>s_name</th>\n      <th>s_area_name</th>\n      <th>post_time</th>\n      <th>title</th>\n      <th>author</th>\n      <th>content</th>\n      <th>page_url</th>\n    </tr>\n  </thead>\n  <tbody>\n    <tr>\n      <th>0</th>\n      <td>1546274852018_PTT02R</td>\n      <td>bbs</td>\n      <td>Ptt</td>\n      <td>Stock</td>\n      <td>2019-01-01 00:31:32</td>\n      <td>[公告] n199808m HitMaker 警告一次</td>\n      <td>eyespot</td>\n      <td>1. 主旨：n199808m 違反板規4-2-1 警告一次          HitMake...</td>\n      <td>http://www.ptt.cc/bbs/Stock/M.1546273895.A.81F...</td>\n    </tr>\n    <tr>\n      <th>1</th>\n      <td>1546278287622_PTT02R</td>\n      <td>bbs</td>\n      <td>Ptt</td>\n      <td>Stock</td>\n      <td>2019-01-01 01:28:28</td>\n      <td>Re: [新聞] 貿戰讓台商錢匯不出？ 海基會：漣漪效應</td>\n      <td>CGDGAD</td>\n      <td>小弟有個想法不知可不可行 如果有人民幣想洗出來 出國一趟，比方去歐洲 用海外刷卡買黃金，存在...</td>\n      <td>http://www.ptt.cc/bbs/Stock/M.1546277311.A.1D3...</td>\n    </tr>\n    <tr>\n      <th>2</th>\n      <td>1546278288500_PTT02R</td>\n      <td>bbs</td>\n      <td>Ptt</td>\n      <td>Stock</td>\n      <td>2019-01-01 01:32:39</td>\n      <td>Re: [新聞] 貿易戰搶出口 透支效應2019衝擊中國經濟!</td>\n      <td>americ</td>\n      <td>分身帳號好像要連坐水桶  《ＩＤ暱稱》tangolosss (配息配股變成大富翁)《經濟狀況...</td>\n      <td>http://www.ptt.cc/bbs/Stock/M.1546277562.A.F7E...</td>\n    </tr>\n    <tr>\n      <th>3</th>\n      <td>1546298530556_PTT02R</td>\n      <td>bbs</td>\n      <td>Ptt</td>\n      <td>Stock</td>\n      <td>2019-01-01 07:07:37</td>\n      <td>Re: [新聞]  陸媒：俄羅斯想聯手中國去美元化</td>\n      <td>taco13</td>\n      <td>所以說不要小看俄羅斯的險惡奸詐  俄國一直鼓勵中國發展人民幣石油 去美元化的種種行為  俄羅...</td>\n      <td>http://www.ptt.cc/bbs/Stock/M.1546297660.A.928...</td>\n    </tr>\n    <tr>\n      <th>4</th>\n      <td>1546299585726_PTT02R</td>\n      <td>bbs</td>\n      <td>Ptt</td>\n      <td>Stock</td>\n      <td>2019-01-01 07:35:29</td>\n      <td>[標的] (伺機作多)日元正二</td>\n      <td>hrma</td>\n      <td>1. 標的：元大日元指數正二  2. 分類：(伺機作多)多  3. 分析/正文：     (...</td>\n      <td>http://www.ptt.cc/bbs/Stock/M.1546299333.A.8D3...</td>\n    </tr>\n  </tbody>\n</table>\n</div>"
     },
     "metadata": {},
     "output_type": "display_data"
    },
    {
     "data": {
      "text/plain": "                  id p_type    s_name s_area_name            post_time   \n0  1546273483220_F01  forum  mobile01    閒聊_投資與理財  2019-01-01 00:10:00  \\\n1  1546273487328_F01  forum  mobile01    閒聊_投資與理財  2019-01-01 00:16:00   \n2  1546274269262_F01  forum  mobile01    閒聊_投資與理財  2019-01-01 00:30:00   \n3  1546275066274_F01  forum  mobile01    閒聊_投資與理財  2019-01-01 00:35:00   \n4  1546276014397_F01  forum  mobile01    閒聊_投資與理財  2019-01-01 00:50:00   \n\n                                     title          author   \n0                       今日華固大跌9%，有人知道為什麼嗎？         d885668  \\\n1                       個人研究觀察記錄篇(宏碁轉型之路篇)       Roger0607   \n2                                 一則美債新聞分享            杜鵑泣血   \n3                關於美股走空、黃豆、白銀、原油、上證指數、美元走勢  sphenoidarthur   \n4  看到台湾人都这么关心大陆的贸易战，作为大陆人我也简单谈一下，目前看形势一片大好             四少爺   \n\n                                             content   \n0                                         到現在還不知為何暴跌  \\\n1                       2019 新年快樂…祝A大各位雞友2019財源廣進通四海   \n2                        不用先去煩惱美債，中國違約的債卷還更多，我們就看下去吧   \n3  白銀如預期漲幅已到達年線<BR>短期漲幅滿足點到達<BR><BR><BR>黃豆MA60. M...   \n4                            才過了幾個月，「中國或成最大贏家」！ 哈哈哈。   \n\n                                            page_url content_type   \n0  https://www.mobile01.com/topicdetail.php?p=2&f...        reply  \\\n1  https://www.mobile01.com/topicdetail.php?p=109...        reply   \n2  https://www.mobile01.com/topicdetail.php?f=291...        reply   \n3  https://www.mobile01.com/topicdetail.php?p=4&f...        reply   \n4  https://www.mobile01.com/topicdetail.php?p=49&...        reply   \n\n   comment_count  \n0             15  \n1          13176  \n2              5  \n3             62  \n4            647  ",
      "text/html": "<div>\n<style scoped>\n    .dataframe tbody tr th:only-of-type {\n        vertical-align: middle;\n    }\n\n    .dataframe tbody tr th {\n        vertical-align: top;\n    }\n\n    .dataframe thead th {\n        text-align: right;\n    }\n</style>\n<table border=\"1\" class=\"dataframe\">\n  <thead>\n    <tr style=\"text-align: right;\">\n      <th></th>\n      <th>id</th>\n      <th>p_type</th>\n      <th>s_name</th>\n      <th>s_area_name</th>\n      <th>post_time</th>\n      <th>title</th>\n      <th>author</th>\n      <th>content</th>\n      <th>page_url</th>\n      <th>content_type</th>\n      <th>comment_count</th>\n    </tr>\n  </thead>\n  <tbody>\n    <tr>\n      <th>0</th>\n      <td>1546273483220_F01</td>\n      <td>forum</td>\n      <td>mobile01</td>\n      <td>閒聊_投資與理財</td>\n      <td>2019-01-01 00:10:00</td>\n      <td>今日華固大跌9%，有人知道為什麼嗎？</td>\n      <td>d885668</td>\n      <td>到現在還不知為何暴跌</td>\n      <td>https://www.mobile01.com/topicdetail.php?p=2&amp;f...</td>\n      <td>reply</td>\n      <td>15</td>\n    </tr>\n    <tr>\n      <th>1</th>\n      <td>1546273487328_F01</td>\n      <td>forum</td>\n      <td>mobile01</td>\n      <td>閒聊_投資與理財</td>\n      <td>2019-01-01 00:16:00</td>\n      <td>個人研究觀察記錄篇(宏碁轉型之路篇)</td>\n      <td>Roger0607</td>\n      <td>2019 新年快樂…祝A大各位雞友2019財源廣進通四海</td>\n      <td>https://www.mobile01.com/topicdetail.php?p=109...</td>\n      <td>reply</td>\n      <td>13176</td>\n    </tr>\n    <tr>\n      <th>2</th>\n      <td>1546274269262_F01</td>\n      <td>forum</td>\n      <td>mobile01</td>\n      <td>閒聊_投資與理財</td>\n      <td>2019-01-01 00:30:00</td>\n      <td>一則美債新聞分享</td>\n      <td>杜鵑泣血</td>\n      <td>不用先去煩惱美債，中國違約的債卷還更多，我們就看下去吧</td>\n      <td>https://www.mobile01.com/topicdetail.php?f=291...</td>\n      <td>reply</td>\n      <td>5</td>\n    </tr>\n    <tr>\n      <th>3</th>\n      <td>1546275066274_F01</td>\n      <td>forum</td>\n      <td>mobile01</td>\n      <td>閒聊_投資與理財</td>\n      <td>2019-01-01 00:35:00</td>\n      <td>關於美股走空、黃豆、白銀、原油、上證指數、美元走勢</td>\n      <td>sphenoidarthur</td>\n      <td>白銀如預期漲幅已到達年線&lt;BR&gt;短期漲幅滿足點到達&lt;BR&gt;&lt;BR&gt;&lt;BR&gt;黃豆MA60. M...</td>\n      <td>https://www.mobile01.com/topicdetail.php?p=4&amp;f...</td>\n      <td>reply</td>\n      <td>62</td>\n    </tr>\n    <tr>\n      <th>4</th>\n      <td>1546276014397_F01</td>\n      <td>forum</td>\n      <td>mobile01</td>\n      <td>閒聊_投資與理財</td>\n      <td>2019-01-01 00:50:00</td>\n      <td>看到台湾人都这么关心大陆的贸易战，作为大陆人我也简单谈一下，目前看形势一片大好</td>\n      <td>四少爺</td>\n      <td>才過了幾個月，「中國或成最大贏家」！ 哈哈哈。</td>\n      <td>https://www.mobile01.com/topicdetail.php?p=49&amp;...</td>\n      <td>reply</td>\n      <td>647</td>\n    </tr>\n  </tbody>\n</table>\n</div>"
     },
     "metadata": {},
     "output_type": "display_data"
    },
    {
     "data": {
      "text/plain": "                  id p_type   s_name s_area_name            post_time   \n0  1546294835402_N01   news  yahoo股市      最新財經新聞  2019-01-01 03:45:00  \\\n1  1546293936100_N01   news  yahoo股市        重大要聞  2019-01-01 05:18:00   \n2  1546302955899_N01   news  yahoo股市        重大要聞  2019-01-01 05:50:00   \n3  1546296648699_N01   news  yahoo股市      最新財經新聞  2019-01-01 06:03:00   \n4  1546296650082_N01   news  yahoo股市      最新財經新聞  2019-01-01 06:30:00   \n\n                                          title        author   \n0                               【歐股盤後】氣氛樂觀 盤勢走穩       中央社 中央社  \\\n1                      台股元旦休市期間 美股累計漲跌幅--12月31日  鉅亨網 鉅亨網編譯郭照青   \n2  2019最受期待10款新車亮相 國產ALTIS和FOCUS成焦點 雙B大型豪華SUV對戰   中時電子報 報導陳大任   \n3                                    【美股盤後】封關收紅       中央社 中央社   \n4                                    【能源盤後】年終收紅       中央社 中央社   \n\n                                             content   \n0  （中央社台北2019年1月1日電）即將舉行的美中貿易談判為投資人帶來希望，歐洲股市在封關前最...  \\\n1  -------------------12 月 27 日 -------12 月 31 日<...   \n2  中國時報 延續2018競爭激烈的車市氛圍來到2019，今年將有多款新車等著跳上車市擂台一較高...   \n3  （中央社台北2019年1月1日電）美股31日在2018年最後一個交易日收漲，不過這是10年前...   \n4  PR2F3301.DBP.US.GB.OIL.ECO.（中央社台北2019年1月1日電）國際...   \n\n                                            page_url  \n0  https://tw.stock.yahoo.com/news/歐股盤後-氣氛樂觀-盤勢走穩...  \n1  https://tw.stock.yahoo.com/news/台股元旦休市期間-美股累計漲...  \n2  https://tw.stock.yahoo.com/news/2019最受期待10款新車亮...  \n3  https://tw.stock.yahoo.com/news/美股盤後-封關收紅-2203...  \n4  https://tw.stock.yahoo.com/news/能源盤後-年終收紅-2230...  ",
      "text/html": "<div>\n<style scoped>\n    .dataframe tbody tr th:only-of-type {\n        vertical-align: middle;\n    }\n\n    .dataframe tbody tr th {\n        vertical-align: top;\n    }\n\n    .dataframe thead th {\n        text-align: right;\n    }\n</style>\n<table border=\"1\" class=\"dataframe\">\n  <thead>\n    <tr style=\"text-align: right;\">\n      <th></th>\n      <th>id</th>\n      <th>p_type</th>\n      <th>s_name</th>\n      <th>s_area_name</th>\n      <th>post_time</th>\n      <th>title</th>\n      <th>author</th>\n      <th>content</th>\n      <th>page_url</th>\n    </tr>\n  </thead>\n  <tbody>\n    <tr>\n      <th>0</th>\n      <td>1546294835402_N01</td>\n      <td>news</td>\n      <td>yahoo股市</td>\n      <td>最新財經新聞</td>\n      <td>2019-01-01 03:45:00</td>\n      <td>【歐股盤後】氣氛樂觀 盤勢走穩</td>\n      <td>中央社 中央社</td>\n      <td>（中央社台北2019年1月1日電）即將舉行的美中貿易談判為投資人帶來希望，歐洲股市在封關前最...</td>\n      <td>https://tw.stock.yahoo.com/news/歐股盤後-氣氛樂觀-盤勢走穩...</td>\n    </tr>\n    <tr>\n      <th>1</th>\n      <td>1546293936100_N01</td>\n      <td>news</td>\n      <td>yahoo股市</td>\n      <td>重大要聞</td>\n      <td>2019-01-01 05:18:00</td>\n      <td>台股元旦休市期間 美股累計漲跌幅--12月31日</td>\n      <td>鉅亨網 鉅亨網編譯郭照青</td>\n      <td>-------------------12 月 27 日 -------12 月 31 日&lt;...</td>\n      <td>https://tw.stock.yahoo.com/news/台股元旦休市期間-美股累計漲...</td>\n    </tr>\n    <tr>\n      <th>2</th>\n      <td>1546302955899_N01</td>\n      <td>news</td>\n      <td>yahoo股市</td>\n      <td>重大要聞</td>\n      <td>2019-01-01 05:50:00</td>\n      <td>2019最受期待10款新車亮相 國產ALTIS和FOCUS成焦點 雙B大型豪華SUV對戰</td>\n      <td>中時電子報 報導陳大任</td>\n      <td>中國時報 延續2018競爭激烈的車市氛圍來到2019，今年將有多款新車等著跳上車市擂台一較高...</td>\n      <td>https://tw.stock.yahoo.com/news/2019最受期待10款新車亮...</td>\n    </tr>\n    <tr>\n      <th>3</th>\n      <td>1546296648699_N01</td>\n      <td>news</td>\n      <td>yahoo股市</td>\n      <td>最新財經新聞</td>\n      <td>2019-01-01 06:03:00</td>\n      <td>【美股盤後】封關收紅</td>\n      <td>中央社 中央社</td>\n      <td>（中央社台北2019年1月1日電）美股31日在2018年最後一個交易日收漲，不過這是10年前...</td>\n      <td>https://tw.stock.yahoo.com/news/美股盤後-封關收紅-2203...</td>\n    </tr>\n    <tr>\n      <th>4</th>\n      <td>1546296650082_N01</td>\n      <td>news</td>\n      <td>yahoo股市</td>\n      <td>最新財經新聞</td>\n      <td>2019-01-01 06:30:00</td>\n      <td>【能源盤後】年終收紅</td>\n      <td>中央社 中央社</td>\n      <td>PR2F3301.DBP.US.GB.OIL.ECO.（中央社台北2019年1月1日電）國際...</td>\n      <td>https://tw.stock.yahoo.com/news/能源盤後-年終收紅-2230...</td>\n    </tr>\n  </tbody>\n</table>\n</div>"
     },
     "metadata": {},
     "output_type": "display_data"
    }
   ],
   "source": [
    "# load all article df\n",
    "bbs_df = get_article_dfs_by_type('bbs')\n",
    "forum_df = get_article_dfs_by_type('forum')\n",
    "news_df = get_article_dfs_by_type('news')\n",
    "display(bbs_df.head())\n",
    "display(forum_df.head())\n",
    "display(news_df.head())"
   ]
  },
  {
   "cell_type": "code",
   "execution_count": 5,
   "metadata": {},
   "outputs": [
    {
     "name": "stdout",
     "output_type": "stream",
     "text": [
      "columns null value count:\n"
     ]
    },
    {
     "data": {
      "text/plain": "id                     0\np_type                 0\ns_name                 0\ns_area_name            0\npost_time              0\ntitle                  0\nauthor             53652\ncontent             9896\npage_url               0\ncontent_type     1314396\ncomment_count    1314396\ndtype: int64"
     },
     "execution_count": 5,
     "metadata": {},
     "output_type": "execute_result"
    }
   ],
   "source": [
    "article_df = pd.concat([bbs_df, forum_df, news_df])\n",
    "article_df\n",
    "# check which columns have null values\n",
    "print('columns null value count:')\n",
    "article_df.isnull().sum()"
   ]
  },
  {
   "attachments": {},
   "cell_type": "markdown",
   "metadata": {},
   "source": [
    "After some understanding of the dataset, we decided to do the following\n",
    "1. as three types of articles df is pretty much the same, so I decided to stack them together\n",
    "2. remove duplicates (by id)\n",
    "3. remove useless columns, we don't need id and page url\n",
    "4. sort by post_time (first converted to datetime object)\n",
    "\n",
    "NOTE: we don't handle Null values here, because the way we handle null values depends on the algorithm we want to use."
   ]
  },
  {
   "attachments": {},
   "cell_type": "markdown",
   "metadata": {},
   "source": [
    "# Preprocessing"
   ]
  },
  {
   "cell_type": "code",
   "execution_count": 66,
   "metadata": {},
   "outputs": [
    {
     "name": "stdout",
     "output_type": "stream",
     "text": [
      "293974 rows were dropped due to duplicates.\n",
      "drop id and page url\n",
      "convert post_time to datetime object and sort by post_time\n"
     ]
    },
    {
     "data": {
      "text/plain": "                    p_type    s_name s_area_name                        title   \npost_time                                                                       \n2019-01-01 00:10:00  forum  mobile01    閒聊_投資與理財           今日華固大跌9%，有人知道為什麼嗎？  \\\n2019-01-01 00:16:00  forum  mobile01    閒聊_投資與理財           個人研究觀察記錄篇(宏碁轉型之路篇)   \n2019-01-01 00:30:00  forum  mobile01    閒聊_投資與理財                     一則美債新聞分享   \n2019-01-01 00:31:32    bbs       Ptt       Stock  [公告] n199808m HitMaker 警告一次   \n2019-01-01 00:35:00  forum  mobile01    閒聊_投資與理財    關於美股走空、黃豆、白銀、原油、上證指數、美元走勢   \n\n                             author   \npost_time                             \n2019-01-01 00:10:00         d885668  \\\n2019-01-01 00:16:00       Roger0607   \n2019-01-01 00:30:00            杜鵑泣血   \n2019-01-01 00:31:32         eyespot   \n2019-01-01 00:35:00  sphenoidarthur   \n\n                                                               content   \npost_time                                                                \n2019-01-01 00:10:00                                         到現在還不知為何暴跌  \\\n2019-01-01 00:16:00                       2019 新年快樂…祝A大各位雞友2019財源廣進通四海   \n2019-01-01 00:30:00                        不用先去煩惱美債，中國違約的債卷還更多，我們就看下去吧   \n2019-01-01 00:31:32  1. 主旨：n199808m 違反板規4-2-1 警告一次          HitMake...   \n2019-01-01 00:35:00  白銀如預期漲幅已到達年線<BR>短期漲幅滿足點到達<BR><BR><BR>黃豆MA60. M...   \n\n                    content_type  comment_count  \npost_time                                        \n2019-01-01 00:10:00        reply           15.0  \n2019-01-01 00:16:00        reply        13176.0  \n2019-01-01 00:30:00        reply            5.0  \n2019-01-01 00:31:32          NaN            NaN  \n2019-01-01 00:35:00        reply           62.0  ",
      "text/html": "<div>\n<style scoped>\n    .dataframe tbody tr th:only-of-type {\n        vertical-align: middle;\n    }\n\n    .dataframe tbody tr th {\n        vertical-align: top;\n    }\n\n    .dataframe thead th {\n        text-align: right;\n    }\n</style>\n<table border=\"1\" class=\"dataframe\">\n  <thead>\n    <tr style=\"text-align: right;\">\n      <th></th>\n      <th>p_type</th>\n      <th>s_name</th>\n      <th>s_area_name</th>\n      <th>title</th>\n      <th>author</th>\n      <th>content</th>\n      <th>content_type</th>\n      <th>comment_count</th>\n    </tr>\n    <tr>\n      <th>post_time</th>\n      <th></th>\n      <th></th>\n      <th></th>\n      <th></th>\n      <th></th>\n      <th></th>\n      <th></th>\n      <th></th>\n    </tr>\n  </thead>\n  <tbody>\n    <tr>\n      <th>2019-01-01 00:10:00</th>\n      <td>forum</td>\n      <td>mobile01</td>\n      <td>閒聊_投資與理財</td>\n      <td>今日華固大跌9%，有人知道為什麼嗎？</td>\n      <td>d885668</td>\n      <td>到現在還不知為何暴跌</td>\n      <td>reply</td>\n      <td>15.0</td>\n    </tr>\n    <tr>\n      <th>2019-01-01 00:16:00</th>\n      <td>forum</td>\n      <td>mobile01</td>\n      <td>閒聊_投資與理財</td>\n      <td>個人研究觀察記錄篇(宏碁轉型之路篇)</td>\n      <td>Roger0607</td>\n      <td>2019 新年快樂…祝A大各位雞友2019財源廣進通四海</td>\n      <td>reply</td>\n      <td>13176.0</td>\n    </tr>\n    <tr>\n      <th>2019-01-01 00:30:00</th>\n      <td>forum</td>\n      <td>mobile01</td>\n      <td>閒聊_投資與理財</td>\n      <td>一則美債新聞分享</td>\n      <td>杜鵑泣血</td>\n      <td>不用先去煩惱美債，中國違約的債卷還更多，我們就看下去吧</td>\n      <td>reply</td>\n      <td>5.0</td>\n    </tr>\n    <tr>\n      <th>2019-01-01 00:31:32</th>\n      <td>bbs</td>\n      <td>Ptt</td>\n      <td>Stock</td>\n      <td>[公告] n199808m HitMaker 警告一次</td>\n      <td>eyespot</td>\n      <td>1. 主旨：n199808m 違反板規4-2-1 警告一次          HitMake...</td>\n      <td>NaN</td>\n      <td>NaN</td>\n    </tr>\n    <tr>\n      <th>2019-01-01 00:35:00</th>\n      <td>forum</td>\n      <td>mobile01</td>\n      <td>閒聊_投資與理財</td>\n      <td>關於美股走空、黃豆、白銀、原油、上證指數、美元走勢</td>\n      <td>sphenoidarthur</td>\n      <td>白銀如預期漲幅已到達年線&lt;BR&gt;短期漲幅滿足點到達&lt;BR&gt;&lt;BR&gt;&lt;BR&gt;黃豆MA60. M...</td>\n      <td>reply</td>\n      <td>62.0</td>\n    </tr>\n  </tbody>\n</table>\n</div>"
     },
     "execution_count": 66,
     "metadata": {},
     "output_type": "execute_result"
    }
   ],
   "source": [
    "article_df = pd.concat([bbs_df, forum_df, news_df])\n",
    "\n",
    "# remove duplicated rows by id\n",
    "original_rows = article_df.shape[0]\n",
    "article_df = article_df.drop_duplicates(subset=['id'])\n",
    "dropped_rows = original_rows - article_df.shape[0]\n",
    "print(f\"{dropped_rows} rows were dropped due to duplicates.\")\n",
    "\n",
    "# drop id and page url\n",
    "print(\"drop id and page url\")\n",
    "article_df = article_df.drop(columns=['id', 'page_url'])\n",
    "\n",
    "# convert post_time to datetime object and sort by post_time\n",
    "print(\"convert post_time to datetime object and sort by post_time\")\n",
    "article_df['post_time'] = pd.to_datetime(article_df['post_time'])\n",
    "article_df = article_df.sort_values(by='post_time')\n",
    "\n",
    "# if author or title or content is NaN, convert to \"\"\n",
    "article_df['author'].fillna('\"\"', inplace=True)\n",
    "article_df['title'].fillna('\"\"', inplace=True)\n",
    "article_df['content'].fillna('\"\"', inplace=True)\n",
    "\n",
    "article_df.set_index('post_time', inplace=True)\n",
    "# check for duplicates in the index\n",
    "if article_df.index.duplicated().any():\n",
    "    # drop duplicates from the index\n",
    "    article_df = article_df[~article_df.index.duplicated()]\n",
    "\n",
    "article_df.head()"
   ]
  },
  {
   "attachments": {},
   "cell_type": "markdown",
   "metadata": {},
   "source": [
    "the preprocessed data seem good, store it to csv"
   ]
  },
  {
   "cell_type": "code",
   "execution_count": 67,
   "metadata": {},
   "outputs": [
    {
     "name": "stdout",
     "output_type": "stream",
     "text": [
      "article df is saved to organized_data\\documents.csv\n"
     ]
    }
   ],
   "source": [
    "article_csv_path = Path(ORGANIZED_DATASET_DIR, ORGANIZED_DATASET_NAME)\n",
    "# create preprocessed_dataset dir if not exists\n",
    "if not Path(ORGANIZED_DATASET_DIR).exists():\n",
    "    Path(ORGANIZED_DATASET_DIR).mkdir()\n",
    "# save to csv file\n",
    "article_df.to_csv(article_csv_path)\n",
    "print(f\"article df is saved to {article_csv_path}\")\n",
    "# check everything is ok\n",
    "# display(pd.read_csv(article_csv_path, index_col=0).head())\n",
    "# display(article_df.columns)"
   ]
  },
  {
   "cell_type": "markdown",
   "source": [
    "Every thing seems good!"
   ],
   "metadata": {
    "collapsed": false
   }
  },
  {
   "cell_type": "code",
   "execution_count": 68,
   "outputs": [],
   "source": [
    "df = pd.read_csv(article_csv_path, index_col=0)"
   ],
   "metadata": {
    "collapsed": false
   }
  },
  {
   "cell_type": "code",
   "execution_count": 70,
   "outputs": [
    {
     "data": {
      "text/plain": "p_type                0\ns_name                0\ns_area_name           0\ntitle                 0\nauthor                0\ncontent               0\ncontent_type     707405\ncomment_count    707405\ndtype: int64"
     },
     "execution_count": 70,
     "metadata": {},
     "output_type": "execute_result"
    }
   ],
   "source": [
    "article_df.isnull().sum()\n",
    "df.isnull().sum()\n",
    "display(df)\n",
    "display(article_df)"
   ],
   "metadata": {
    "collapsed": false
   }
  },
  {
   "cell_type": "markdown",
   "source": [],
   "metadata": {
    "collapsed": false
   }
  }
 ],
 "metadata": {
  "kernelspec": {
   "display_name": "Python 3",
   "language": "python",
   "name": "python3"
  },
  "language_info": {
   "codemirror_mode": {
    "name": "ipython",
    "version": 3
   },
   "file_extension": ".py",
   "mimetype": "text/x-python",
   "name": "python",
   "nbconvert_exporter": "python",
   "pygments_lexer": "ipython3",
   "version": "3.11.2"
  }
 },
 "nbformat": 4,
 "nbformat_minor": 0
}
