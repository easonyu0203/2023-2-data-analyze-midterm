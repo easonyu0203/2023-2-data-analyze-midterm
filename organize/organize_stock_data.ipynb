{
 "cells": [
  {
   "attachments": {},
   "cell_type": "markdown",
   "metadata": {
    "collapsed": false
   },
   "source": [
    "# Organize Stock Dataset\n",
    "Stock data is store in an Excel file but the structure isn't what we ideally want. In this notebook we aim to do the following\n",
    "1. make two Excel files one contain all 上市股票 other contain all 上櫃股票\n",
    "2. separate each stock to a sheet and order by time\n",
    "3. rename column to english so will be easy to use in the future"
   ]
  },
  {
   "cell_type": "code",
   "execution_count": 5,
   "metadata": {
    "collapsed": true
   },
   "outputs": [
    {
     "data": {
      "text/plain": "'C:\\\\Users\\\\break\\\\Projects\\\\College\\\\大四下\\\\DatAnalysis\\\\2023-2-data-analyze-midterm'"
     },
     "execution_count": 5,
     "metadata": {},
     "output_type": "execute_result"
    }
   ],
   "source": [
    "import pandas as pd\n",
    "from pathlib import Path\n",
    "from tqdm import tqdm\n",
    "import os\n",
    "\n",
    "folder_name = \"organize\"\n",
    "if folder_name in os.getcwd():\n",
    "    os.chdir(os.path.abspath(os.pardir))\n",
    "%pwd"
   ]
  },
  {
   "cell_type": "markdown",
   "metadata": {
    "collapsed": false
   },
   "source": [
    "# Configuration"
   ]
  },
  {
   "cell_type": "code",
   "execution_count": 6,
   "metadata": {
    "collapsed": false
   },
   "outputs": [],
   "source": [
    "DATA_DIR = \"./bda2023_mid_dataset\"\n",
    "STOCKS_DIR = \"./organized_data/stocks\"\n",
    "METADATA_PATH = \"./organized_data/stock_metadata.csv\"\n",
    "RAW_DATASET_NAME = 'stock_data_2019-2023.xlsx'\n",
    "ORGANIZED_DATASET_DIR = './organized_data/stocks'\n",
    "RENAMED_COLUMNS = [\n",
    "    'name', 'date', 'open', 'high', 'low', 'close', 'volume(k)', 'turnover(k)', 'transaction', 'outstanding(k)', 'pe', 'pb'\n",
    "]\n",
    "\n",
    "raw_stocks_path = Path(DATA_DIR, RAW_DATASET_NAME)"
   ]
  },
  {
   "attachments": {},
   "cell_type": "markdown",
   "metadata": {},
   "source": [
    "# Utility functions"
   ]
  },
  {
   "cell_type": "code",
   "execution_count": 7,
   "metadata": {
    "collapsed": false
   },
   "outputs": [],
   "source": [
    "def get_raw_stocks_dfs() -> pd.DataFrame:\n",
    "    \"\"\"\n",
    "    get raw stocks dfs, this function will load the excel file and return a dict of dfs\n",
    "    \"\"\"\n",
    "    # Load the Excel file\n",
    "    excel_file = pd.ExcelFile(raw_stocks_path)\n",
    "\n",
    "    # Get the sheet names\n",
    "    sheet_names = excel_file.sheet_names\n",
    "\n",
    "    # Load all sheets\n",
    "    dfs = {sheet_name: excel_file.parse(sheet_name, na_values=['-']) for sheet_name in sheet_names if sheet_name != '摘要'}\n",
    "    return dfs"
   ]
  },
  {
   "attachments": {},
   "cell_type": "markdown",
   "metadata": {},
   "source": [
    "# Research & Preprocessing\n",
    "I just simply open excel and look around a bit, here we check about null value and see if there is any error in the data"
   ]
  },
  {
   "cell_type": "code",
   "execution_count": 8,
   "metadata": {},
   "outputs": [
    {
     "name": "stderr",
     "output_type": "stream",
     "text": [
      "100%|██████████| 10/10 [00:00<00:00, 79.26it/s]"
     ]
    },
    {
     "name": "stdout",
     "output_type": "stream",
     "text": [
      "上市2023 null value count:\n",
      "證券代碼              0\n",
      "年月日               0\n",
      "開盤價(元)         3813\n",
      "最高價(元)         3815\n",
      "最低價(元)         3815\n",
      "收盤價(元)            0\n",
      "成交量(千股)           0\n",
      "成交值(千元)           0\n",
      "成交筆數(筆)           0\n",
      "流通在外股數(千股)        0\n",
      "本益比-TSE       21534\n",
      "股價淨值比-TSE     15178\n",
      "dtype: int64\n",
      "\n",
      "上市2022 null value count:\n",
      "證券代碼               0\n",
      "年月日                0\n",
      "開盤價(元)         19097\n",
      "最高價(元)         19099\n",
      "最低價(元)         19099\n",
      "收盤價(元)             0\n",
      "成交量(千股)            0\n",
      "成交值(千元)            0\n",
      "成交筆數(筆)            0\n",
      "流通在外股數(千股)         6\n",
      "本益比-TSE       109169\n",
      "股價淨值比-TSE      77321\n",
      "dtype: int64\n",
      "\n",
      "上市2021 null value count:\n",
      "證券代碼               0\n",
      "年月日                0\n",
      "開盤價(元)         20242\n",
      "最高價(元)         20243\n",
      "最低價(元)         20243\n",
      "收盤價(元)             0\n",
      "成交量(千股)            0\n",
      "成交值(千元)            0\n",
      "成交筆數(筆)            0\n",
      "流通在外股數(千股)         0\n",
      "本益比-TSE       113126\n",
      "股價淨值比-TSE      75544\n",
      "dtype: int64\n",
      "\n",
      "上市2020 null value count:\n",
      "證券代碼              0\n",
      "年月日               0\n",
      "開盤價(元)            0\n",
      "最高價(元)            0\n",
      "最低價(元)            0\n",
      "收盤價(元)            0\n",
      "成交量(千股)           0\n",
      "成交值(千元)           0\n",
      "成交筆數(筆)           0\n",
      "流通在外股數(千股)        0\n",
      "本益比-TSE       51046\n",
      "股價淨值比-TSE     11866\n",
      "dtype: int64\n",
      "\n",
      "上市2019 null value count:\n",
      "證券代碼              0\n",
      "年月日               0\n",
      "開盤價(元)            0\n",
      "最高價(元)            0\n",
      "最低價(元)            0\n",
      "收盤價(元)            0\n",
      "成交量(千股)           0\n",
      "成交值(千元)           0\n",
      "成交筆數(筆)           0\n",
      "流通在外股數(千股)        0\n",
      "本益比-TSE        8476\n",
      "股價淨值比-TSE     12313\n",
      "dtype: int64\n",
      "\n",
      "上櫃2023 null value count:\n",
      "證券代碼              0\n",
      "年月日               0\n",
      "開盤價(元)         1568\n",
      "最高價(元)         1568\n",
      "最低價(元)         1568\n",
      "收盤價(元)            0\n",
      "成交量(千股)           0\n",
      "成交值(千元)           0\n",
      "成交筆數(筆)           0\n",
      "流通在外股數(千股)        0\n",
      "本益比-TSE       26295\n",
      "股價淨值比-TSE     17560\n",
      "dtype: int64\n",
      "\n",
      "上櫃2022 null value count:\n",
      "證券代碼               0\n",
      "年月日                0\n",
      "開盤價(元)          7872\n",
      "最高價(元)          7872\n",
      "最低價(元)          7872\n",
      "收盤價(元)             0\n",
      "成交量(千股)            0\n",
      "成交值(千元)            0\n",
      "成交筆數(筆)            0\n",
      "流通在外股數(千股)        16\n",
      "本益比-TSE       145853\n",
      "股價淨值比-TSE     101700\n",
      "dtype: int64\n",
      "\n",
      "上櫃2021 null value count:\n",
      "證券代碼               0\n",
      "年月日                0\n",
      "開盤價(元)          8304\n",
      "最高價(元)          8296\n",
      "最低價(元)          8296\n",
      "收盤價(元)             0\n",
      "成交量(千股)            0\n",
      "成交值(千元)            0\n",
      "成交筆數(筆)            0\n",
      "流通在外股數(千股)         0\n",
      "本益比-TSE       141466\n",
      "股價淨值比-TSE      90632\n",
      "dtype: int64\n",
      "\n",
      "上櫃2020 null value count:\n",
      "證券代碼              0\n",
      "年月日               0\n",
      "開盤價(元)            0\n",
      "最高價(元)            0\n",
      "最低價(元)            0\n",
      "收盤價(元)            0\n",
      "成交量(千股)           0\n",
      "成交值(千元)           0\n",
      "成交筆數(筆)           0\n",
      "流通在外股數(千股)        0\n",
      "本益比-TSE       61504\n",
      "股價淨值比-TSE      4536\n",
      "dtype: int64\n",
      "\n",
      "上櫃2019 null value count:\n",
      "證券代碼              0\n",
      "年月日               0\n",
      "開盤價(元)            0\n",
      "最高價(元)            0\n",
      "最低價(元)            0\n",
      "收盤價(元)            0\n",
      "成交量(千股)           0\n",
      "成交值(千元)           0\n",
      "成交筆數(筆)           0\n",
      "流通在外股數(千股)        0\n",
      "本益比-TSE       55200\n",
      "股價淨值比-TSE      4356\n",
      "dtype: int64\n",
      "\n"
     ]
    },
    {
     "name": "stderr",
     "output_type": "stream",
     "text": [
      "\n"
     ]
    }
   ],
   "source": [
    "raw_stock_dfs = get_raw_stocks_dfs()\n",
    "# for each sheet, check each column null value count\n",
    "for sheet_name, df in tqdm(raw_stock_dfs.items()):\n",
    "    print(f\"{sheet_name} null value count:\")\n",
    "    print(df.isnull().sum())\n",
    "    print()\n"
   ]
  },
  {
   "cell_type": "markdown",
   "metadata": {
    "collapsed": false
   },
   "source": [
    "Look like there is some stock have missing prices value, we will mark them as null value and handle it later\n",
    "\n",
    "first, let change column into english, and cast data type to what we want"
   ]
  },
  {
   "cell_type": "code",
   "execution_count": 9,
   "metadata": {
    "collapsed": false
   },
   "outputs": [
    {
     "name": "stdout",
     "output_type": "stream",
     "text": [
      "上市2023 data type:\n",
      "name                      object\n",
      "date              datetime64[ns]\n",
      "open                     float64\n",
      "high                     float64\n",
      "low                      float64\n",
      "close                    float64\n",
      "volume(k)                  int64\n",
      "turnover(k)                int64\n",
      "transaction                int64\n",
      "outstanding(k)             int64\n",
      "pe                       float64\n",
      "pb                       float64\n",
      "dtype: object\n",
      "\n",
      "上市2022 data type:\n",
      "name                      object\n",
      "date              datetime64[ns]\n",
      "open                     float64\n",
      "high                     float64\n",
      "low                      float64\n",
      "close                    float64\n",
      "volume(k)                  int64\n",
      "turnover(k)                int64\n",
      "transaction                int64\n",
      "outstanding(k)           float64\n",
      "pe                       float64\n",
      "pb                       float64\n",
      "dtype: object\n",
      "\n",
      "上市2021 data type:\n",
      "name                      object\n",
      "date              datetime64[ns]\n",
      "open                     float64\n",
      "high                     float64\n",
      "low                      float64\n",
      "close                    float64\n",
      "volume(k)                  int64\n",
      "turnover(k)                int64\n",
      "transaction                int64\n",
      "outstanding(k)             int64\n",
      "pe                       float64\n",
      "pb                       float64\n",
      "dtype: object\n",
      "\n",
      "上市2020 data type:\n",
      "name                      object\n",
      "date              datetime64[ns]\n",
      "open                     float64\n",
      "high                     float64\n",
      "low                      float64\n",
      "close                    float64\n",
      "volume(k)                  int64\n",
      "turnover(k)                int64\n",
      "transaction                int64\n",
      "outstanding(k)             int64\n",
      "pe                       float64\n",
      "pb                       float64\n",
      "dtype: object\n",
      "\n",
      "上市2019 data type:\n",
      "name                      object\n",
      "date              datetime64[ns]\n",
      "open                     float64\n",
      "high                     float64\n",
      "low                      float64\n",
      "close                    float64\n",
      "volume(k)                  int64\n",
      "turnover(k)                int64\n",
      "transaction                int64\n",
      "outstanding(k)             int64\n",
      "pe                       float64\n",
      "pb                       float64\n",
      "dtype: object\n",
      "\n",
      "上櫃2023 data type:\n",
      "name                      object\n",
      "date              datetime64[ns]\n",
      "open                     float64\n",
      "high                     float64\n",
      "low                      float64\n",
      "close                    float64\n",
      "volume(k)                  int64\n",
      "turnover(k)                int64\n",
      "transaction                int64\n",
      "outstanding(k)             int64\n",
      "pe                       float64\n",
      "pb                       float64\n",
      "dtype: object\n",
      "\n",
      "上櫃2022 data type:\n",
      "name                      object\n",
      "date              datetime64[ns]\n",
      "open                     float64\n",
      "high                     float64\n",
      "low                      float64\n",
      "close                    float64\n",
      "volume(k)                  int64\n",
      "turnover(k)                int64\n",
      "transaction                int64\n",
      "outstanding(k)           float64\n",
      "pe                       float64\n",
      "pb                       float64\n",
      "dtype: object\n",
      "\n",
      "上櫃2021 data type:\n",
      "name                      object\n",
      "date              datetime64[ns]\n",
      "open                     float64\n",
      "high                     float64\n",
      "low                      float64\n",
      "close                    float64\n",
      "volume(k)                  int64\n",
      "turnover(k)                int64\n",
      "transaction                int64\n",
      "outstanding(k)             int64\n",
      "pe                       float64\n",
      "pb                       float64\n",
      "dtype: object\n",
      "\n",
      "上櫃2020 data type:\n",
      "name                      object\n",
      "date              datetime64[ns]\n",
      "open                     float64\n",
      "high                     float64\n",
      "low                      float64\n",
      "close                    float64\n",
      "volume(k)                  int64\n",
      "turnover(k)                int64\n",
      "transaction                int64\n",
      "outstanding(k)             int64\n",
      "pe                       float64\n",
      "pb                       float64\n",
      "dtype: object\n",
      "\n",
      "上櫃2019 data type:\n",
      "name                      object\n",
      "date              datetime64[ns]\n",
      "open                     float64\n",
      "high                     float64\n",
      "low                      float64\n",
      "close                    float64\n",
      "volume(k)                  int64\n",
      "turnover(k)                int64\n",
      "transaction                int64\n",
      "outstanding(k)             int64\n",
      "pe                       float64\n",
      "pb                       float64\n",
      "dtype: object\n",
      "\n"
     ]
    }
   ],
   "source": [
    "for sheet_name, df in raw_stock_dfs.items():\n",
    "    # rename columns\n",
    "    df.columns = RENAMED_COLUMNS\n",
    "    # cast data\n",
    "    df['date'] = pd.to_datetime(df['date'])\n",
    "    # if name have char * replace with _\n",
    "    df['name'] = df['name'].str.replace('*', '_')\n",
    "\n",
    "# check all df data type\n",
    "for sheet_name, df in raw_stock_dfs.items():\n",
    "    print(f\"{sheet_name} data type:\")\n",
    "    print(df.dtypes)\n",
    "    print()"
   ]
  },
  {
   "cell_type": "markdown",
   "metadata": {
    "collapsed": false
   },
   "source": [
    "Every column data type seems correct, let make each stock a df and order by time"
   ]
  },
  {
   "cell_type": "code",
   "execution_count": 10,
   "metadata": {
    "collapsed": false
   },
   "outputs": [
    {
     "name": "stderr",
     "output_type": "stream",
     "text": [
      "100%|██████████| 1263/1263 [00:03<00:00, 340.08it/s]\n",
      "100%|██████████| 1287/1287 [00:17<00:00, 73.05it/s]\n",
      "100%|██████████| 1280/1280 [00:17<00:00, 74.69it/s]\n",
      "100%|██████████| 975/975 [00:10<00:00, 91.05it/s]\n",
      "100%|██████████| 983/983 [00:10<00:00, 93.09it/s]\n",
      "100%|██████████| 1150/1150 [00:03<00:00, 382.59it/s]\n",
      "100%|██████████| 1234/1234 [00:16<00:00, 77.07it/s]\n",
      "100%|██████████| 1216/1216 [00:15<00:00, 80.74it/s]\n",
      "100%|██████████| 780/780 [00:06<00:00, 113.73it/s]\n",
      "100%|██████████| 787/787 [00:06<00:00, 113.21it/s]\n"
     ]
    }
   ],
   "source": [
    "# make each stock a df\n",
    "stock_dfs = dict()\n",
    "for sheet_name, df in raw_stock_dfs.items():\n",
    "    # make each stock a sheet\n",
    "    for stock_id in tqdm(df['name'].unique()):\n",
    "        stock_df = df[df['name'] == stock_id]\n",
    "        # if stock_dfs have stock_id, stack it\n",
    "        if stock_id in stock_dfs:\n",
    "            stock_dfs[stock_id] = pd.concat([stock_dfs[stock_id], stock_df])\n",
    "        else:\n",
    "            stock_dfs[stock_id] = stock_df"
   ]
  },
  {
   "cell_type": "code",
   "execution_count": 11,
   "metadata": {
    "collapsed": false
   },
   "outputs": [
    {
     "data": {
      "text/plain": "'0050 元大台灣50 head:'"
     },
     "metadata": {},
     "output_type": "display_data"
    },
    {
     "data": {
      "text/plain": "               name       date      open      high       low     close   \n305781  0050 元大台灣50 2021-01-04  116.7284  118.9254  116.5373  118.7821  \\\n304538  0050 元大台灣50 2021-01-05  118.6388  119.0687  118.2090  119.0209   \n303294  0050 元大台灣50 2021-01-06  120.4537  121.4567  118.5433  120.3105   \n302050  0050 元大台灣50 2021-01-07  120.8836  123.2239  120.8836  123.1284   \n300806  0050 元大台灣50 2021-01-08  124.7523  125.3731  123.7493  125.3254   \n\n        volume(k)  turnover(k)  transaction  outstanding(k)  pe  pb  \n305781       6307       778088         5434        945500.0 NaN NaN  \n304538       4962       616480         6179        945500.0 NaN NaN  \n303294      10859      1367952         9245        945500.0 NaN NaN  \n302050       6863       877015         6299        944000.0 NaN NaN  \n300806      13298      1733821        10629        922000.0 NaN NaN  ",
      "text/html": "<div>\n<style scoped>\n    .dataframe tbody tr th:only-of-type {\n        vertical-align: middle;\n    }\n\n    .dataframe tbody tr th {\n        vertical-align: top;\n    }\n\n    .dataframe thead th {\n        text-align: right;\n    }\n</style>\n<table border=\"1\" class=\"dataframe\">\n  <thead>\n    <tr style=\"text-align: right;\">\n      <th></th>\n      <th>name</th>\n      <th>date</th>\n      <th>open</th>\n      <th>high</th>\n      <th>low</th>\n      <th>close</th>\n      <th>volume(k)</th>\n      <th>turnover(k)</th>\n      <th>transaction</th>\n      <th>outstanding(k)</th>\n      <th>pe</th>\n      <th>pb</th>\n    </tr>\n  </thead>\n  <tbody>\n    <tr>\n      <th>305781</th>\n      <td>0050 元大台灣50</td>\n      <td>2021-01-04</td>\n      <td>116.7284</td>\n      <td>118.9254</td>\n      <td>116.5373</td>\n      <td>118.7821</td>\n      <td>6307</td>\n      <td>778088</td>\n      <td>5434</td>\n      <td>945500.0</td>\n      <td>NaN</td>\n      <td>NaN</td>\n    </tr>\n    <tr>\n      <th>304538</th>\n      <td>0050 元大台灣50</td>\n      <td>2021-01-05</td>\n      <td>118.6388</td>\n      <td>119.0687</td>\n      <td>118.2090</td>\n      <td>119.0209</td>\n      <td>4962</td>\n      <td>616480</td>\n      <td>6179</td>\n      <td>945500.0</td>\n      <td>NaN</td>\n      <td>NaN</td>\n    </tr>\n    <tr>\n      <th>303294</th>\n      <td>0050 元大台灣50</td>\n      <td>2021-01-06</td>\n      <td>120.4537</td>\n      <td>121.4567</td>\n      <td>118.5433</td>\n      <td>120.3105</td>\n      <td>10859</td>\n      <td>1367952</td>\n      <td>9245</td>\n      <td>945500.0</td>\n      <td>NaN</td>\n      <td>NaN</td>\n    </tr>\n    <tr>\n      <th>302050</th>\n      <td>0050 元大台灣50</td>\n      <td>2021-01-07</td>\n      <td>120.8836</td>\n      <td>123.2239</td>\n      <td>120.8836</td>\n      <td>123.1284</td>\n      <td>6863</td>\n      <td>877015</td>\n      <td>6299</td>\n      <td>944000.0</td>\n      <td>NaN</td>\n      <td>NaN</td>\n    </tr>\n    <tr>\n      <th>300806</th>\n      <td>0050 元大台灣50</td>\n      <td>2021-01-08</td>\n      <td>124.7523</td>\n      <td>125.3731</td>\n      <td>123.7493</td>\n      <td>125.3254</td>\n      <td>13298</td>\n      <td>1733821</td>\n      <td>10629</td>\n      <td>922000.0</td>\n      <td>NaN</td>\n      <td>NaN</td>\n    </tr>\n  </tbody>\n</table>\n</div>"
     },
     "metadata": {},
     "output_type": "display_data"
    },
    {
     "name": "stdout",
     "output_type": "stream",
     "text": [
      "\n"
     ]
    },
    {
     "data": {
      "text/plain": "'0051 元大中型100 head:'"
     },
     "metadata": {},
     "output_type": "display_data"
    },
    {
     "data": {
      "text/plain": "                name       date     open     high      low    close   \n305782  0051 元大中型100 2021-01-04  43.1954  43.3411  42.9038  43.3411  \\\n304539  0051 元大中型100 2021-01-05  43.3411  43.4772  43.1370  43.3800   \n303295  0051 元大中型100 2021-01-06  43.5355  43.8464  42.7581  43.0204   \n302051  0051 元大中型100 2021-01-07  43.1565  43.3606  43.0496  43.2828   \n300807  0051 元大中型100 2021-01-08  43.4189  43.5160  43.2439  43.5160   \n\n        volume(k)  turnover(k)  transaction  outstanding(k)  pe  pb  \n305782         32         1424           35         10000.0 NaN NaN  \n304539        175         7827           44         10000.0 NaN NaN  \n303295        102         4556           77         10000.0 NaN NaN  \n302051         65         2919           61         10000.0 NaN NaN  \n300807        137         6127           50         10000.0 NaN NaN  ",
      "text/html": "<div>\n<style scoped>\n    .dataframe tbody tr th:only-of-type {\n        vertical-align: middle;\n    }\n\n    .dataframe tbody tr th {\n        vertical-align: top;\n    }\n\n    .dataframe thead th {\n        text-align: right;\n    }\n</style>\n<table border=\"1\" class=\"dataframe\">\n  <thead>\n    <tr style=\"text-align: right;\">\n      <th></th>\n      <th>name</th>\n      <th>date</th>\n      <th>open</th>\n      <th>high</th>\n      <th>low</th>\n      <th>close</th>\n      <th>volume(k)</th>\n      <th>turnover(k)</th>\n      <th>transaction</th>\n      <th>outstanding(k)</th>\n      <th>pe</th>\n      <th>pb</th>\n    </tr>\n  </thead>\n  <tbody>\n    <tr>\n      <th>305782</th>\n      <td>0051 元大中型100</td>\n      <td>2021-01-04</td>\n      <td>43.1954</td>\n      <td>43.3411</td>\n      <td>42.9038</td>\n      <td>43.3411</td>\n      <td>32</td>\n      <td>1424</td>\n      <td>35</td>\n      <td>10000.0</td>\n      <td>NaN</td>\n      <td>NaN</td>\n    </tr>\n    <tr>\n      <th>304539</th>\n      <td>0051 元大中型100</td>\n      <td>2021-01-05</td>\n      <td>43.3411</td>\n      <td>43.4772</td>\n      <td>43.1370</td>\n      <td>43.3800</td>\n      <td>175</td>\n      <td>7827</td>\n      <td>44</td>\n      <td>10000.0</td>\n      <td>NaN</td>\n      <td>NaN</td>\n    </tr>\n    <tr>\n      <th>303295</th>\n      <td>0051 元大中型100</td>\n      <td>2021-01-06</td>\n      <td>43.5355</td>\n      <td>43.8464</td>\n      <td>42.7581</td>\n      <td>43.0204</td>\n      <td>102</td>\n      <td>4556</td>\n      <td>77</td>\n      <td>10000.0</td>\n      <td>NaN</td>\n      <td>NaN</td>\n    </tr>\n    <tr>\n      <th>302051</th>\n      <td>0051 元大中型100</td>\n      <td>2021-01-07</td>\n      <td>43.1565</td>\n      <td>43.3606</td>\n      <td>43.0496</td>\n      <td>43.2828</td>\n      <td>65</td>\n      <td>2919</td>\n      <td>61</td>\n      <td>10000.0</td>\n      <td>NaN</td>\n      <td>NaN</td>\n    </tr>\n    <tr>\n      <th>300807</th>\n      <td>0051 元大中型100</td>\n      <td>2021-01-08</td>\n      <td>43.4189</td>\n      <td>43.5160</td>\n      <td>43.2439</td>\n      <td>43.5160</td>\n      <td>137</td>\n      <td>6127</td>\n      <td>50</td>\n      <td>10000.0</td>\n      <td>NaN</td>\n      <td>NaN</td>\n    </tr>\n  </tbody>\n</table>\n</div>"
     },
     "metadata": {},
     "output_type": "display_data"
    },
    {
     "name": "stdout",
     "output_type": "stream",
     "text": [
      "\n"
     ]
    },
    {
     "data": {
      "text/plain": "'0052 富邦科技 head:'"
     },
     "metadata": {},
     "output_type": "display_data"
    },
    {
     "data": {
      "text/plain": "             name       date      open      high       low     close   \n305783  0052 富邦科技 2021-01-04  109.7031  111.3894  109.7031  111.1910  \\\n304540  0052 富邦科技 2021-01-05  111.1910  111.9845  110.2487  111.9845   \n303296  0052 富邦科技 2021-01-06  113.5715  114.4146  111.3894  112.6788   \n302052  0052 富邦科技 2021-01-07  114.0179  116.2000  113.4723  115.8529   \n300808  0052 富邦科技 2021-01-08  118.0350  118.5310  117.1919  118.5310   \n\n        volume(k)  turnover(k)  transaction  outstanding(k)  pe  pb  \n305783       1079       120653          549         36500.0 NaN NaN  \n304540       1536       172232          673         37000.0 NaN NaN  \n303296        864        98497          743         37500.0 NaN NaN  \n302052        817        94932          810         37500.0 NaN NaN  \n300808       1244       148170          849         38000.0 NaN NaN  ",
      "text/html": "<div>\n<style scoped>\n    .dataframe tbody tr th:only-of-type {\n        vertical-align: middle;\n    }\n\n    .dataframe tbody tr th {\n        vertical-align: top;\n    }\n\n    .dataframe thead th {\n        text-align: right;\n    }\n</style>\n<table border=\"1\" class=\"dataframe\">\n  <thead>\n    <tr style=\"text-align: right;\">\n      <th></th>\n      <th>name</th>\n      <th>date</th>\n      <th>open</th>\n      <th>high</th>\n      <th>low</th>\n      <th>close</th>\n      <th>volume(k)</th>\n      <th>turnover(k)</th>\n      <th>transaction</th>\n      <th>outstanding(k)</th>\n      <th>pe</th>\n      <th>pb</th>\n    </tr>\n  </thead>\n  <tbody>\n    <tr>\n      <th>305783</th>\n      <td>0052 富邦科技</td>\n      <td>2021-01-04</td>\n      <td>109.7031</td>\n      <td>111.3894</td>\n      <td>109.7031</td>\n      <td>111.1910</td>\n      <td>1079</td>\n      <td>120653</td>\n      <td>549</td>\n      <td>36500.0</td>\n      <td>NaN</td>\n      <td>NaN</td>\n    </tr>\n    <tr>\n      <th>304540</th>\n      <td>0052 富邦科技</td>\n      <td>2021-01-05</td>\n      <td>111.1910</td>\n      <td>111.9845</td>\n      <td>110.2487</td>\n      <td>111.9845</td>\n      <td>1536</td>\n      <td>172232</td>\n      <td>673</td>\n      <td>37000.0</td>\n      <td>NaN</td>\n      <td>NaN</td>\n    </tr>\n    <tr>\n      <th>303296</th>\n      <td>0052 富邦科技</td>\n      <td>2021-01-06</td>\n      <td>113.5715</td>\n      <td>114.4146</td>\n      <td>111.3894</td>\n      <td>112.6788</td>\n      <td>864</td>\n      <td>98497</td>\n      <td>743</td>\n      <td>37500.0</td>\n      <td>NaN</td>\n      <td>NaN</td>\n    </tr>\n    <tr>\n      <th>302052</th>\n      <td>0052 富邦科技</td>\n      <td>2021-01-07</td>\n      <td>114.0179</td>\n      <td>116.2000</td>\n      <td>113.4723</td>\n      <td>115.8529</td>\n      <td>817</td>\n      <td>94932</td>\n      <td>810</td>\n      <td>37500.0</td>\n      <td>NaN</td>\n      <td>NaN</td>\n    </tr>\n    <tr>\n      <th>300808</th>\n      <td>0052 富邦科技</td>\n      <td>2021-01-08</td>\n      <td>118.0350</td>\n      <td>118.5310</td>\n      <td>117.1919</td>\n      <td>118.5310</td>\n      <td>1244</td>\n      <td>148170</td>\n      <td>849</td>\n      <td>38000.0</td>\n      <td>NaN</td>\n      <td>NaN</td>\n    </tr>\n  </tbody>\n</table>\n</div>"
     },
     "metadata": {},
     "output_type": "display_data"
    },
    {
     "name": "stdout",
     "output_type": "stream",
     "text": [
      "\n"
     ]
    }
   ],
   "source": [
    "# order by time\n",
    "for stock_id, df in stock_dfs.items():\n",
    "    stock_dfs[stock_id] = df.sort_values(by='date')\n",
    "\n",
    "# preview 5 stocks head\n",
    "for stock_id, df in list(stock_dfs.items())[:3]:\n",
    "    display(f\"{stock_id} head:\")\n",
    "    display(df.head())\n",
    "    print()"
   ]
  },
  {
   "cell_type": "markdown",
   "metadata": {
    "collapsed": false
   },
   "source": [
    "Now we make metadata for all stock, this should include row_cnt, have_null_price, missing_rows_cnt"
   ]
  },
  {
   "cell_type": "code",
   "execution_count": 12,
   "metadata": {
    "collapsed": false
   },
   "outputs": [
    {
     "data": {
      "text/plain": "                 id      name row_cnt have_null_price history_path stock_type\n0050 元大台灣50    0050    元大台灣50     539           False                      上櫃\n0051 元大中型100   0051   元大中型100     539           False                      上櫃\n0052 富邦科技      0052      富邦科技     539           False                      上櫃\n0053 元大電子      0053      元大電子     539           False                      上櫃\n0055 元大MSCI金融  0055  元大MSCI金融     539           False                      上櫃",
      "text/html": "<div>\n<style scoped>\n    .dataframe tbody tr th:only-of-type {\n        vertical-align: middle;\n    }\n\n    .dataframe tbody tr th {\n        vertical-align: top;\n    }\n\n    .dataframe thead th {\n        text-align: right;\n    }\n</style>\n<table border=\"1\" class=\"dataframe\">\n  <thead>\n    <tr style=\"text-align: right;\">\n      <th></th>\n      <th>id</th>\n      <th>name</th>\n      <th>row_cnt</th>\n      <th>have_null_price</th>\n      <th>history_path</th>\n      <th>stock_type</th>\n    </tr>\n  </thead>\n  <tbody>\n    <tr>\n      <th>0050 元大台灣50</th>\n      <td>0050</td>\n      <td>元大台灣50</td>\n      <td>539</td>\n      <td>False</td>\n      <td></td>\n      <td>上櫃</td>\n    </tr>\n    <tr>\n      <th>0051 元大中型100</th>\n      <td>0051</td>\n      <td>元大中型100</td>\n      <td>539</td>\n      <td>False</td>\n      <td></td>\n      <td>上櫃</td>\n    </tr>\n    <tr>\n      <th>0052 富邦科技</th>\n      <td>0052</td>\n      <td>富邦科技</td>\n      <td>539</td>\n      <td>False</td>\n      <td></td>\n      <td>上櫃</td>\n    </tr>\n    <tr>\n      <th>0053 元大電子</th>\n      <td>0053</td>\n      <td>元大電子</td>\n      <td>539</td>\n      <td>False</td>\n      <td></td>\n      <td>上櫃</td>\n    </tr>\n    <tr>\n      <th>0055 元大MSCI金融</th>\n      <td>0055</td>\n      <td>元大MSCI金融</td>\n      <td>539</td>\n      <td>False</td>\n      <td></td>\n      <td>上櫃</td>\n    </tr>\n  </tbody>\n</table>\n</div>"
     },
     "execution_count": 12,
     "metadata": {},
     "output_type": "execute_result"
    }
   ],
   "source": [
    "# make metadata for all stock\n",
    "stock_metadata = dict()\n",
    "for stock_id, df in stock_dfs.items():\n",
    "    # get row count\n",
    "    row_cnt = df.shape[0]\n",
    "    # check if there is any null price\n",
    "    have_null_price = df['close'].isnull().any()\n",
    "    stock_metadata[stock_id] = {\n",
    "        \"id\": stock_id.split(' ')[0],\n",
    "        \"name\": stock_id.split(' ')[1],\n",
    "        'row_cnt': row_cnt,\n",
    "        'have_null_price': have_null_price,\n",
    "        \"history_path\": \"\",\n",
    "    }\n",
    "# check type 上市 or 上櫃\n",
    "for sheet_name, df in raw_stock_dfs.items():\n",
    "    stock_type = \"上市\" if sheet_name == \"上市股票\" else \"上櫃\"\n",
    "    for stock_id in df['name'].unique():\n",
    "        stock_metadata[stock_id]['stock_type'] = stock_type\n",
    "# convert to df\n",
    "stock_metadata_df = pd.DataFrame(stock_metadata).T\n",
    "stock_metadata_df.head()"
   ]
  },
  {
   "cell_type": "code",
   "execution_count": 13,
   "outputs": [],
   "source": [
    "for stock_id, df in stock_dfs.items():\n",
    "    stock_dfs[stock_id] = stock_dfs[stock_id].drop(columns=['name'])"
   ],
   "metadata": {
    "collapsed": false
   }
  },
  {
   "cell_type": "markdown",
   "metadata": {
    "collapsed": false
   },
   "source": [
    "Save metadata and stock dfs csv files"
   ]
  },
  {
   "cell_type": "code",
   "execution_count": 14,
   "metadata": {
    "collapsed": false
   },
   "outputs": [
    {
     "name": "stderr",
     "output_type": "stream",
     "text": [
      "100%|██████████| 2607/2607 [00:14<00:00, 179.40it/s]\n"
     ]
    }
   ],
   "source": [
    "# save to csv\n",
    "os.makedirs(STOCKS_DIR, exist_ok=True)\n",
    "for stock_id, df in tqdm(stock_dfs.items()):\n",
    "    csv_file_path = Path(ORGANIZED_DATASET_DIR, f\"{stock_id}.csv\")\n",
    "    stock_metadata_df.loc[stock_id, 'history_path'] = str(csv_file_path.absolute())\n",
    "    df.to_csv(csv_file_path, index=False)\n",
    "metadata_csv_path = Path(METADATA_PATH)\n",
    "stock_metadata_df.to_csv(metadata_csv_path, index=False)"
   ]
  },
  {
   "cell_type": "markdown",
   "metadata": {
    "collapsed": false
   },
   "source": [
    "Check every thing is correct"
   ]
  },
  {
   "cell_type": "code",
   "execution_count": 15,
   "metadata": {
    "collapsed": false
   },
   "outputs": [
    {
     "data": {
      "text/plain": "'metadata:'"
     },
     "metadata": {},
     "output_type": "display_data"
    },
    {
     "data": {
      "text/plain": "     id      name  row_cnt  have_null_price   \n0  0050    元大台灣50      539            False  \\\n1  0051   元大中型100      539            False   \n2  0052      富邦科技      539            False   \n3  0053      元大電子      539            False   \n4  0055  元大MSCI金融      539            False   \n\n                                        history_path stock_type  \n0  C:\\Users\\break\\Projects\\College\\大四下\\DatAnalysi...         上櫃  \n1  C:\\Users\\break\\Projects\\College\\大四下\\DatAnalysi...         上櫃  \n2  C:\\Users\\break\\Projects\\College\\大四下\\DatAnalysi...         上櫃  \n3  C:\\Users\\break\\Projects\\College\\大四下\\DatAnalysi...         上櫃  \n4  C:\\Users\\break\\Projects\\College\\大四下\\DatAnalysi...         上櫃  ",
      "text/html": "<div>\n<style scoped>\n    .dataframe tbody tr th:only-of-type {\n        vertical-align: middle;\n    }\n\n    .dataframe tbody tr th {\n        vertical-align: top;\n    }\n\n    .dataframe thead th {\n        text-align: right;\n    }\n</style>\n<table border=\"1\" class=\"dataframe\">\n  <thead>\n    <tr style=\"text-align: right;\">\n      <th></th>\n      <th>id</th>\n      <th>name</th>\n      <th>row_cnt</th>\n      <th>have_null_price</th>\n      <th>history_path</th>\n      <th>stock_type</th>\n    </tr>\n  </thead>\n  <tbody>\n    <tr>\n      <th>0</th>\n      <td>0050</td>\n      <td>元大台灣50</td>\n      <td>539</td>\n      <td>False</td>\n      <td>C:\\Users\\break\\Projects\\College\\大四下\\DatAnalysi...</td>\n      <td>上櫃</td>\n    </tr>\n    <tr>\n      <th>1</th>\n      <td>0051</td>\n      <td>元大中型100</td>\n      <td>539</td>\n      <td>False</td>\n      <td>C:\\Users\\break\\Projects\\College\\大四下\\DatAnalysi...</td>\n      <td>上櫃</td>\n    </tr>\n    <tr>\n      <th>2</th>\n      <td>0052</td>\n      <td>富邦科技</td>\n      <td>539</td>\n      <td>False</td>\n      <td>C:\\Users\\break\\Projects\\College\\大四下\\DatAnalysi...</td>\n      <td>上櫃</td>\n    </tr>\n    <tr>\n      <th>3</th>\n      <td>0053</td>\n      <td>元大電子</td>\n      <td>539</td>\n      <td>False</td>\n      <td>C:\\Users\\break\\Projects\\College\\大四下\\DatAnalysi...</td>\n      <td>上櫃</td>\n    </tr>\n    <tr>\n      <th>4</th>\n      <td>0055</td>\n      <td>元大MSCI金融</td>\n      <td>539</td>\n      <td>False</td>\n      <td>C:\\Users\\break\\Projects\\College\\大四下\\DatAnalysi...</td>\n      <td>上櫃</td>\n    </tr>\n  </tbody>\n</table>\n</div>"
     },
     "metadata": {},
     "output_type": "display_data"
    },
    {
     "data": {
      "text/plain": "'0051 元大中型100 head:'"
     },
     "metadata": {},
     "output_type": "display_data"
    },
    {
     "data": {
      "text/plain": "         date     open     high      low    close  volume(k)  turnover(k)   \n0  2021-01-04  43.1954  43.3411  42.9038  43.3411         32         1424  \\\n1  2021-01-05  43.3411  43.4772  43.1370  43.3800        175         7827   \n2  2021-01-06  43.5355  43.8464  42.7581  43.0204        102         4556   \n3  2021-01-07  43.1565  43.3606  43.0496  43.2828         65         2919   \n4  2021-01-08  43.4189  43.5160  43.2439  43.5160        137         6127   \n\n   transaction  outstanding(k)  pe  pb  \n0           35         10000.0 NaN NaN  \n1           44         10000.0 NaN NaN  \n2           77         10000.0 NaN NaN  \n3           61         10000.0 NaN NaN  \n4           50         10000.0 NaN NaN  ",
      "text/html": "<div>\n<style scoped>\n    .dataframe tbody tr th:only-of-type {\n        vertical-align: middle;\n    }\n\n    .dataframe tbody tr th {\n        vertical-align: top;\n    }\n\n    .dataframe thead th {\n        text-align: right;\n    }\n</style>\n<table border=\"1\" class=\"dataframe\">\n  <thead>\n    <tr style=\"text-align: right;\">\n      <th></th>\n      <th>date</th>\n      <th>open</th>\n      <th>high</th>\n      <th>low</th>\n      <th>close</th>\n      <th>volume(k)</th>\n      <th>turnover(k)</th>\n      <th>transaction</th>\n      <th>outstanding(k)</th>\n      <th>pe</th>\n      <th>pb</th>\n    </tr>\n  </thead>\n  <tbody>\n    <tr>\n      <th>0</th>\n      <td>2021-01-04</td>\n      <td>43.1954</td>\n      <td>43.3411</td>\n      <td>42.9038</td>\n      <td>43.3411</td>\n      <td>32</td>\n      <td>1424</td>\n      <td>35</td>\n      <td>10000.0</td>\n      <td>NaN</td>\n      <td>NaN</td>\n    </tr>\n    <tr>\n      <th>1</th>\n      <td>2021-01-05</td>\n      <td>43.3411</td>\n      <td>43.4772</td>\n      <td>43.1370</td>\n      <td>43.3800</td>\n      <td>175</td>\n      <td>7827</td>\n      <td>44</td>\n      <td>10000.0</td>\n      <td>NaN</td>\n      <td>NaN</td>\n    </tr>\n    <tr>\n      <th>2</th>\n      <td>2021-01-06</td>\n      <td>43.5355</td>\n      <td>43.8464</td>\n      <td>42.7581</td>\n      <td>43.0204</td>\n      <td>102</td>\n      <td>4556</td>\n      <td>77</td>\n      <td>10000.0</td>\n      <td>NaN</td>\n      <td>NaN</td>\n    </tr>\n    <tr>\n      <th>3</th>\n      <td>2021-01-07</td>\n      <td>43.1565</td>\n      <td>43.3606</td>\n      <td>43.0496</td>\n      <td>43.2828</td>\n      <td>65</td>\n      <td>2919</td>\n      <td>61</td>\n      <td>10000.0</td>\n      <td>NaN</td>\n      <td>NaN</td>\n    </tr>\n    <tr>\n      <th>4</th>\n      <td>2021-01-08</td>\n      <td>43.4189</td>\n      <td>43.5160</td>\n      <td>43.2439</td>\n      <td>43.5160</td>\n      <td>137</td>\n      <td>6127</td>\n      <td>50</td>\n      <td>10000.0</td>\n      <td>NaN</td>\n      <td>NaN</td>\n    </tr>\n  </tbody>\n</table>\n</div>"
     },
     "metadata": {},
     "output_type": "display_data"
    },
    {
     "name": "stdout",
     "output_type": "stream",
     "text": [
      "\n"
     ]
    },
    {
     "data": {
      "text/plain": "'0052 富邦科技 head:'"
     },
     "metadata": {},
     "output_type": "display_data"
    },
    {
     "data": {
      "text/plain": "         date      open      high       low     close  volume(k)  turnover(k)   \n0  2021-01-04  109.7031  111.3894  109.7031  111.1910       1079       120653  \\\n1  2021-01-05  111.1910  111.9845  110.2487  111.9845       1536       172232   \n2  2021-01-06  113.5715  114.4146  111.3894  112.6788        864        98497   \n3  2021-01-07  114.0179  116.2000  113.4723  115.8529        817        94932   \n4  2021-01-08  118.0350  118.5310  117.1919  118.5310       1244       148170   \n\n   transaction  outstanding(k)  pe  pb  \n0          549         36500.0 NaN NaN  \n1          673         37000.0 NaN NaN  \n2          743         37500.0 NaN NaN  \n3          810         37500.0 NaN NaN  \n4          849         38000.0 NaN NaN  ",
      "text/html": "<div>\n<style scoped>\n    .dataframe tbody tr th:only-of-type {\n        vertical-align: middle;\n    }\n\n    .dataframe tbody tr th {\n        vertical-align: top;\n    }\n\n    .dataframe thead th {\n        text-align: right;\n    }\n</style>\n<table border=\"1\" class=\"dataframe\">\n  <thead>\n    <tr style=\"text-align: right;\">\n      <th></th>\n      <th>date</th>\n      <th>open</th>\n      <th>high</th>\n      <th>low</th>\n      <th>close</th>\n      <th>volume(k)</th>\n      <th>turnover(k)</th>\n      <th>transaction</th>\n      <th>outstanding(k)</th>\n      <th>pe</th>\n      <th>pb</th>\n    </tr>\n  </thead>\n  <tbody>\n    <tr>\n      <th>0</th>\n      <td>2021-01-04</td>\n      <td>109.7031</td>\n      <td>111.3894</td>\n      <td>109.7031</td>\n      <td>111.1910</td>\n      <td>1079</td>\n      <td>120653</td>\n      <td>549</td>\n      <td>36500.0</td>\n      <td>NaN</td>\n      <td>NaN</td>\n    </tr>\n    <tr>\n      <th>1</th>\n      <td>2021-01-05</td>\n      <td>111.1910</td>\n      <td>111.9845</td>\n      <td>110.2487</td>\n      <td>111.9845</td>\n      <td>1536</td>\n      <td>172232</td>\n      <td>673</td>\n      <td>37000.0</td>\n      <td>NaN</td>\n      <td>NaN</td>\n    </tr>\n    <tr>\n      <th>2</th>\n      <td>2021-01-06</td>\n      <td>113.5715</td>\n      <td>114.4146</td>\n      <td>111.3894</td>\n      <td>112.6788</td>\n      <td>864</td>\n      <td>98497</td>\n      <td>743</td>\n      <td>37500.0</td>\n      <td>NaN</td>\n      <td>NaN</td>\n    </tr>\n    <tr>\n      <th>3</th>\n      <td>2021-01-07</td>\n      <td>114.0179</td>\n      <td>116.2000</td>\n      <td>113.4723</td>\n      <td>115.8529</td>\n      <td>817</td>\n      <td>94932</td>\n      <td>810</td>\n      <td>37500.0</td>\n      <td>NaN</td>\n      <td>NaN</td>\n    </tr>\n    <tr>\n      <th>4</th>\n      <td>2021-01-08</td>\n      <td>118.0350</td>\n      <td>118.5310</td>\n      <td>117.1919</td>\n      <td>118.5310</td>\n      <td>1244</td>\n      <td>148170</td>\n      <td>849</td>\n      <td>38000.0</td>\n      <td>NaN</td>\n      <td>NaN</td>\n    </tr>\n  </tbody>\n</table>\n</div>"
     },
     "metadata": {},
     "output_type": "display_data"
    },
    {
     "name": "stdout",
     "output_type": "stream",
     "text": [
      "\n"
     ]
    },
    {
     "data": {
      "text/plain": "'0053 元大電子 head:'"
     },
     "metadata": {},
     "output_type": "display_data"
    },
    {
     "data": {
      "text/plain": "         date     open     high      low    close  volume(k)  turnover(k)   \n0  2021-01-04  55.9074  57.0783  55.9074  57.0783         24         1403  \\\n1  2021-01-05  57.0783  57.8100  57.0783  57.8100         19         1127   \n2  2021-01-06  58.5418  58.9321  57.6637  58.0540        101         6063   \n3  2021-01-07  58.8833  59.5175  58.2491  59.5175         31         1903   \n4  2021-01-08  60.2981  60.8347  59.7127  60.7859        122         7575   \n\n   transaction  outstanding(k)  pe  pb  \n0           23          5488.0 NaN NaN  \n1           17          5488.0 NaN NaN  \n2           59          5488.0 NaN NaN  \n3           41          5488.0 NaN NaN  \n4           63          5488.0 NaN NaN  ",
      "text/html": "<div>\n<style scoped>\n    .dataframe tbody tr th:only-of-type {\n        vertical-align: middle;\n    }\n\n    .dataframe tbody tr th {\n        vertical-align: top;\n    }\n\n    .dataframe thead th {\n        text-align: right;\n    }\n</style>\n<table border=\"1\" class=\"dataframe\">\n  <thead>\n    <tr style=\"text-align: right;\">\n      <th></th>\n      <th>date</th>\n      <th>open</th>\n      <th>high</th>\n      <th>low</th>\n      <th>close</th>\n      <th>volume(k)</th>\n      <th>turnover(k)</th>\n      <th>transaction</th>\n      <th>outstanding(k)</th>\n      <th>pe</th>\n      <th>pb</th>\n    </tr>\n  </thead>\n  <tbody>\n    <tr>\n      <th>0</th>\n      <td>2021-01-04</td>\n      <td>55.9074</td>\n      <td>57.0783</td>\n      <td>55.9074</td>\n      <td>57.0783</td>\n      <td>24</td>\n      <td>1403</td>\n      <td>23</td>\n      <td>5488.0</td>\n      <td>NaN</td>\n      <td>NaN</td>\n    </tr>\n    <tr>\n      <th>1</th>\n      <td>2021-01-05</td>\n      <td>57.0783</td>\n      <td>57.8100</td>\n      <td>57.0783</td>\n      <td>57.8100</td>\n      <td>19</td>\n      <td>1127</td>\n      <td>17</td>\n      <td>5488.0</td>\n      <td>NaN</td>\n      <td>NaN</td>\n    </tr>\n    <tr>\n      <th>2</th>\n      <td>2021-01-06</td>\n      <td>58.5418</td>\n      <td>58.9321</td>\n      <td>57.6637</td>\n      <td>58.0540</td>\n      <td>101</td>\n      <td>6063</td>\n      <td>59</td>\n      <td>5488.0</td>\n      <td>NaN</td>\n      <td>NaN</td>\n    </tr>\n    <tr>\n      <th>3</th>\n      <td>2021-01-07</td>\n      <td>58.8833</td>\n      <td>59.5175</td>\n      <td>58.2491</td>\n      <td>59.5175</td>\n      <td>31</td>\n      <td>1903</td>\n      <td>41</td>\n      <td>5488.0</td>\n      <td>NaN</td>\n      <td>NaN</td>\n    </tr>\n    <tr>\n      <th>4</th>\n      <td>2021-01-08</td>\n      <td>60.2981</td>\n      <td>60.8347</td>\n      <td>59.7127</td>\n      <td>60.7859</td>\n      <td>122</td>\n      <td>7575</td>\n      <td>63</td>\n      <td>5488.0</td>\n      <td>NaN</td>\n      <td>NaN</td>\n    </tr>\n  </tbody>\n</table>\n</div>"
     },
     "metadata": {},
     "output_type": "display_data"
    },
    {
     "name": "stdout",
     "output_type": "stream",
     "text": [
      "\n"
     ]
    }
   ],
   "source": [
    "# check every thing is correct\n",
    "metadata_df = pd.read_csv(Path(METADATA_PATH))\n",
    "display(\"metadata:\")\n",
    "display(metadata_df.head())\n",
    "\n",
    "# read all csv in STOCKS_DIR\n",
    "dfs = dict()\n",
    "for csv_file_path in Path(STOCKS_DIR).glob(\"*.csv\"):\n",
    "    stock_id = csv_file_path.stem\n",
    "    dfs[stock_id] = pd.read_csv(csv_file_path)\n",
    "# check random 3 stocks\n",
    "for stock_id in list(dfs.keys())[1:4]:\n",
    "    display(f\"{stock_id} head:\")\n",
    "    display(dfs[stock_id].head())\n",
    "    print()\n"
   ]
  },
  {
   "attachments": {},
   "cell_type": "markdown",
   "metadata": {},
   "source": [
    "Everything look fine"
   ]
  }
 ],
 "metadata": {
  "kernelspec": {
   "display_name": "Python 3",
   "language": "python",
   "name": "python3"
  },
  "language_info": {
   "codemirror_mode": {
    "name": "ipython",
    "version": 3
   },
   "file_extension": ".py",
   "mimetype": "text/x-python",
   "name": "python",
   "nbconvert_exporter": "python",
   "pygments_lexer": "ipython3",
   "version": "3.11.2"
  }
 },
 "nbformat": 4,
 "nbformat_minor": 0
}
