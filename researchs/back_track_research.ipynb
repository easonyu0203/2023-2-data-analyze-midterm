{
 "cells": [
  {
   "cell_type": "markdown",
   "metadata": {
    "collapsed": false
   },
   "source": [
    "# Back Track Research\n",
    "\n"
   ]
  },
  {
   "cell_type": "markdown",
   "metadata": {
    "collapsed": false
   },
   "source": [
    "### Set up notebook (not important)\n",
    "change directory to root and import stuff"
   ]
  },
  {
   "cell_type": "code",
   "execution_count": 5,
   "metadata": {
    "collapsed": false
   },
   "outputs": [
    {
     "data": {
      "text/plain": "'/Users/Ethan/Developer/Projects/College/大四下/數據分析/期中'"
     },
     "execution_count": 5,
     "metadata": {},
     "output_type": "execute_result"
    }
   ],
   "source": [
    "import os\n",
    "import random\n",
    "\n",
    "folder_name = \"demo\"\n",
    "if folder_name in os.getcwd():\n",
    "    os.chdir(os.path.abspath(os.pardir))\n",
    "%pwd"
   ]
  },
  {
   "cell_type": "code",
   "execution_count": 6,
   "metadata": {
    "collapsed": false
   },
   "outputs": [],
   "source": [
    "from datasets.docs_dataset import DocsDataset, DbDocsDataset\n",
    "from datasets.stock_dataset import StockMeta\n",
    "from preprocess.preprocess_pipeline import PreprocessPipeline\n",
    "from preprocess.docs_filterer import IDocsFilterer, StockNameFilterer, Word2VecSimilarFilterer\n",
    "from preprocess.docs_labeler import IDocsLabeler, FutureReturnDocsLabeler\n",
    "from preprocess.keyword_extractor import IKeywordExtractor, JiebaKeywordExtractor, TFIDFKeywordExtractor, ChiSquareKeywordExtractor\n",
    "from preprocess.vectorlizer import IVectorlizer, KeywordsTfIdfVectorlizer\n",
    "from sklearn.linear_model import LogisticRegression\n",
    "from back_track.back_track import BackTrackConfig, BackTrackResult, BackTrack\n",
    "from datetime import datetime, timedelta\n",
    "from sklearn.pipeline import make_pipeline\n",
    "from sklearn.preprocessing import StandardScaler\n",
    "from sklearn.svm import SVC"
   ]
  },
  {
   "cell_type": "code",
   "execution_count": 7,
   "metadata": {
    "collapsed": true
   },
   "outputs": [
    {
     "name": "stdout",
     "output_type": "stream",
     "text": [
      "backtest start date: 2019-04-01 00:00:00\n",
      "backtest end date: 2019-12-30 00:00:00\n",
      "train span: 90 days, 0:00:00\n",
      "inference span: 30 days, 0:00:00\n",
      "==================================================\n",
      "\n",
      "\n",
      "train span: 2019-04-01 00:00:00 => 2019-06-30 00:00:00\n",
      "\n",
      "inference span: 2019-06-30 00:00:00 => 2019-07-30 00:00:00\n"
     ]
    },
    {
     "name": "stderr",
     "output_type": "stream",
     "text": [
      "test date: 2019-07-30 00:00:00: 31it [00:51,  1.65s/it]                        \n"
     ]
    },
    {
     "name": "stdout",
     "output_type": "stream",
     "text": [
      "\n",
      "\n",
      "train span: 2019-05-01 00:00:00 => 2019-07-30 00:00:00\n",
      "\n",
      "inference span: 2019-07-30 00:00:00 => 2019-08-29 00:00:00\n"
     ]
    },
    {
     "name": "stderr",
     "output_type": "stream",
     "text": [
      "test date: 2019-08-29 00:00:00: 31it [00:44,  1.44s/it]                        \n"
     ]
    },
    {
     "name": "stdout",
     "output_type": "stream",
     "text": [
      "\n",
      "\n",
      "train span: 2019-05-31 00:00:00 => 2019-08-29 00:00:00\n",
      "\n",
      "inference span: 2019-08-29 00:00:00 => 2019-09-28 00:00:00\n"
     ]
    },
    {
     "name": "stderr",
     "output_type": "stream",
     "text": [
      "test date: 2019-09-27 00:00:00: 31it [00:43,  1.42s/it]                        \n"
     ]
    },
    {
     "name": "stdout",
     "output_type": "stream",
     "text": [
      "\n",
      "\n",
      "train span: 2019-06-30 00:00:00 => 2019-09-28 00:00:00\n",
      "\n",
      "inference span: 2019-09-28 00:00:00 => 2019-10-28 00:00:00\n"
     ]
    },
    {
     "name": "stderr",
     "output_type": "stream",
     "text": [
      "test date: 2019-10-28 00:00:00: 31it [00:41,  1.33s/it]                        \n"
     ]
    },
    {
     "name": "stdout",
     "output_type": "stream",
     "text": [
      "\n",
      "\n",
      "train span: 2019-07-30 00:00:00 => 2019-10-28 00:00:00\n",
      "\n",
      "inference span: 2019-10-28 00:00:00 => 2019-11-27 00:00:00\n"
     ]
    },
    {
     "name": "stderr",
     "output_type": "stream",
     "text": [
      "test date: 2019-11-27 00:00:00: 31it [00:49,  1.61s/it]                        \n"
     ]
    },
    {
     "name": "stdout",
     "output_type": "stream",
     "text": [
      "\n",
      "\n",
      "train span: 2019-08-29 00:00:00 => 2019-11-27 00:00:00\n",
      "\n",
      "inference span: 2019-11-27 00:00:00 => 2019-12-27 00:00:00\n"
     ]
    },
    {
     "name": "stderr",
     "output_type": "stream",
     "text": [
      "test date: 2019-12-27 00:00:00: 31it [00:48,  1.57s/it]                        "
     ]
    },
    {
     "name": "stdout",
     "output_type": "stream",
     "text": [
      "\n",
      "\n",
      "train span: 2019-09-28 00:00:00 => 2019-12-27 00:00:00\n",
      "backtest end\n"
     ]
    },
    {
     "name": "stderr",
     "output_type": "stream",
     "text": [
      "\n"
     ]
    }
   ],
   "source": [
    "# set up config\n",
    "docs_dataset = DbDocsDataset()\n",
    "stock_meta = StockMeta(\"./organized_data/stock_metadata.csv\")\n",
    "stock = stock_meta.get_stock_by_name(\"群創\")\n",
    "clf = make_pipeline(StandardScaler(), SVC(probability=True))\n",
    "preprocess_pipeline = PreprocessPipeline(\n",
    "    docs_filterer=Word2VecSimilarFilterer(topn=5, white_noise_ratio=0),\n",
    "    docs_labeler=FutureReturnDocsLabeler(s=3, threshold=0.1),\n",
    "    keywords_extractor=JiebaKeywordExtractor(),\n",
    "    vectorizer=KeywordsTfIdfVectorlizer(count_features=100, pca_components=10)\n",
    ")\n",
    "\n",
    "config = BackTrackConfig(\n",
    "    s=3,\n",
    "    docs_dataset=docs_dataset,\n",
    "    start_date=datetime(2019, 4, 1),\n",
    "    end_date=datetime(2019, 12, 30),\n",
    "    train_span=timedelta(days=90),\n",
    "    inference_span=timedelta(days=30),\n",
    "    take_shot_threshold=0.1,\n",
    "    preprocess_pipeline=preprocess_pipeline\n",
    ")\n",
    "\n",
    "# run backtest\n",
    "backtrack = BackTrack(config)\n",
    "result = backtrack.run(stock, clf)"
   ]
  },
  {
   "attachments": {},
   "cell_type": "markdown",
   "metadata": {},
   "source": [
    "# 回測成果展示"
   ]
  },
  {
   "cell_type": "code",
   "execution_count": 1,
   "metadata": {
    "collapsed": false
   },
   "outputs": [
    {
     "name": "stdout",
     "output_type": "stream",
     "text": [
      "2019-07-01\n",
      "y_pred        day  count_up  count_down 當天實際 當天預測 出手\n",
      "0      2019-07-01       0.0         8.0    跌    跌  是\n",
      "1      2019-07-02       0.0        11.0    跌    跌  是\n",
      "2      2019-07-03       0.0         5.0    漲    跌  是\n",
      "3      2019-07-04       0.0         4.0    跌    漲  是\n",
      "4      2019-07-05       0.0         7.0    跌    漲  是\n",
      "7      2019-07-08       0.0         6.0    漲    漲  是\n",
      "8      2019-07-09       6.0        17.0    漲    漲  是\n",
      "9      2019-07-10       0.0         6.0    跌    漲  是\n",
      "10     2019-07-11       0.0         7.0    漲    漲  是\n",
      "11     2019-07-12       2.0        17.0    漲    漲  是\n",
      "14     2019-07-15       0.0        16.0    漲    漲  是\n",
      "15     2019-07-16       0.0        17.0    漲    跌  是\n",
      "16     2019-07-17       0.0        38.0    跌    跌  是\n",
      "17     2019-07-18       0.0        18.0    跌    跌  是\n",
      "18     2019-07-19       0.0        10.0    跌    跌  是\n",
      "20     2019-07-22       0.0        10.0    跌    跌  是\n",
      "21     2019-07-23       0.0         9.0    跌    跌  是\n",
      "22     2019-07-24       2.0         8.0    跌    跌  是\n",
      "23     2019-07-25       0.0         5.0    跌    漲  是\n",
      "24     2019-07-26       1.0        11.0    漲    漲  是\n",
      "26     2019-07-29       0.0        11.0    跌    跌  是\n",
      "27     2019-07-30       1.0        11.0    跌    跌  是\n",
      "出手率：100.00%\n",
      "預測準確率: 71.43%\n",
      "[[6 2]\n",
      " [4 9]]\n",
      "2019-08-01\n",
      "y_pred        day  count_up  count_down 當天實際 當天預測 出手\n",
      "0      2019-08-01       0.0         9.0    跌    跌  是\n",
      "1      2019-08-02       2.0        32.0    跌    漲  是\n",
      "4      2019-08-05       5.0        25.0    跌    漲  是\n",
      "5      2019-08-06       3.0        11.0    跌    漲  是\n",
      "6      2019-08-07       1.0        17.0    漲    漲  是\n",
      "7      2019-08-08       0.0        16.0    跌    跌  是\n",
      "11     2019-08-12       2.0        13.0    跌    跌  是\n",
      "12     2019-08-13       0.0        11.0    漲    漲  是\n",
      "13     2019-08-14       0.0        26.0    漲    漲  是\n",
      "14     2019-08-15       0.0        25.0    漲    跌  是\n",
      "15     2019-08-16       0.0        33.0    漲    跌  是\n",
      "17     2019-08-19       0.0        26.0    跌    跌  是\n",
      "18     2019-08-20       0.0        33.0    漲    跌  是\n",
      "19     2019-08-21       0.0        31.0    跌    跌  是\n",
      "20     2019-08-22       0.0        16.0    跌    跌  是\n",
      "21     2019-08-23       2.0        33.0    跌    跌  是\n",
      "24     2019-08-26       2.0        24.0    漲    漲  是\n",
      "25     2019-08-27       0.0        22.0    漲    漲  是\n",
      "26     2019-08-28       0.0        15.0    漲    跌  是\n",
      "27     2019-08-29       0.0        19.0    漲    跌  是\n",
      "28     2019-08-30       0.0        15.0    漲    跌  是\n",
      "出手率：100.00%\n",
      "預測準確率: 55.00%\n",
      "[[5 6]\n",
      " [3 6]]\n",
      "2019-09-01\n",
      "y_pred        day  count_up  count_down 當天實際 當天預測 出手\n",
      "1      2019-09-02       1.0         9.0    漲    跌  是\n",
      "2      2019-09-03       1.0         7.0    漲    跌  是\n",
      "3      2019-09-04       2.0         5.0    漲    跌  是\n",
      "4      2019-09-05       1.0         6.0    漲    漲  是\n",
      "5      2019-09-06       7.0         8.0    漲    跌  否\n",
      "7      2019-09-09       7.0        14.0    漲    漲  是\n",
      "8      2019-09-10       5.0         5.0    漲    漲  否\n",
      "9      2019-09-11       1.0         7.0    跌    漲  是\n",
      "10     2019-09-12       3.0         6.0    跌    跌  是\n",
      "13     2019-09-16       0.0        20.0    跌    跌  是\n",
      "14     2019-09-17       4.0        16.0    跌    跌  是\n",
      "15     2019-09-18       2.0         8.0    跌    漲  是\n",
      "16     2019-09-19       2.0        14.0    漲    跌  是\n",
      "17     2019-09-20       3.0         6.0    跌    跌  是\n",
      "20     2019-09-23       0.0         3.0    跌    跌  是\n",
      "21     2019-09-24       0.0         7.0    跌    漲  是\n",
      "22     2019-09-25       0.0         7.0    跌    跌  是\n",
      "23     2019-09-26       1.0         9.0    跌    跌  是\n",
      "24     2019-09-27       2.0        12.0    漲    跌  是\n",
      "出手率：89.47%\n",
      "預測準確率: 56.25%\n",
      "[[2 4]\n",
      " [3 7]]\n",
      "2019-10-01\n",
      "y_pred        day  count_up  count_down 當天實際 當天預測 出手\n",
      "0      2019-10-01       1.0        13.0    漲    跌  是\n",
      "1      2019-10-02       2.0         4.0    漲    跌  是\n",
      "2      2019-10-03       4.0         7.0    漲    漲  是\n",
      "3      2019-10-04       5.0        10.0    跌    跌  是\n",
      "5      2019-10-07       4.0         6.0    跌    跌  是\n",
      "6      2019-10-08       2.0         6.0    跌    跌  是\n",
      "7      2019-10-09       8.0         7.0    漲    跌  否\n",
      "9      2019-10-14       4.0         8.0    漲    跌  是\n",
      "10     2019-10-15       6.0         5.0    漲    跌  否\n",
      "11     2019-10-16       3.0         4.0    漲    跌  否\n",
      "12     2019-10-17       3.0        11.0    跌    漲  是\n",
      "13     2019-10-18      10.0        11.0    跌    跌  否\n",
      "15     2019-10-21       4.0        11.0    跌    漲  是\n",
      "16     2019-10-22       4.0         2.0    跌    跌  是\n",
      "17     2019-10-23       4.0         3.0    漲    漲  否\n",
      "18     2019-10-24       8.0         7.0    跌    漲  否\n",
      "19     2019-10-25       6.0         5.0    漲    跌  否\n",
      "22     2019-10-28       5.0         4.0    跌    跌  否\n",
      "23     2019-10-29       1.0         7.0    跌    漲  是\n",
      "24     2019-10-30       6.0         9.0    跌    跌  是\n",
      "出手率：60.00%\n",
      "預測準確率: 54.55%\n",
      "[[1 2]\n",
      " [3 5]]\n",
      "2019-11-01\n",
      "y_pred        day  count_up  count_down 當天實際 當天預測 出手\n",
      "0      2019-11-01       4.0        13.0    漲    跌  是\n",
      "3      2019-11-04       1.0         8.0    漲    跌  是\n",
      "4      2019-11-05       1.0         7.0    漲    跌  是\n",
      "5      2019-11-06       3.0         7.0    跌    跌  是\n",
      "6      2019-11-07       4.0        10.0    跌    跌  是\n",
      "7      2019-11-08       6.0         9.0    跌    跌  是\n",
      "10     2019-11-11       1.0         6.0    跌    跌  是\n",
      "11     2019-11-12       3.0         4.0    漲    跌  否\n",
      "12     2019-11-13       3.0         7.0    漲    漲  是\n",
      "13     2019-11-14       4.0         8.0    漲    跌  是\n",
      "14     2019-11-15      14.0        11.0    漲    跌  是\n",
      "17     2019-11-18       4.0         9.0    跌    漲  是\n",
      "18     2019-11-19       3.0         5.0    跌    跌  是\n",
      "19     2019-11-20       5.0         6.0    漲    漲  否\n",
      "20     2019-11-21       1.0         1.0    漲    跌  否\n",
      "21     2019-11-22       0.0         1.0    漲    漲  是\n",
      "22     2019-11-25       5.0         4.0    漲    漲  否\n",
      "23     2019-11-26       4.0        13.0    漲    漲  是\n",
      "24     2019-11-27       9.0        11.0    漲    跌  是\n",
      "25     2019-11-28       4.0        16.0    漲    漲  是\n",
      "26     2019-11-29      10.0        16.0    漲    跌  是\n",
      "出手率：80.95%\n",
      "預測準確率: 56.25%\n",
      "[[4 6]\n",
      " [1 5]]\n",
      "2019-12-01\n",
      "y_pred        day  count_up  count_down 當天實際 當天預測 出手\n",
      "1      2019-12-02      23.0         1.0    跌    跌  是\n",
      "2      2019-12-03      17.0         2.0    跌    跌  是\n",
      "3      2019-12-04      26.0         1.0    漲    跌  是\n",
      "4      2019-12-05      21.0         0.0    漲    跌  是\n",
      "5      2019-12-06      16.0         0.0    漲    漲  是\n",
      "7      2019-12-09      31.0         2.0    漲    漲  是\n",
      "8      2019-12-10      26.0         3.0    漲    跌  是\n",
      "9      2019-12-11      22.0         3.0    漲    跌  是\n",
      "10     2019-12-12      19.0         1.0    漲    跌  是\n",
      "11     2019-12-13      21.0         0.0    漲    跌  是\n",
      "13     2019-12-16      39.0         0.0    跌    漲  是\n",
      "14     2019-12-17      35.0         2.0    跌    漲  是\n",
      "15     2019-12-18      23.0         2.0    跌    跌  是\n",
      "16     2019-12-19      20.0         0.0    跌    跌  是\n",
      "17     2019-12-20      26.0         0.0    漲    漲  是\n",
      "20     2019-12-23      31.0         0.0    跌    漲  是\n",
      "21     2019-12-24      16.0         0.0    漲    漲  是\n",
      "22     2019-12-25      18.0         1.0    跌    漲  是\n",
      "23     2019-12-26      17.0         1.0    跌    跌  是\n",
      "24     2019-12-27      24.0         1.0    跌    跌  是\n",
      "26     2019-12-30      34.0         2.0    跌    跌  是\n",
      "出手率：100.00%\n",
      "預測準確率: 50.00%\n",
      "[[4 6]\n",
      " [4 6]]\n",
      "總出手次數: 110\n",
      "總出手率: 0.8870967741935484\n",
      "總分類結果為True的次數: 60\n",
      "總準確率: 0.5769230769230769 %\n"
     ]
    }
   ],
   "source": [
    "def display_result(result):\n",
    "    # convdrt result to pd dateframe\n",
    "    df = result.to_df()\n",
    "    df[\"date\"] = df[\"date\"].apply(lambda x: x.strftime(\"%Y-%m-%d\"))\n",
    "    df[\"train_start_date\"] = df[\"train_start_date\"].apply(lambda x: x.strftime(\"%Y-%m-%d\"))\n",
    "    df[\"train_end_date\"] = df[\"train_end_date\"].apply(lambda x: x.strftime(\"%Y-%m-%d\"))\n",
    "    df[\"inference_start_date\"] = df[\"inference_start_date\"].apply(lambda x: x.strftime(\"%Y-%m-%d\"))\n",
    "    df[\"inference_end_date\"] = df[\"inference_end_date\"].apply(lambda x: x.strftime(\"%Y-%m-%d\"))\n",
    "    df[\"train_accuracy\"] = df[\"train_accuracy\"].apply(lambda x: round(x, 4))\n",
    "\n",
    "    # display result\n",
    "    display(df)\n",
    "    # print result\n",
    "    print(\"總出手次數: \", round(result.total_profit, 4))\n",
    "    print(\"總準確率: \", round(result.total_profit_rate, 4))\n",
    "\n",
    "display(result)"
   ]
  }
 ],
 "metadata": {
  "kernelspec": {
   "display_name": "Python 3",
   "language": "python",
   "name": "python3"
  },
  "language_info": {
   "codemirror_mode": {
    "name": "ipython",
    "version": 3
   },
   "file_extension": ".py",
   "mimetype": "text/x-python",
   "name": "python",
   "nbconvert_exporter": "python",
   "pygments_lexer": "ipython3",
   "version": "3.11.2"
  }
 },
 "nbformat": 4,
 "nbformat_minor": 0
}
