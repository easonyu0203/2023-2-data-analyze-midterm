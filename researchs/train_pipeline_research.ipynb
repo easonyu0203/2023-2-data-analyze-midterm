{
 "cells": [
  {
   "cell_type": "markdown",
   "metadata": {
    "collapsed": false
   },
   "source": [
    "# training Pipeline Research\n",
    "\n",
    "In this notebook, we aim to find a good training pipeline for predicting stock future return, to determine a training pipline is good or not really depend on the metrix we concerned and what stock we care, by the research in stock_feature_research.ipynb, we have chosen 10 stock, and now we decide to use accuracy as our metrix, and we want to find a pipline which can yield high accuracy and low std for all stock:\n",
    "\n",
    "for each config-pipeline, we compute the average/std accuracy for each stock, and plot it to a graph to see which perform better\n",
    "\n",
    "NOTE: why we care about accuracy:<br>\n",
    "in context of stock future return prediction, we care both risen and fallen, and since accuracy take into account both positive and negative label( for recall, precision, f1 they care about positive label) we think this metrix can most represent what we want to achieve."
   ]
  },
  {
   "cell_type": "markdown",
   "metadata": {
    "collapsed": false
   },
   "source": [
    "### Set up notebook (not important)\n",
    "change directory to root and import stuff"
   ]
  },
  {
   "cell_type": "code",
   "execution_count": 1,
   "metadata": {
    "collapsed": false
   },
   "outputs": [
    {
     "data": {
      "text/plain": [
       "'/Users/Ethan/Developer/Projects/College/大四下/數據分析/期中'"
      ]
     },
     "execution_count": 1,
     "metadata": {},
     "output_type": "execute_result"
    }
   ],
   "source": [
    "import os\n",
    "\n",
    "folder_name = \"researchs\"\n",
    "if folder_name in os.getcwd():\n",
    "    os.chdir(os.path.abspath(os.pardir))\n",
    "%pwd"
   ]
  },
  {
   "cell_type": "markdown",
   "metadata": {
    "collapsed": false
   },
   "source": [
    "# Dataset\n",
    "we use DbDocsDataset to get our dataset, previously we store all our docs in db"
   ]
  },
  {
   "cell_type": "code",
   "execution_count": 2,
   "metadata": {
    "collapsed": false
   },
   "outputs": [
    {
     "name": "stdout",
     "output_type": "stream",
     "text": [
      "DocsDataset: load cached documents_df\n"
     ]
    },
    {
     "data": {
      "text/plain": [
       "(DocumentsDataset(size=2362609), StockMeta(stock_count=2607))"
      ]
     },
     "execution_count": 2,
     "metadata": {},
     "output_type": "execute_result"
    }
   ],
   "source": [
    "from datasets.docs_dataset import DocsDataset\n",
    "from datasets.stock_dataset import StockMeta\n",
    "\n",
    "docs_dataset = DocsDataset()\n",
    "stock_meta = StockMeta(\"./organized_data/stock_metadata.csv\")\n",
    "docs_dataset, stock_meta"
   ]
  },
  {
   "cell_type": "markdown",
   "metadata": {
    "collapsed": false
   },
   "source": [
    "# Demo of model training pipeline\n",
    "Let use an example to show the model training pipeline we have constructed.\n",
    "\n",
    "我們使用「台積電」這支股票以及 logistic regression，並且使用以下preprocess-pipeline-config：<br>\n",
    "我們程式可以分成以下steps:\n",
    "1. 設置好我們的參數，包括股票、模型、以及前處理流程\n",
    "2. 將資料分成train和val\n",
    "3. 將train和val資料進行前處理（注意：我們使用 train_dataset 來fit vectorizer，並且使用同樣的vectorizer來transform val_dataset）\n",
    "4. 將前處理好的資料丟進模型中訓練"
   ]
  },
  {
   "cell_type": "markdown",
   "metadata": {
    "collapsed": false
   },
   "source": [
    "### introduce preprocess pipeline\n",
    "我們使用 pipeline 概念將文章資料集轉換成向廖資料\n",
    "* docs_filterer: 首先filter掉不相關的文章\n",
    "*  docs_labeler: 然後將文章標記上label\n",
    "* keywords_extractor: 再來從文章中抽取關鍵字\n",
    "* vectorizer: 最後將關鍵字轉換成向量\n"
   ]
  },
  {
   "cell_type": "code",
   "execution_count": 3,
   "metadata": {},
   "outputs": [],
   "source": [
    "from preprocess.preprocess_pipeline import PreprocessPipeline\n",
    "from preprocess.docs_filterer import IDocsFilterer, StockNameFilterer, Word2VecSimilarFilterer\n",
    "from preprocess.docs_labeler import IDocsLabeler, FutureReturnDocsLabeler\n",
    "from preprocess.keyword_extractor import IKeywordExtractor, JiebaKeywordExtractor\n",
    "from preprocess.vectorlizer import IVectorlizer, KeywordsTfIdfVectorlizer\n",
    "from utils.data import random_split_train_val\n",
    "from sklearn.linear_model import LogisticRegression\n",
    "from sklearn_model_process.train_eval_model import train_eval_model, display_evaluation_result"
   ]
  },
  {
   "cell_type": "code",
   "execution_count": 4,
   "metadata": {
    "collapsed": false
   },
   "outputs": [
    {
     "name": "stdout",
     "output_type": "stream",
     "text": [
      "Splitting dataset into training and validation sets with ratio 0.8...\n"
     ]
    },
    {
     "name": "stderr",
     "output_type": "stream",
     "text": [
      "Building prefix dict from the default dictionary ...\n",
      "Loading model from cache /var/folders/36/xrq0hvyj4t1g49sh7nhx56c00000gn/T/jieba.cache\n"
     ]
    },
    {
     "name": "stdout",
     "output_type": "stream",
     "text": [
      "preprocess train dataset\n",
      "==================================================\n",
      "[Word2VecSimilarFilterer] fitting the filterer\n",
      "load word2vec model from cache\n",
      "[Word2VecSimilarFilterer] Filter documents by does content/title/author contain the top most similar words to the stock name\n"
     ]
    },
    {
     "name": "stderr",
     "output_type": "stream",
     "text": [
      "Loading model cost 0.298 seconds.\n",
      "Prefix dict has been built succesfully.\n",
      "filtering documents: 100%|██████████| 1890087/1890087 [00:40<00:00, 46330.29it/s]\n"
     ]
    },
    {
     "name": "stdout",
     "output_type": "stream",
     "text": [
      "left with 87197 documents after filtering\n",
      "==================================================\n",
      "\n",
      "\n",
      "==================================================\n",
      "[FutureReturnDocsLabeler] labeling documents by the s day future return percentage of the stock...\n"
     ]
    },
    {
     "name": "stderr",
     "output_type": "stream",
     "text": [
      "labeling documents: 100%|██████████| 1026/1026 [00:00<00:00, 3286.00it/s]\n"
     ]
    },
    {
     "name": "stdout",
     "output_type": "stream",
     "text": [
      "left with 8341 documents after labeling\n",
      "==================================================\n",
      "\n",
      "\n",
      "==================================================\n",
      "[JiebaKeywordExtractor] extract keywords from documents using jieba\n"
     ]
    },
    {
     "name": "stderr",
     "output_type": "stream",
     "text": [
      "extracting keywords: 100%|██████████| 8341/8341 [00:00<00:00, 2483826.03it/s]\n"
     ]
    },
    {
     "name": "stdout",
     "output_type": "stream",
     "text": [
      "remove 0 docs because of empty keywords\n",
      "left with 8341 docs\n",
      "==================================================\n",
      "\n",
      "\n",
      "==================================================\n",
      "[KeywordsTfIdfVectorlizer] fitting 8341 docs\n",
      "vectorizer fitted.\n",
      "[KeywordsTfIdfVectorlizer] transforming 8341 docs to vectors\n",
      "==================================================\n",
      "\n",
      "\n",
      "\n",
      "\n",
      "\n",
      "\n",
      "preprocess val dataset\n",
      "==================================================\n",
      "[Word2VecSimilarFilterer] Filter documents by does content/title/author contain the top most similar words to the stock name\n"
     ]
    },
    {
     "name": "stderr",
     "output_type": "stream",
     "text": [
      "filtering documents: 100%|██████████| 94460/94460 [00:02<00:00, 40337.78it/s]\n"
     ]
    },
    {
     "name": "stdout",
     "output_type": "stream",
     "text": [
      "left with 4414 documents after filtering\n",
      "==================================================\n",
      "\n",
      "\n",
      "==================================================\n",
      "[FutureReturnDocsLabeler] labeling documents by the s day future return percentage of the stock...\n"
     ]
    },
    {
     "name": "stderr",
     "output_type": "stream",
     "text": [
      "labeling documents: 100%|██████████| 1026/1026 [00:00<00:00, 16637.18it/s]\n"
     ]
    },
    {
     "name": "stdout",
     "output_type": "stream",
     "text": [
      "left with 440 documents after labeling\n",
      "==================================================\n",
      "\n",
      "\n",
      "==================================================\n",
      "[JiebaKeywordExtractor] extract keywords from documents using jieba\n"
     ]
    },
    {
     "name": "stderr",
     "output_type": "stream",
     "text": [
      "extracting keywords: 100%|██████████| 440/440 [00:00<00:00, 2189197.82it/s]\n"
     ]
    },
    {
     "name": "stdout",
     "output_type": "stream",
     "text": [
      "remove 0 docs because of empty keywords\n",
      "left with 440 docs\n",
      "==================================================\n",
      "\n",
      "\n",
      "==================================================\n",
      "[KeywordsTfIdfVectorlizer] transforming 440 docs to vectors\n",
      "==================================================\n",
      "\n",
      "\n",
      "fitting model...\n",
      "model prediction...\n",
      "calculating performance metrics...\n",
      "\n",
      "\n",
      "\n",
      "\n",
      "\n",
      "result:\n",
      "Training accuracy: 0.6653878431842705\n",
      "Validation accuracy: 0.6\n",
      "\n",
      "Training classification report:\n",
      "              precision    recall  f1-score   support\n",
      "\n",
      "      fallen       0.63      0.33      0.43      3223\n",
      "       risen       0.67      0.88      0.76      5118\n",
      "\n",
      "    accuracy                           0.67      8341\n",
      "   macro avg       0.65      0.60      0.60      8341\n",
      "weighted avg       0.66      0.67      0.63      8341\n",
      "\n",
      "\n",
      "Validation classification report:\n",
      "              precision    recall  f1-score   support\n",
      "\n",
      "      fallen       0.50      0.26      0.34       176\n",
      "       risen       0.63      0.83      0.71       264\n",
      "\n",
      "    accuracy                           0.60       440\n",
      "   macro avg       0.56      0.54      0.53       440\n",
      "weighted avg       0.58      0.60      0.56       440\n",
      "\n"
     ]
    },
    {
     "data": {
      "image/png": "[encoded data removed]",
      "text/plain": [
       "<Figure size 800x400 with 4 Axes>"
      ]
     },
     "metadata": {},
     "output_type": "display_data"
    },
    {
     "data": {
      "image/png": "[encoded data removed]",
      "text/plain": [
       "<Figure size 1000x500 with 2 Axes>"
      ]
     },
     "metadata": {},
     "output_type": "display_data"
    }
   ],
   "source": [
    "# set up config\n",
    "stock = stock_meta.get_stock_by_name(\"台積電\")\n",
    "clf = LogisticRegression()\n",
    "preprocess_pipeline = PreprocessPipeline(\n",
    "    docs_filterer=Word2VecSimilarFilterer(topn=1, white_noise_ratio=0),\n",
    "    docs_labeler=FutureReturnDocsLabeler(s=3, threshold=5),\n",
    "    keywords_extractor=JiebaKeywordExtractor(),\n",
    "    vectorizer=KeywordsTfIdfVectorlizer(count_features=1000, pca_components=100)\n",
    ")\n",
    "\n",
    "# split train and val\n",
    "train_dataset, val_dataset = random_split_train_val(docs_dataset, split_ratio=0.8)\n",
    "# preprocess dataset\n",
    "print(\"preprocess train dataset\")\n",
    "train_dataset = preprocess_pipeline.preprocess(train_dataset, stock, do_fit=True, verbose=True)\n",
    "print(\"\\n\\n\\n\\npreprocess val dataset\")\n",
    "val_dataset = preprocess_pipeline.preprocess(val_dataset, stock, do_fit=False, verbose=True)\n",
    "# train and validate model\n",
    "result = train_eval_model(clf, train_dataset, val_dataset, verbose=True)\n",
    "\n",
    "# display result\n",
    "print(\"\\n\\n\\n\\n\\nresult:\")\n",
    "display_evaluation_result(result, clf, train_dataset, val_dataset)"
   ]
  },
  {
   "attachments": {},
   "cell_type": "markdown",
   "metadata": {
    "collapsed": false
   },
   "source": [
    "## Search target & Domain\n",
    "### Target\n",
    "目標是要在以下股票中，模型能yield出高準確率和低標準差，目前我們使用‘台塑’作為研究對象<br>\n",
    "['世界', '加權指數', '台積電', '統一', '台塑', '鴻海']\n",
    "\n",
    "### Domain\n",
    "我們定義我們的搜尋空間，我們將會在這個空間中找出最好的 training pipeline\n",
    "我們使用以下模型：<br>\n",
    "svc, knn, logistic regression, random forest, GussianNB, StackingClassifier(all before)<br>\n",
    "搭配各種不同的前處理流程（在程式裡定義，這裡不一一列舉）：<br>"
   ]
  },
  {
   "attachments": {},
   "cell_type": "markdown",
   "metadata": {
    "collapsed": false
   },
   "source": [
    "## Define search space\n",
    "我們定義我們的搜尋空間，我們將會在這個空間中找出最好的模型和hyper parameters"
   ]
  },
  {
   "cell_type": "code",
   "execution_count": 5,
   "metadata": {
    "collapsed": true
   },
   "outputs": [],
   "source": [
    "from sklearn.svm import SVC\n",
    "from sklearn.neighbors import KNeighborsClassifier\n",
    "from sklearn.linear_model import LogisticRegression\n",
    "from sklearn.ensemble import RandomForestClassifier\n",
    "from sklearn.naive_bayes import GaussianNB\n",
    "from sklearn.ensemble import StackingClassifier\n",
    "from sklearn.pipeline import make_pipeline\n",
    "from sklearn.preprocessing import StandardScaler\n",
    "\n",
    "# Support Vector Classifier\n",
    "svc = make_pipeline(StandardScaler(), SVC(probability=True))\n",
    "\n",
    "# K-Nearest Neighbors Classifier\n",
    "knn = make_pipeline(StandardScaler(), KNeighborsClassifier())\n",
    "\n",
    "# Logistic Regression Classifier\n",
    "lr = make_pipeline(StandardScaler(), LogisticRegression())\n",
    "\n",
    "# Random Forest Classifier\n",
    "rf = RandomForestClassifier()\n",
    "\n",
    "# Gaussian Naive Bayes Classifier\n",
    "gnb = GaussianNB()\n",
    "\n",
    "# Stacking Classifier\n",
    "estimators = [('svc', svc), ('knn', knn), ('lr', lr), ('rf', rf), ('gnb', gnb)]\n",
    "stacking_clf = StackingClassifier(estimators=estimators, final_estimator=SVC(probability=True))\n",
    "\n",
    "\n",
    "# stock names\n",
    "stock_names = ['世界', '加權指數', '台積電', '統一', '台塑', '鴻海']\n",
    "stock_name = '台塑'\n",
    "# search space\n",
    "models = [svc, knn, lr, rf, gnb, stacking_clf]\n",
    "word2vec_similar__topns = [3]\n",
    "future_return_docs_labeler__s = [1, 3, 10]\n",
    "future_return_docs_labeler__thresholds = [1, 5, 10]\n",
    "keywords_tfidf_vectorlizer__count_features = [1000]\n",
    "keywords_tfidf_vectorlizer__pca_components = [100]"
   ]
  },
  {
   "attachments": {},
   "cell_type": "markdown",
   "metadata": {
    "collapsed": false
   },
   "source": [
    "## Search\n",
    "對於每一種組合，我們計算此組合對於全部股票的平均準確率和標準差，我們同時還使用5 fold，來最低母體和sample的差距"
   ]
  },
  {
   "cell_type": "code",
   "execution_count": 14,
   "metadata": {
    "collapsed": false,
    "pycharm": {
     "is_executing": true
    }
   },
   "outputs": [
    {
     "name": "stdout",
     "output_type": "stream",
     "text": [
      "config:\n",
      "{'future_return_docs_labeler__thresholds': 1,\n",
      " 'future_return_docs_labeler_s': 1,\n",
      " 'keywords_tfidf_vectorlizer_count_features': 1000,\n",
      " 'keywords_tfidf_vectorlizer_pca_components': 100,\n",
      " 'model': Pipeline(steps=[('standardscaler', StandardScaler()),\n",
      "                ('svc', SVC(probability=True))]),\n",
      " 'word2vec_similar_topn': 3}\n"
     ]
    },
    {
     "name": "stderr",
     "output_type": "stream",
     "text": [
      "stock: 台塑, fold: 0: 100%|██████████| 1/1 [01:17<00:00, 77.95s/it]\n"
     ]
    },
    {
     "name": "stdout",
     "output_type": "stream",
     "text": [
      "Average Accuracy: 0.5864978902953587\n",
      "config:\n",
      "{'future_return_docs_labeler__thresholds': 1,\n",
      " 'future_return_docs_labeler_s': 1,\n",
      " 'keywords_tfidf_vectorlizer_count_features': 1000,\n",
      " 'keywords_tfidf_vectorlizer_pca_components': 100,\n",
      " 'model': Pipeline(steps=[('standardscaler', StandardScaler()),\n",
      "                ('kneighborsclassifier', KNeighborsClassifier())]),\n",
      " 'word2vec_similar_topn': 3}\n"
     ]
    },
    {
     "name": "stderr",
     "output_type": "stream",
     "text": [
      "stock: 台塑, fold: 0: 100%|██████████| 1/1 [01:18<00:00, 78.88s/it]\n"
     ]
    },
    {
     "name": "stdout",
     "output_type": "stream",
     "text": [
      "Average Accuracy: 0.5179282868525896\n",
      "config:\n",
      "{'future_return_docs_labeler__thresholds': 1,\n",
      " 'future_return_docs_labeler_s': 1,\n",
      " 'keywords_tfidf_vectorlizer_count_features': 1000,\n",
      " 'keywords_tfidf_vectorlizer_pca_components': 100,\n",
      " 'model': Pipeline(steps=[('standardscaler', StandardScaler()),\n",
      "                ('logisticregression', LogisticRegression())]),\n",
      " 'word2vec_similar_topn': 3}\n"
     ]
    },
    {
     "name": "stderr",
     "output_type": "stream",
     "text": [
      "stock: 台塑, fold: 0: 100%|██████████| 1/1 [02:02<00:00, 122.37s/it]\n"
     ]
    },
    {
     "name": "stdout",
     "output_type": "stream",
     "text": [
      "Average Accuracy: 0.6123348017621145\n",
      "config:\n",
      "{'future_return_docs_labeler__thresholds': 1,\n",
      " 'future_return_docs_labeler_s': 1,\n",
      " 'keywords_tfidf_vectorlizer_count_features': 1000,\n",
      " 'keywords_tfidf_vectorlizer_pca_components': 100,\n",
      " 'model': RandomForestClassifier(),\n",
      " 'word2vec_similar_topn': 3}\n"
     ]
    },
    {
     "name": "stderr",
     "output_type": "stream",
     "text": [
      "stock: 台塑, fold: 0: 100%|██████████| 1/1 [01:18<00:00, 78.54s/it]\n"
     ]
    },
    {
     "name": "stdout",
     "output_type": "stream",
     "text": [
      "Average Accuracy: 0.5421686746987951\n",
      "config:\n",
      "{'future_return_docs_labeler__thresholds': 1,\n",
      " 'future_return_docs_labeler_s': 1,\n",
      " 'keywords_tfidf_vectorlizer_count_features': 1000,\n",
      " 'keywords_tfidf_vectorlizer_pca_components': 100,\n",
      " 'model': GaussianNB(),\n",
      " 'word2vec_similar_topn': 3}\n"
     ]
    },
    {
     "name": "stderr",
     "output_type": "stream",
     "text": [
      "stock: 台塑, fold: 0: 100%|██████████| 1/1 [01:11<00:00, 71.31s/it]\n"
     ]
    },
    {
     "name": "stdout",
     "output_type": "stream",
     "text": [
      "Average Accuracy: 0.5756302521008403\n",
      "config:\n",
      "{'future_return_docs_labeler__thresholds': 1,\n",
      " 'future_return_docs_labeler_s': 1,\n",
      " 'keywords_tfidf_vectorlizer_count_features': 1000,\n",
      " 'keywords_tfidf_vectorlizer_pca_components': 100,\n",
      " 'model': StackingClassifier(estimators=[('svc',\n",
      "                                Pipeline(steps=[('standardscaler',\n",
      "                                                 StandardScaler()),\n",
      "                                                ('svc',\n",
      "                                                 SVC(probability=True))])),\n",
      "                               ('knn',\n",
      "                                Pipeline(steps=[('standardscaler',\n",
      "                                                 StandardScaler()),\n",
      "                                                ('kneighborsclassifier',\n",
      "                                                 KNeighborsClassifier())])),\n",
      "                               ('lr',\n",
      "                                Pipeline(steps=[('standardscaler',\n",
      "                                                 StandardScaler()),\n",
      "                                                ('logisticregression',\n",
      "                                                 LogisticRegression())])),\n",
      "                               ('rf', RandomForestClassifier()),\n",
      "                               ('gnb', GaussianNB())],\n",
      "                   final_estimator=SVC(probability=True)),\n",
      " 'word2vec_similar_topn': 3}\n"
     ]
    },
    {
     "name": "stderr",
     "output_type": "stream",
     "text": [
      "stock: 台塑, fold: 0: 100%|██████████| 1/1 [01:45<00:00, 105.75s/it]\n"
     ]
    },
    {
     "name": "stdout",
     "output_type": "stream",
     "text": [
      "Average Accuracy: 0.4864864864864865\n",
      "config:\n",
      "{'future_return_docs_labeler__thresholds': 1,\n",
      " 'future_return_docs_labeler_s': 3,\n",
      " 'keywords_tfidf_vectorlizer_count_features': 1000,\n",
      " 'keywords_tfidf_vectorlizer_pca_components': 100,\n",
      " 'model': Pipeline(steps=[('standardscaler', StandardScaler()),\n",
      "                ('svc', SVC(probability=True))]),\n",
      " 'word2vec_similar_topn': 3}\n"
     ]
    },
    {
     "name": "stderr",
     "output_type": "stream",
     "text": [
      "stock: 台塑, fold: 0: 100%|██████████| 1/1 [02:23<00:00, 143.79s/it]\n"
     ]
    },
    {
     "name": "stdout",
     "output_type": "stream",
     "text": [
      "Average Accuracy: 0.6005221932114883\n",
      "config:\n",
      "{'future_return_docs_labeler__thresholds': 1,\n",
      " 'future_return_docs_labeler_s': 3,\n",
      " 'keywords_tfidf_vectorlizer_count_features': 1000,\n",
      " 'keywords_tfidf_vectorlizer_pca_components': 100,\n",
      " 'model': Pipeline(steps=[('standardscaler', StandardScaler()),\n",
      "                ('kneighborsclassifier', KNeighborsClassifier())]),\n",
      " 'word2vec_similar_topn': 3}\n"
     ]
    },
    {
     "name": "stderr",
     "output_type": "stream",
     "text": [
      "stock: 台塑, fold: 0: 100%|██████████| 1/1 [01:15<00:00, 75.36s/it]\n"
     ]
    },
    {
     "name": "stdout",
     "output_type": "stream",
     "text": [
      "Average Accuracy: 0.5597014925373134\n",
      "config:\n",
      "{'future_return_docs_labeler__thresholds': 1,\n",
      " 'future_return_docs_labeler_s': 3,\n",
      " 'keywords_tfidf_vectorlizer_count_features': 1000,\n",
      " 'keywords_tfidf_vectorlizer_pca_components': 100,\n",
      " 'model': Pipeline(steps=[('standardscaler', StandardScaler()),\n",
      "                ('logisticregression', LogisticRegression())]),\n",
      " 'word2vec_similar_topn': 3}\n"
     ]
    },
    {
     "name": "stderr",
     "output_type": "stream",
     "text": [
      "stock: 台塑, fold: 0: 100%|██████████| 1/1 [01:15<00:00, 75.23s/it]\n"
     ]
    },
    {
     "name": "stdout",
     "output_type": "stream",
     "text": [
      "Average Accuracy: 0.6034063260340633\n",
      "config:\n",
      "{'future_return_docs_labeler__thresholds': 1,\n",
      " 'future_return_docs_labeler_s': 3,\n",
      " 'keywords_tfidf_vectorlizer_count_features': 1000,\n",
      " 'keywords_tfidf_vectorlizer_pca_components': 100,\n",
      " 'model': RandomForestClassifier(),\n",
      " 'word2vec_similar_topn': 3}\n"
     ]
    },
    {
     "name": "stderr",
     "output_type": "stream",
     "text": [
      "stock: 台塑, fold: 0: 100%|██████████| 1/1 [01:20<00:00, 80.36s/it]\n"
     ]
    },
    {
     "name": "stdout",
     "output_type": "stream",
     "text": [
      "Average Accuracy: 0.5652173913043478\n",
      "config:\n",
      "{'future_return_docs_labeler__thresholds': 1,\n",
      " 'future_return_docs_labeler_s': 3,\n",
      " 'keywords_tfidf_vectorlizer_count_features': 1000,\n",
      " 'keywords_tfidf_vectorlizer_pca_components': 100,\n",
      " 'model': GaussianNB(),\n",
      " 'word2vec_similar_topn': 3}\n"
     ]
    },
    {
     "name": "stderr",
     "output_type": "stream",
     "text": [
      "stock: 台塑, fold: 0: 100%|██████████| 1/1 [01:52<00:00, 112.46s/it]\n"
     ]
    },
    {
     "name": "stdout",
     "output_type": "stream",
     "text": [
      "Average Accuracy: 0.5798525798525799\n",
      "config:\n",
      "{'future_return_docs_labeler__thresholds': 1,\n",
      " 'future_return_docs_labeler_s': 3,\n",
      " 'keywords_tfidf_vectorlizer_count_features': 1000,\n",
      " 'keywords_tfidf_vectorlizer_pca_components': 100,\n",
      " 'model': StackingClassifier(estimators=[('svc',\n",
      "                                Pipeline(steps=[('standardscaler',\n",
      "                                                 StandardScaler()),\n",
      "                                                ('svc',\n",
      "                                                 SVC(probability=True))])),\n",
      "                               ('knn',\n",
      "                                Pipeline(steps=[('standardscaler',\n",
      "                                                 StandardScaler()),\n",
      "                                                ('kneighborsclassifier',\n",
      "                                                 KNeighborsClassifier())])),\n",
      "                               ('lr',\n",
      "                                Pipeline(steps=[('standardscaler',\n",
      "                                                 StandardScaler()),\n",
      "                                                ('logisticregression',\n",
      "                                                 LogisticRegression())])),\n",
      "                               ('rf', RandomForestClassifier()),\n",
      "                               ('gnb', GaussianNB())],\n",
      "                   final_estimator=SVC(probability=True)),\n",
      " 'word2vec_similar_topn': 3}\n"
     ]
    },
    {
     "name": "stderr",
     "output_type": "stream",
     "text": [
      "stock: 台塑, fold: 0: 100%|██████████| 1/1 [02:48<00:00, 168.88s/it]\n"
     ]
    },
    {
     "name": "stdout",
     "output_type": "stream",
     "text": [
      "Average Accuracy: 0.5166666666666667\n",
      "config:\n",
      "{'future_return_docs_labeler__thresholds': 1,\n",
      " 'future_return_docs_labeler_s': 10,\n",
      " 'keywords_tfidf_vectorlizer_count_features': 1000,\n",
      " 'keywords_tfidf_vectorlizer_pca_components': 100,\n",
      " 'model': Pipeline(steps=[('standardscaler', StandardScaler()),\n",
      "                ('svc', SVC(probability=True))]),\n",
      " 'word2vec_similar_topn': 3}\n"
     ]
    },
    {
     "name": "stderr",
     "output_type": "stream",
     "text": [
      "stock: 台塑, fold: 0: 100%|██████████| 1/1 [01:55<00:00, 115.56s/it]\n"
     ]
    },
    {
     "name": "stdout",
     "output_type": "stream",
     "text": [
      "Average Accuracy: 0.6334586466165414\n",
      "config:\n",
      "{'future_return_docs_labeler__thresholds': 1,\n",
      " 'future_return_docs_labeler_s': 10,\n",
      " 'keywords_tfidf_vectorlizer_count_features': 1000,\n",
      " 'keywords_tfidf_vectorlizer_pca_components': 100,\n",
      " 'model': Pipeline(steps=[('standardscaler', StandardScaler()),\n",
      "                ('kneighborsclassifier', KNeighborsClassifier())]),\n",
      " 'word2vec_similar_topn': 3}\n"
     ]
    },
    {
     "name": "stderr",
     "output_type": "stream",
     "text": [
      "stock: 台塑, fold: 0: 100%|██████████| 1/1 [01:20<00:00, 80.14s/it]\n"
     ]
    },
    {
     "name": "stdout",
     "output_type": "stream",
     "text": [
      "Average Accuracy: 0.5428571428571428\n",
      "config:\n",
      "{'future_return_docs_labeler__thresholds': 1,\n",
      " 'future_return_docs_labeler_s': 10,\n",
      " 'keywords_tfidf_vectorlizer_count_features': 1000,\n",
      " 'keywords_tfidf_vectorlizer_pca_components': 100,\n",
      " 'model': Pipeline(steps=[('standardscaler', StandardScaler()),\n",
      "                ('logisticregression', LogisticRegression())]),\n",
      " 'word2vec_similar_topn': 3}\n"
     ]
    },
    {
     "name": "stderr",
     "output_type": "stream",
     "text": [
      "stock: 台塑, fold: 0: 100%|██████████| 1/1 [02:00<00:00, 120.17s/it]\n"
     ]
    },
    {
     "name": "stdout",
     "output_type": "stream",
     "text": [
      "Average Accuracy: 0.567219152854512\n",
      "config:\n",
      "{'future_return_docs_labeler__thresholds': 1,\n",
      " 'future_return_docs_labeler_s': 10,\n",
      " 'keywords_tfidf_vectorlizer_count_features': 1000,\n",
      " 'keywords_tfidf_vectorlizer_pca_components': 100,\n",
      " 'model': RandomForestClassifier(),\n",
      " 'word2vec_similar_topn': 3}\n"
     ]
    },
    {
     "name": "stderr",
     "output_type": "stream",
     "text": [
      "stock: 台塑, fold: 0: 100%|██████████| 1/1 [01:24<00:00, 84.44s/it]\n"
     ]
    },
    {
     "name": "stdout",
     "output_type": "stream",
     "text": [
      "Average Accuracy: 0.5354969574036511\n",
      "config:\n",
      "{'future_return_docs_labeler__thresholds': 1,\n",
      " 'future_return_docs_labeler_s': 10,\n",
      " 'keywords_tfidf_vectorlizer_count_features': 1000,\n",
      " 'keywords_tfidf_vectorlizer_pca_components': 100,\n",
      " 'model': GaussianNB(),\n",
      " 'word2vec_similar_topn': 3}\n"
     ]
    },
    {
     "name": "stderr",
     "output_type": "stream",
     "text": [
      "stock: 台塑, fold: 0: 100%|██████████| 1/1 [01:19<00:00, 79.12s/it]\n"
     ]
    },
    {
     "name": "stdout",
     "output_type": "stream",
     "text": [
      "Average Accuracy: 0.5775401069518716\n",
      "config:\n",
      "{'future_return_docs_labeler__thresholds': 1,\n",
      " 'future_return_docs_labeler_s': 10,\n",
      " 'keywords_tfidf_vectorlizer_count_features': 1000,\n",
      " 'keywords_tfidf_vectorlizer_pca_components': 100,\n",
      " 'model': StackingClassifier(estimators=[('svc',\n",
      "                                Pipeline(steps=[('standardscaler',\n",
      "                                                 StandardScaler()),\n",
      "                                                ('svc',\n",
      "                                                 SVC(probability=True))])),\n",
      "                               ('knn',\n",
      "                                Pipeline(steps=[('standardscaler',\n",
      "                                                 StandardScaler()),\n",
      "                                                ('kneighborsclassifier',\n",
      "                                                 KNeighborsClassifier())])),\n",
      "                               ('lr',\n",
      "                                Pipeline(steps=[('standardscaler',\n",
      "                                                 StandardScaler()),\n",
      "                                                ('logisticregression',\n",
      "                                                 LogisticRegression())])),\n",
      "                               ('rf', RandomForestClassifier()),\n",
      "                               ('gnb', GaussianNB())],\n",
      "                   final_estimator=SVC(probability=True)),\n",
      " 'word2vec_similar_topn': 3}\n"
     ]
    },
    {
     "name": "stderr",
     "output_type": "stream",
     "text": [
      "stock: 台塑, fold: 0: 100%|██████████| 1/1 [03:54<00:00, 234.80s/it]\n"
     ]
    },
    {
     "name": "stdout",
     "output_type": "stream",
     "text": [
      "Average Accuracy: 0.49619771863117873\n",
      "config:\n",
      "{'future_return_docs_labeler__thresholds': 5,\n",
      " 'future_return_docs_labeler_s': 1,\n",
      " 'keywords_tfidf_vectorlizer_count_features': 1000,\n",
      " 'keywords_tfidf_vectorlizer_pca_components': 100,\n",
      " 'model': Pipeline(steps=[('standardscaler', StandardScaler()),\n",
      "                ('svc', SVC(probability=True))]),\n",
      " 'word2vec_similar_topn': 3}\n"
     ]
    },
    {
     "name": "stderr",
     "output_type": "stream",
     "text": [
      "stock: 台塑, fold: 0:   0%|          | 0/1 [00:00<?, ?it/s]/Users/Ethan/Developer/Projects/College/大四下/數據分析/期中/venv/lib/python3.11/site-packages/sklearn/metrics/_classification.py:1344: UndefinedMetricWarning: Precision and F-score are ill-defined and being set to 0.0 in labels with no predicted samples. Use `zero_division` parameter to control this behavior.\n",
      "  _warn_prf(average, modifier, msg_start, len(result))\n",
      "/Users/Ethan/Developer/Projects/College/大四下/數據分析/期中/venv/lib/python3.11/site-packages/sklearn/metrics/_classification.py:1344: UndefinedMetricWarning: Precision and F-score are ill-defined and being set to 0.0 in labels with no predicted samples. Use `zero_division` parameter to control this behavior.\n",
      "  _warn_prf(average, modifier, msg_start, len(result))\n",
      "/Users/Ethan/Developer/Projects/College/大四下/數據分析/期中/venv/lib/python3.11/site-packages/sklearn/metrics/_classification.py:1344: UndefinedMetricWarning: Precision and F-score are ill-defined and being set to 0.0 in labels with no predicted samples. Use `zero_division` parameter to control this behavior.\n",
      "  _warn_prf(average, modifier, msg_start, len(result))\n",
      "stock: 台塑, fold: 0: 100%|██████████| 1/1 [01:59<00:00, 119.15s/it]\n"
     ]
    },
    {
     "name": "stdout",
     "output_type": "stream",
     "text": [
      "Average Accuracy: 0.8181818181818182\n",
      "config:\n",
      "{'future_return_docs_labeler__thresholds': 5,\n",
      " 'future_return_docs_labeler_s': 1,\n",
      " 'keywords_tfidf_vectorlizer_count_features': 1000,\n",
      " 'keywords_tfidf_vectorlizer_pca_components': 100,\n",
      " 'model': Pipeline(steps=[('standardscaler', StandardScaler()),\n",
      "                ('kneighborsclassifier', KNeighborsClassifier())]),\n",
      " 'word2vec_similar_topn': 3}\n"
     ]
    },
    {
     "name": "stderr",
     "output_type": "stream",
     "text": [
      "stock: 台塑, fold: 0: 100%|██████████| 1/1 [01:07<00:00, 67.70s/it]\n"
     ]
    },
    {
     "name": "stdout",
     "output_type": "stream",
     "text": [
      "Average Accuracy: 0.7142857142857143\n",
      "config:\n",
      "{'future_return_docs_labeler__thresholds': 5,\n",
      " 'future_return_docs_labeler_s': 1,\n",
      " 'keywords_tfidf_vectorlizer_count_features': 1000,\n",
      " 'keywords_tfidf_vectorlizer_pca_components': 100,\n",
      " 'model': Pipeline(steps=[('standardscaler', StandardScaler()),\n",
      "                ('logisticregression', LogisticRegression())]),\n",
      " 'word2vec_similar_topn': 3}\n"
     ]
    },
    {
     "name": "stderr",
     "output_type": "stream",
     "text": [
      "stock: 台塑, fold: 0:   0%|          | 0/1 [01:08<?, ?it/s]\n"
     ]
    },
    {
     "ename": "ValueError",
     "evalue": "Only one class present in y_true. ROC AUC score is not defined in that case.",
     "output_type": "error",
     "traceback": [
      "\u001B[0;31m---------------------------------------------------------------------------\u001B[0m",
      "\u001B[0;31mValueError\u001B[0m                                Traceback (most recent call last)",
      "Cell \u001B[0;32mIn[14], line 58\u001B[0m\n\u001B[1;32m     56\u001B[0m \u001B[39m# Train and validate model\u001B[39;00m\n\u001B[1;32m     57\u001B[0m clf \u001B[39m=\u001B[39m config[\u001B[39m'\u001B[39m\u001B[39mmodel\u001B[39m\u001B[39m'\u001B[39m]\n\u001B[0;32m---> 58\u001B[0m result \u001B[39m=\u001B[39m train_eval_model(clf, processed_train_dataset, processed_val_dataset, verbose\u001B[39m=\u001B[39;49m\u001B[39mFalse\u001B[39;49;00m)\n\u001B[1;32m     60\u001B[0m \u001B[39m# record validate accuracy\u001B[39;00m\n\u001B[1;32m     61\u001B[0m accuracies\u001B[39m.\u001B[39mappend(result\u001B[39m.\u001B[39mval_accuracy)\n",
      "File \u001B[0;32m~/Developer/Projects/College/大四下/數據分析/期中/sklearn_model_process/train_eval_model.py:48\u001B[0m, in \u001B[0;36mtrain_eval_model\u001B[0;34m(model, train_dataset, val_dataset, verbose)\u001B[0m\n\u001B[1;32m     45\u001B[0m val_acc \u001B[39m=\u001B[39m accuracy_score(y_val, y_val_pred)\n\u001B[1;32m     47\u001B[0m train_roc_auc \u001B[39m=\u001B[39m roc_auc_score(y_train, model\u001B[39m.\u001B[39mpredict_proba(X_train)[:, \u001B[39m1\u001B[39m])\n\u001B[0;32m---> 48\u001B[0m val_roc_auc \u001B[39m=\u001B[39m roc_auc_score(y_val, model\u001B[39m.\u001B[39;49mpredict_proba(X_val)[:, \u001B[39m1\u001B[39;49m])\n\u001B[1;32m     50\u001B[0m train_report \u001B[39m=\u001B[39m classification_report(y_train, y_train_pred, target_names\u001B[39m=\u001B[39m[\u001B[39m'\u001B[39m\u001B[39mfallen\u001B[39m\u001B[39m'\u001B[39m, \u001B[39m'\u001B[39m\u001B[39mrisen\u001B[39m\u001B[39m'\u001B[39m])\n\u001B[1;32m     51\u001B[0m val_report \u001B[39m=\u001B[39m classification_report(y_val, y_val_pred, target_names\u001B[39m=\u001B[39m[\u001B[39m'\u001B[39m\u001B[39mfallen\u001B[39m\u001B[39m'\u001B[39m, \u001B[39m'\u001B[39m\u001B[39mrisen\u001B[39m\u001B[39m'\u001B[39m])\n",
      "File \u001B[0;32m~/Developer/Projects/College/大四下/數據分析/期中/venv/lib/python3.11/site-packages/sklearn/metrics/_ranking.py:572\u001B[0m, in \u001B[0;36mroc_auc_score\u001B[0;34m(y_true, y_score, average, sample_weight, max_fpr, multi_class, labels)\u001B[0m\n\u001B[1;32m    570\u001B[0m     labels \u001B[39m=\u001B[39m np\u001B[39m.\u001B[39munique(y_true)\n\u001B[1;32m    571\u001B[0m     y_true \u001B[39m=\u001B[39m label_binarize(y_true, classes\u001B[39m=\u001B[39mlabels)[:, \u001B[39m0\u001B[39m]\n\u001B[0;32m--> 572\u001B[0m     \u001B[39mreturn\u001B[39;00m _average_binary_score(\n\u001B[1;32m    573\u001B[0m         partial(_binary_roc_auc_score, max_fpr\u001B[39m=\u001B[39;49mmax_fpr),\n\u001B[1;32m    574\u001B[0m         y_true,\n\u001B[1;32m    575\u001B[0m         y_score,\n\u001B[1;32m    576\u001B[0m         average,\n\u001B[1;32m    577\u001B[0m         sample_weight\u001B[39m=\u001B[39;49msample_weight,\n\u001B[1;32m    578\u001B[0m     )\n\u001B[1;32m    579\u001B[0m \u001B[39melse\u001B[39;00m:  \u001B[39m# multilabel-indicator\u001B[39;00m\n\u001B[1;32m    580\u001B[0m     \u001B[39mreturn\u001B[39;00m _average_binary_score(\n\u001B[1;32m    581\u001B[0m         partial(_binary_roc_auc_score, max_fpr\u001B[39m=\u001B[39mmax_fpr),\n\u001B[1;32m    582\u001B[0m         y_true,\n\u001B[0;32m   (...)\u001B[0m\n\u001B[1;32m    585\u001B[0m         sample_weight\u001B[39m=\u001B[39msample_weight,\n\u001B[1;32m    586\u001B[0m     )\n",
      "File \u001B[0;32m~/Developer/Projects/College/大四下/數據分析/期中/venv/lib/python3.11/site-packages/sklearn/metrics/_base.py:75\u001B[0m, in \u001B[0;36m_average_binary_score\u001B[0;34m(binary_metric, y_true, y_score, average, sample_weight)\u001B[0m\n\u001B[1;32m     72\u001B[0m     \u001B[39mraise\u001B[39;00m \u001B[39mValueError\u001B[39;00m(\u001B[39m\"\u001B[39m\u001B[39m{0}\u001B[39;00m\u001B[39m format is not supported\u001B[39m\u001B[39m\"\u001B[39m\u001B[39m.\u001B[39mformat(y_type))\n\u001B[1;32m     74\u001B[0m \u001B[39mif\u001B[39;00m y_type \u001B[39m==\u001B[39m \u001B[39m\"\u001B[39m\u001B[39mbinary\u001B[39m\u001B[39m\"\u001B[39m:\n\u001B[0;32m---> 75\u001B[0m     \u001B[39mreturn\u001B[39;00m binary_metric(y_true, y_score, sample_weight\u001B[39m=\u001B[39;49msample_weight)\n\u001B[1;32m     77\u001B[0m check_consistent_length(y_true, y_score, sample_weight)\n\u001B[1;32m     78\u001B[0m y_true \u001B[39m=\u001B[39m check_array(y_true)\n",
      "File \u001B[0;32m~/Developer/Projects/College/大四下/數據分析/期中/venv/lib/python3.11/site-packages/sklearn/metrics/_ranking.py:339\u001B[0m, in \u001B[0;36m_binary_roc_auc_score\u001B[0;34m(y_true, y_score, sample_weight, max_fpr)\u001B[0m\n\u001B[1;32m    337\u001B[0m \u001B[39m\u001B[39m\u001B[39m\"\"\"Binary roc auc score.\"\"\"\u001B[39;00m\n\u001B[1;32m    338\u001B[0m \u001B[39mif\u001B[39;00m \u001B[39mlen\u001B[39m(np\u001B[39m.\u001B[39munique(y_true)) \u001B[39m!=\u001B[39m \u001B[39m2\u001B[39m:\n\u001B[0;32m--> 339\u001B[0m     \u001B[39mraise\u001B[39;00m \u001B[39mValueError\u001B[39;00m(\n\u001B[1;32m    340\u001B[0m         \u001B[39m\"\u001B[39m\u001B[39mOnly one class present in y_true. ROC AUC score \u001B[39m\u001B[39m\"\u001B[39m\n\u001B[1;32m    341\u001B[0m         \u001B[39m\"\u001B[39m\u001B[39mis not defined in that case.\u001B[39m\u001B[39m\"\u001B[39m\n\u001B[1;32m    342\u001B[0m     )\n\u001B[1;32m    344\u001B[0m fpr, tpr, _ \u001B[39m=\u001B[39m roc_curve(y_true, y_score, sample_weight\u001B[39m=\u001B[39msample_weight)\n\u001B[1;32m    345\u001B[0m \u001B[39mif\u001B[39;00m max_fpr \u001B[39mis\u001B[39;00m \u001B[39mNone\u001B[39;00m \u001B[39mor\u001B[39;00m max_fpr \u001B[39m==\u001B[39m \u001B[39m1\u001B[39m:\n",
      "\u001B[0;31mValueError\u001B[0m: Only one class present in y_true. ROC AUC score is not defined in that case."
     ]
    }
   ],
   "source": [
    "from sklearn.model_selection import ParameterGrid, KFold\n",
    "import numpy as np\n",
    "from pprint import pprint\n",
    "from tqdm import tqdm\n",
    "\n",
    "# Define search space\n",
    "param_grid = {\n",
    "    'model': models,\n",
    "    'word2vec_similar_topn': word2vec_similar__topns,\n",
    "    'future_return_docs_labeler_s': future_return_docs_labeler__s,\n",
    "    'future_return_docs_labeler__thresholds': future_return_docs_labeler__thresholds,\n",
    "    'keywords_tfidf_vectorlizer_count_features': keywords_tfidf_vectorlizer__count_features,\n",
    "    'keywords_tfidf_vectorlizer_pca_components': keywords_tfidf_vectorlizer__pca_components\n",
    "}\n",
    "\n",
    "# Initialize grid search\n",
    "grid = ParameterGrid(param_grid)\n",
    "config_results = []\n",
    "\n",
    "# Define the number of folds for cross-validation\n",
    "n_splits = 5\n",
    "kfold = KFold(n_splits=n_splits)\n",
    "\n",
    "\n",
    "\n",
    "# Grid search loop\n",
    "for config in grid:\n",
    "    accuracies = []\n",
    "\n",
    "    print(f\"config:\")\n",
    "    pprint(config)\n",
    "    pbar = tqdm(range(n_splits))\n",
    "    for fold in pbar:\n",
    "        pbar.set_description(f\"stock: {stock_name}, fold: {fold}\")\n",
    "        stock = stock_meta.get_stock_by_name(stock_name)\n",
    "        \n",
    "        # split train and val\n",
    "        train_dataset, val_dataset = random_split_train_val(docs_dataset, split_ratio=0.7, verbose=False)\n",
    "\n",
    "        # Update pipeline with config\n",
    "        preprocess_pipeline = PreprocessPipeline(\n",
    "            docs_filterer=Word2VecSimilarFilterer(topn=config['word2vec_similar_topn'], white_noise_ratio=0),\n",
    "            docs_labeler=FutureReturnDocsLabeler(s=config['future_return_docs_labeler_s'], threshold=config['future_return_docs_labeler__thresholds']),\n",
    "            keywords_extractor=JiebaKeywordExtractor(),\n",
    "            vectorizer=KeywordsTfIdfVectorlizer(count_features=config['keywords_tfidf_vectorlizer_count_features'],\n",
    "                                               pca_components=config['keywords_tfidf_vectorlizer_pca_components'])\n",
    "        )\n",
    "\n",
    "        # Preprocess datasets\n",
    "        processed_train_dataset = preprocess_pipeline.preprocess(train_dataset, stock, do_fit=True, verbose=False)\n",
    "        # check label have both 1 and 0\n",
    "        if len(np.unique(processed_train_dataset.labels)) != 2:\n",
    "            continue\n",
    "        processed_val_dataset = preprocess_pipeline.preprocess(val_dataset, stock, do_fit=False, verbose=False)\n",
    "\n",
    "        # Train and validate model\n",
    "        clf = config['model']\n",
    "        result = train_eval_model(clf, processed_train_dataset, processed_val_dataset, verbose=False)\n",
    "\n",
    "        # record validate accuracy\n",
    "        accuracies.append(result.val_accuracy)\n",
    "\n",
    "    # Compute average and standard deviation\n",
    "    avg_accuracy = np.mean(accuracies)\n",
    "\n",
    "    # Record config and results\n",
    "    config_results.append({\n",
    "        'config': config,\n",
    "        'accuracy_avg': avg_accuracy,\n",
    "        'result': result\n",
    "    })\n",
    "\n",
    "    # Display config results\n",
    "    print(f\"Average Accuracy: {avg_accuracy}\")\n",
    "\n"
   ]
  },
  {
   "attachments": {},
   "cell_type": "markdown",
   "metadata": {},
   "source": [
    "# Search 結果\n",
    "我們找到能給出最高準確率的模型與設定，同時，我們也發現調整 s（futrue return days）太高會造成文章引響力低但太低的話雜訊又會太多;另一方面 threshhold影響也很大，如果調太低會造成資料不準確，但太高的話如意會沒有文章資料。\n",
    "\n",
    "以下展示我們最好的模型結果，我們展示各種模型最高準確率，我們發現使用svc 在我們研究中拿到最高81%的accuracy，有趣的是，最複雜的stacking模型反而表現非常不好"
   ]
  },
  {
   "cell_type": "code",
   "execution_count": 81,
   "metadata": {},
   "outputs": [
    {
     "data": {
      "image/png": "[encoded data removed]",
      "text/plain": [
       "<Figure size 640x480 with 1 Axes>"
      ]
     },
     "metadata": {},
     "output_type": "display_data"
    },
    {
     "data": {
      "text/html": [
       "<div>\n",
       "<style scoped>\n",
       "    .dataframe tbody tr th:only-of-type {\n",
       "        vertical-align: middle;\n",
       "    }\n",
       "\n",
       "    .dataframe tbody tr th {\n",
       "        vertical-align: top;\n",
       "    }\n",
       "\n",
       "    .dataframe thead th {\n",
       "        text-align: right;\n",
       "    }\n",
       "</style>\n",
       "<table border=\"1\" class=\"dataframe\">\n",
       "  <thead>\n",
       "    <tr style=\"text-align: right;\">\n",
       "      <th></th>\n",
       "      <th>model</th>\n",
       "      <th>accuracy</th>\n",
       "    </tr>\n",
       "  </thead>\n",
       "  <tbody>\n",
       "    <tr>\n",
       "      <th>0</th>\n",
       "      <td>svc</td>\n",
       "      <td>0.818182</td>\n",
       "    </tr>\n",
       "    <tr>\n",
       "      <th>1</th>\n",
       "      <td>knn</td>\n",
       "      <td>0.714286</td>\n",
       "    </tr>\n",
       "    <tr>\n",
       "      <th>2</th>\n",
       "      <td>lr</td>\n",
       "      <td>0.612335</td>\n",
       "    </tr>\n",
       "    <tr>\n",
       "      <th>3</th>\n",
       "      <td>rf</td>\n",
       "      <td>0.565217</td>\n",
       "    </tr>\n",
       "    <tr>\n",
       "      <th>4</th>\n",
       "      <td>gnb</td>\n",
       "      <td>0.579853</td>\n",
       "    </tr>\n",
       "    <tr>\n",
       "      <th>5</th>\n",
       "      <td>stacking_clf</td>\n",
       "      <td>0.516667</td>\n",
       "    </tr>\n",
       "  </tbody>\n",
       "</table>\n",
       "</div>"
      ],
      "text/plain": [
       "          model  accuracy\n",
       "0           svc  0.818182\n",
       "1           knn  0.714286\n",
       "2            lr  0.612335\n",
       "3            rf  0.565217\n",
       "4           gnb  0.579853\n",
       "5  stacking_clf  0.516667"
      ]
     },
     "metadata": {},
     "output_type": "display_data"
    }
   ],
   "source": [
    "import matplotlib.pyplot as plt\n",
    "# use config_results to get a dictionary which map model name to its best config and best accuracy\n",
    "model_best_config = {}\n",
    "for config_result in config_results:\n",
    "    config = config_result['config']\n",
    "    model_name = str(config['model'])\n",
    "    if model_name not in model_best_config:\n",
    "        model_best_config[model_name] = {\n",
    "            'config': config,\n",
    "            'result': config_result\n",
    "        }\n",
    "    else:\n",
    "        if config_result['accuracy_avg'] > model_best_config[model_name]['result']['accuracy_avg']:\n",
    "            model_best_config[model_name] = {\n",
    "                'config': config,\n",
    "                'result': config_result\n",
    "            }\n",
    "name_model_to_best_config = {}\n",
    "for model, name in zip(model_best_config.keys(), ['svc', 'knn', 'lr', 'rf', 'gnb', 'stacking_clf']):\n",
    "    name_model_to_best_config[name] = model_best_config[model]\n",
    "\n",
    "# plot each model's best accuracy\n",
    "for model_name, config in name_model_to_best_config.items():\n",
    "    model_accuracy = config['result']['accuracy_avg']\n",
    "    plt.bar(model_name, model_accuracy)\n",
    "plt.title('Best Accuracy of Each Model')\n",
    "plt.show()\n",
    "\n",
    "# display model best accuracy using dataframe\n",
    "import pandas as pd\n",
    "\n",
    "model_best_accuracies = []\n",
    "for model_name, config in name_model_to_best_config.items():\n",
    "    model_accuracy = config['result']['accuracy_avg']\n",
    "    model_best_accuracies.append({\n",
    "        'model': model_name,\n",
    "        'accuracy': model_accuracy\n",
    "    })\n",
    "model_best_accuracies_df = pd.DataFrame(model_best_accuracies)\n",
    "display(model_best_accuracies_df)\n",
    "    "
   ]
  },
  {
   "attachments": {},
   "cell_type": "markdown",
   "metadata": {},
   "source": [
    "最後我們呈現我們最好的模型的metrix，並且是用在其他股票看看效果"
   ]
  },
  {
   "cell_type": "code",
   "execution_count": 98,
   "metadata": {},
   "outputs": [
    {
     "data": {
      "text/plain": [
       "{'future_return_docs_labeler__thresholds': 5,\n",
       " 'future_return_docs_labeler_s': 1,\n",
       " 'keywords_tfidf_vectorlizer_count_features': 1000,\n",
       " 'keywords_tfidf_vectorlizer_pca_components': 100,\n",
       " 'model': Pipeline(steps=[('standardscaler', StandardScaler()),\n",
       "                 ('svc', SVC(probability=True))]),\n",
       " 'word2vec_similar_topn': 3}"
      ]
     },
     "execution_count": 98,
     "metadata": {},
     "output_type": "execute_result"
    }
   ],
   "source": [
    "name_model_to_best_config['svc']['config']"
   ]
  },
  {
   "cell_type": "code",
   "execution_count": 6,
   "metadata": {},
   "outputs": [
    {
     "name": "stdout",
     "output_type": "stream",
     "text": [
      "Splitting dataset into training and validation sets with ratio 0.7...\n"
     ]
    },
    {
     "name": "stderr",
     "output_type": "stream",
     "text": [
      "Building prefix dict from the default dictionary ...\n",
      "Loading model from cache /var/folders/36/xrq0hvyj4t1g49sh7nhx56c00000gn/T/jieba.cache\n"
     ]
    },
    {
     "name": "stdout",
     "output_type": "stream",
     "text": [
      "preprocess train dataset\n",
      "==================================================\n",
      "[Word2VecSimilarFilterer] fitting the filterer\n",
      "load word2vec model from cache\n",
      "[Word2VecSimilarFilterer] Filter documents by does content/title/author contain the top most similar words to the stock name\n"
     ]
    },
    {
     "name": "stderr",
     "output_type": "stream",
     "text": [
      "Loading model cost 0.327 seconds.\n",
      "Prefix dict has been built succesfully.\n",
      "filtering documents: 100%|██████████| 1653826/1653826 [00:37<00:00, 43870.11it/s]\n"
     ]
    },
    {
     "name": "stdout",
     "output_type": "stream",
     "text": [
      "left with 80444 documents after filtering\n",
      "==================================================\n",
      "\n",
      "\n",
      "==================================================\n",
      "[FutureReturnDocsLabeler] labeling documents by the s day future return percentage of the stock...\n"
     ]
    },
    {
     "name": "stderr",
     "output_type": "stream",
     "text": [
      "labeling documents: 100%|██████████| 1026/1026 [00:00<00:00, 23439.65it/s]\n"
     ]
    },
    {
     "name": "stdout",
     "output_type": "stream",
     "text": [
      "left with 810 documents after labeling\n",
      "==================================================\n",
      "\n",
      "\n",
      "==================================================\n",
      "[JiebaKeywordExtractor] extract keywords from documents using jieba\n"
     ]
    },
    {
     "name": "stderr",
     "output_type": "stream",
     "text": [
      "extracting keywords: 100%|██████████| 810/810 [00:00<00:00, 1351924.49it/s]"
     ]
    },
    {
     "name": "stdout",
     "output_type": "stream",
     "text": [
      "remove 0 docs because of empty keywords\n",
      "left with 810 docs\n",
      "==================================================\n",
      "\n",
      "\n",
      "==================================================\n",
      "[KeywordsTfIdfVectorlizer] fitting 810 docs\n"
     ]
    },
    {
     "name": "stderr",
     "output_type": "stream",
     "text": [
      "\n"
     ]
    },
    {
     "name": "stdout",
     "output_type": "stream",
     "text": [
      "vectorizer fitted.\n",
      "[KeywordsTfIdfVectorlizer] transforming 810 docs to vectors\n",
      "==================================================\n",
      "\n",
      "\n",
      "\n",
      "\n",
      "\n",
      "\n",
      "preprocess val dataset\n",
      "==================================================\n",
      "[Word2VecSimilarFilterer] Filter documents by does content/title/author contain the top most similar words to the stock name\n"
     ]
    },
    {
     "name": "stderr",
     "output_type": "stream",
     "text": [
      "filtering documents: 100%|██████████| 212494/212494 [00:05<00:00, 39515.39it/s]\n"
     ]
    },
    {
     "name": "stdout",
     "output_type": "stream",
     "text": [
      "left with 10494 documents after filtering\n",
      "==================================================\n",
      "\n",
      "\n",
      "==================================================\n",
      "[FutureReturnDocsLabeler] labeling documents by the s day future return percentage of the stock...\n"
     ]
    },
    {
     "name": "stderr",
     "output_type": "stream",
     "text": [
      "labeling documents: 100%|██████████| 1026/1026 [00:00<00:00, 49690.04it/s]\n"
     ]
    },
    {
     "name": "stdout",
     "output_type": "stream",
     "text": [
      "left with 80 documents after labeling\n",
      "==================================================\n",
      "\n",
      "\n",
      "==================================================\n",
      "[JiebaKeywordExtractor] extract keywords from documents using jieba\n"
     ]
    },
    {
     "name": "stderr",
     "output_type": "stream",
     "text": [
      "extracting keywords: 100%|██████████| 80/80 [00:00<00:00, 1198372.57it/s]\n"
     ]
    },
    {
     "name": "stdout",
     "output_type": "stream",
     "text": [
      "remove 0 docs because of empty keywords\n",
      "left with 80 docs\n",
      "==================================================\n",
      "\n",
      "\n",
      "==================================================\n",
      "[KeywordsTfIdfVectorlizer] transforming 80 docs to vectors\n",
      "==================================================\n",
      "\n",
      "\n",
      "fitting model...\n",
      "model prediction...\n",
      "calculating performance metrics...\n",
      "\n",
      "\n",
      "\n",
      "\n",
      "\n",
      "result:\n",
      "Training accuracy: 0.9703703703703703\n",
      "Validation accuracy: 0.925\n",
      "\n",
      "Training classification report:\n",
      "              precision    recall  f1-score   support\n",
      "\n",
      "      fallen       0.99      0.80      0.88       115\n",
      "       risen       0.97      1.00      0.98       695\n",
      "\n",
      "    accuracy                           0.97       810\n",
      "   macro avg       0.98      0.90      0.93       810\n",
      "weighted avg       0.97      0.97      0.97       810\n",
      "\n",
      "\n",
      "Validation classification report:\n",
      "              precision    recall  f1-score   support\n",
      "\n",
      "      fallen       1.00      0.25      0.40         8\n",
      "       risen       0.92      1.00      0.96        72\n",
      "\n",
      "    accuracy                           0.93        80\n",
      "   macro avg       0.96      0.62      0.68        80\n",
      "weighted avg       0.93      0.93      0.90        80\n",
      "\n"
     ]
    },
    {
     "data": {
      "image/png": "[encoded data removed]",
      "text/plain": [
       "<Figure size 800x400 with 4 Axes>"
      ]
     },
     "metadata": {},
     "output_type": "display_data"
    },
    {
     "data": {
      "image/png": "[encoded data removed]",
      "text/plain": [
       "<Figure size 1000x500 with 2 Axes>"
      ]
     },
     "metadata": {},
     "output_type": "display_data"
    }
   ],
   "source": [
    "# set up config\n",
    "stock = stock_meta.get_stock_by_name('台積電')\n",
    "clf = make_pipeline(StandardScaler(), SVC(probability=True))\n",
    "preprocess_pipeline = PreprocessPipeline(\n",
    "    docs_filterer=Word2VecSimilarFilterer(topn=3, white_noise_ratio=0),\n",
    "    docs_labeler=FutureReturnDocsLabeler(s=1, threshold=5),\n",
    "    keywords_extractor=JiebaKeywordExtractor(),\n",
    "    vectorizer=KeywordsTfIdfVectorlizer(count_features=1000, pca_components=100)\n",
    ")\n",
    "\n",
    "# split train and val\n",
    "train_dataset, val_dataset = random_split_train_val(docs_dataset, split_ratio=0.7)\n",
    "# preprocess dataset\n",
    "print(\"preprocess train dataset\")\n",
    "train_dataset = preprocess_pipeline.preprocess(train_dataset, stock, do_fit=True, verbose=True)\n",
    "print(\"\\n\\n\\n\\npreprocess val dataset\")\n",
    "val_dataset = preprocess_pipeline.preprocess(val_dataset, stock, do_fit=False, verbose=True)\n",
    "# train and validate model\n",
    "result = train_eval_model(clf, train_dataset, val_dataset, verbose=True)\n",
    "\n",
    "# display result\n",
    "print(\"\\n\\n\\n\\n\\nresult:\")\n",
    "display_evaluation_result(result, clf, train_dataset, val_dataset)"
   ]
  },
  {
   "attachments": {},
   "cell_type": "markdown",
   "metadata": {},
   "source": [
    "由此發現，確實accuracy高，但主要是因為s小 threshold大時我們的資料集會很小，且看起來大部分文章多會特別注重漲，且資料有可能不平衡。"
   ]
  }
 ],
 "metadata": {
  "kernelspec": {
   "display_name": "Python 3",
   "language": "python",
   "name": "python3"
  },
  "language_info": {
   "codemirror_mode": {
    "name": "ipython",
    "version": 3
   },
   "file_extension": ".py",
   "mimetype": "text/x-python",
   "name": "python",
   "nbconvert_exporter": "python",
   "pygments_lexer": "ipython3",
   "version": "3.11.2"
  }
 },
 "nbformat": 4,
 "nbformat_minor": 0
}
