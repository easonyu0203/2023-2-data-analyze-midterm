{
 "cells": [
  {
   "cell_type": "markdown",
   "metadata": {
    "collapsed": false
   },
   "source": [
    "# training Pipeline Research\n",
    "\n",
    "In this notebook, we aim to find a good training pipeline for predicting stock future return, to determine a training pipline is good or not really depend on the metrix we concerned and what stock we care, by the research in stock_feature_research.ipynb, we have chosen 10 stock, and now we decide to use accuracy as our metrix, and we want to find a pipline which can yield high accuracy and low std for all stock:\n",
    "\n",
    "for each config-pipeline, we compute the average/std accuracy for each stock, and plot it to a graph to see which perform better\n",
    "\n",
    "NOTE: why we care about accuracy:<br>\n",
    "in context of stock future return prediction, we care both risen and fallen, and since accuracy take into account both positive and negative label( for recall, precision, f1 they care about positive label) we think this metrix can most represent what we want to achieve."
   ]
  },
  {
   "cell_type": "markdown",
   "metadata": {
    "collapsed": false
   },
   "source": [
    "### Set up notebook (not important)\n",
    "change directory to root and import stuff"
   ]
  },
  {
   "cell_type": "code",
   "execution_count": 1,
   "metadata": {
    "collapsed": false
   },
   "outputs": [
    {
     "data": {
      "text/plain": [
       "'/Users/Ethan/Developer/Projects/College/大四下/數據分析/期中'"
      ]
     },
     "execution_count": 1,
     "metadata": {},
     "output_type": "execute_result"
    }
   ],
   "source": [
    "import os\n",
    "\n",
    "folder_name = \"researchs\"\n",
    "if folder_name in os.getcwd():\n",
    "    os.chdir(os.path.abspath(os.pardir))\n",
    "%pwd"
   ]
  },
  {
   "cell_type": "markdown",
   "metadata": {
    "collapsed": false
   },
   "source": [
    "# Dataset\n",
    "we use DbDocsDataset to get our dataset, previously we store all our docs in db"
   ]
  },
  {
   "cell_type": "code",
   "execution_count": 2,
   "metadata": {
    "collapsed": false
   },
   "outputs": [
    {
     "name": "stdout",
     "output_type": "stream",
     "text": [
      "DocsDataset: load cached documents_df\n"
     ]
    },
    {
     "data": {
      "text/plain": [
       "(DocumentsDataset(size=2362609), StockMeta(stock_count=2607))"
      ]
     },
     "execution_count": 2,
     "metadata": {},
     "output_type": "execute_result"
    }
   ],
   "source": [
    "from datasets.docs_dataset import DocsDataset\n",
    "from datasets.stock_dataset import StockMeta\n",
    "\n",
    "docs_dataset = DocsDataset()\n",
    "stock_meta = StockMeta(\"./organized_data/stock_metadata.csv\")\n",
    "docs_dataset, stock_meta"
   ]
  },
  {
   "cell_type": "markdown",
   "metadata": {
    "collapsed": false
   },
   "source": [
    "# Demo of model training pipeline\n",
    "Let use an example to show the model training pipeline we have constructed.\n",
    "\n",
    "我們使用「台積電」這支股票以及 logistic regression，並且使用以下preprocess-pipeline-config：<br>\n",
    "我們程式可以分成以下steps:\n",
    "1. 設置好我們的參數，包括股票、模型、以及前處理流程\n",
    "2. 將資料分成train和val\n",
    "3. 將train和val資料進行前處理（注意：我們使用 train_dataset 來fit vectorizer，並且使用同樣的vectorizer來transform val_dataset）\n",
    "4. 將前處理好的資料丟進模型中訓練"
   ]
  },
  {
   "cell_type": "markdown",
   "metadata": {
    "collapsed": false
   },
   "source": [
    "### introduce preprocess pipeline\n",
    "我們使用 pipeline 概念將文章資料集轉換成向廖資料\n",
    "* docs_filterer: 首先filter掉不相關的文章\n",
    "*  docs_labeler: 然後將文章標記上label\n",
    "* keywords_extractor: 再來從文章中抽取關鍵字\n",
    "* vectorizer: 最後將關鍵字轉換成向量\n"
   ]
  },
  {
   "cell_type": "code",
   "execution_count": 3,
   "metadata": {},
   "outputs": [],
   "source": [
    "from preprocess.preprocess_pipeline import PreprocessPipeline\n",
    "from preprocess.docs_filterer import IDocsFilterer, StockNameFilterer, Word2VecSimilarFilterer\n",
    "from preprocess.docs_labeler import IDocsLabeler, FutureReturnDocsLabeler\n",
    "from preprocess.keyword_extractor import IKeywordExtractor, JiebaKeywordExtractor\n",
    "from preprocess.vectorlizer import IVectorlizer, KeywordsTfIdfVectorlizer\n",
    "from utils.data import random_split_train_val\n",
    "from sklearn.linear_model import LogisticRegression\n",
    "from sklearn_model_process.train_eval_model import train_eval_model, display_evaluation_result"
   ]
  },
  {
   "cell_type": "code",
   "execution_count": 4,
   "metadata": {
    "collapsed": false
   },
   "outputs": [
    {
     "name": "stdout",
     "output_type": "stream",
     "text": [
      "Splitting dataset into training and validation sets with ratio 0.8...\n"
     ]
    },
    {
     "name": "stderr",
     "output_type": "stream",
     "text": [
      "Building prefix dict from the default dictionary ...\n",
      "Loading model from cache /var/folders/36/xrq0hvyj4t1g49sh7nhx56c00000gn/T/jieba.cache\n"
     ]
    },
    {
     "name": "stdout",
     "output_type": "stream",
     "text": [
      "preprocess train dataset\n",
      "==================================================\n",
      "[Word2VecSimilarFilterer] fitting the filterer\n",
      "load word2vec model from cache\n",
      "[Word2VecSimilarFilterer] Filter documents by does content/title/author contain the top most similar words to the stock name\n"
     ]
    },
    {
     "name": "stderr",
     "output_type": "stream",
     "text": [
      "Loading model cost 0.338 seconds.\n",
      "Prefix dict has been built succesfully.\n",
      "filtering documents: 100%|██████████| 1890087/1890087 [00:45<00:00, 41167.06it/s]\n"
     ]
    },
    {
     "name": "stdout",
     "output_type": "stream",
     "text": [
      "left with 3110 documents after filtering\n",
      "==================================================\n",
      "\n",
      "\n",
      "==================================================\n",
      "[FutureReturnDocsLabeler] labeling documents by the s day future return percentage of the stock...\n"
     ]
    },
    {
     "name": "stderr",
     "output_type": "stream",
     "text": [
      "labeling documents: 100%|██████████| 1026/1026 [00:00<00:00, 6208.36it/s]\n"
     ]
    },
    {
     "name": "stdout",
     "output_type": "stream",
     "text": [
      "left with 782 documents after labeling\n",
      "==================================================\n",
      "\n",
      "\n",
      "==================================================\n",
      "[JiebaKeywordExtractor] extract keywords from documents using jieba\n"
     ]
    },
    {
     "name": "stderr",
     "output_type": "stream",
     "text": [
      "extracting keywords: 100%|██████████| 782/782 [00:00<00:00, 1567102.59it/s]\n"
     ]
    },
    {
     "name": "stdout",
     "output_type": "stream",
     "text": [
      "remove 0 docs because of empty keywords\n",
      "left with 782 docs\n",
      "==================================================\n",
      "\n",
      "\n",
      "==================================================\n",
      "[KeywordsTfIdfVectorlizer] fitting 782 docs\n",
      "vectorizer fitted.\n",
      "[KeywordsTfIdfVectorlizer] transforming 782 docs to vectors\n",
      "==================================================\n",
      "\n",
      "\n",
      "\n",
      "\n",
      "\n",
      "\n",
      "preprocess val dataset\n",
      "==================================================\n",
      "[Word2VecSimilarFilterer] Filter documents by does content/title/author contain the top most similar words to the stock name\n"
     ]
    },
    {
     "name": "stderr",
     "output_type": "stream",
     "text": [
      "filtering documents: 100%|██████████| 94970/94970 [00:02<00:00, 31913.91it/s]\n"
     ]
    },
    {
     "name": "stdout",
     "output_type": "stream",
     "text": [
      "left with 174 documents after filtering\n",
      "==================================================\n",
      "\n",
      "\n",
      "==================================================\n",
      "[FutureReturnDocsLabeler] labeling documents by the s day future return percentage of the stock...\n"
     ]
    },
    {
     "name": "stderr",
     "output_type": "stream",
     "text": [
      "labeling documents: 100%|██████████| 1026/1026 [00:00<00:00, 7417.53it/s]\n"
     ]
    },
    {
     "name": "stdout",
     "output_type": "stream",
     "text": [
      "left with 46 documents after labeling\n",
      "==================================================\n",
      "\n",
      "\n",
      "==================================================\n",
      "[JiebaKeywordExtractor] extract keywords from documents using jieba\n"
     ]
    },
    {
     "name": "stderr",
     "output_type": "stream",
     "text": [
      "extracting keywords: 100%|██████████| 46/46 [00:00<00:00, 756619.55it/s]\n"
     ]
    },
    {
     "name": "stdout",
     "output_type": "stream",
     "text": [
      "remove 0 docs because of empty keywords\n",
      "left with 46 docs\n",
      "==================================================\n",
      "\n",
      "\n",
      "==================================================\n",
      "[KeywordsTfIdfVectorlizer] transforming 46 docs to vectors\n",
      "==================================================\n",
      "\n",
      "\n",
      "fitting model...\n",
      "model prediction...\n",
      "calculating performance metrics...\n",
      "\n",
      "\n",
      "\n",
      "\n",
      "\n",
      "result:\n",
      "Training accuracy: 0.768542199488491\n",
      "Validation accuracy: 0.6086956521739131\n",
      "\n",
      "Training classification report:\n",
      "              precision    recall  f1-score   support\n",
      "\n",
      "      fallen       0.74      0.87      0.80       415\n",
      "       risen       0.81      0.66      0.73       367\n",
      "\n",
      "    accuracy                           0.77       782\n",
      "   macro avg       0.78      0.76      0.76       782\n",
      "weighted avg       0.77      0.77      0.77       782\n",
      "\n",
      "\n",
      "Validation classification report:\n",
      "              precision    recall  f1-score   support\n",
      "\n",
      "      fallen       0.54      0.70      0.61        20\n",
      "       risen       0.70      0.54      0.61        26\n",
      "\n",
      "    accuracy                           0.61        46\n",
      "   macro avg       0.62      0.62      0.61        46\n",
      "weighted avg       0.63      0.61      0.61        46\n",
      "\n"
     ]
    },
    {
     "data": {
      "image/png": "[encoded data removed]",
      "text/plain": [
       "<Figure size 800x400 with 4 Axes>"
      ]
     },
     "metadata": {},
     "output_type": "display_data"
    },
    {
     "data": {
      "image/png": "[encoded data removed]",
      "text/plain": [
       "<Figure size 1000x500 with 2 Axes>"
      ]
     },
     "metadata": {},
     "output_type": "display_data"
    }
   ],
   "source": [
    "# set up config\n",
    "stock = stock_meta.get_stock_by_name(\"群創\")\n",
    "clf = LogisticRegression()\n",
    "preprocess_pipeline = PreprocessPipeline(\n",
    "    docs_filterer=Word2VecSimilarFilterer(topn=1, white_noise_ratio=0),\n",
    "    docs_labeler=FutureReturnDocsLabeler(s=3, threshold=5),\n",
    "    keywords_extractor=JiebaKeywordExtractor(),\n",
    "    vectorizer=KeywordsTfIdfVectorlizer(count_features=1000, pca_components=100)\n",
    ")\n",
    "\n",
    "# split train and val\n",
    "train_dataset, val_dataset = random_split_train_val(docs_dataset, split_ratio=0.8)\n",
    "# preprocess dataset\n",
    "print(\"preprocess train dataset\")\n",
    "train_dataset = preprocess_pipeline.preprocess(train_dataset, stock, do_fit=True, verbose=True)\n",
    "print(\"\\n\\n\\n\\npreprocess val dataset\")\n",
    "val_dataset = preprocess_pipeline.preprocess(val_dataset, stock, do_fit=False, verbose=True)\n",
    "# train and validate model\n",
    "result = train_eval_model(clf, train_dataset, val_dataset, verbose=True)\n",
    "\n",
    "# display result\n",
    "print(\"\\n\\n\\n\\n\\nresult:\")\n",
    "display_evaluation_result(result, clf, train_dataset, val_dataset)"
   ]
  },
  {
   "attachments": {},
   "cell_type": "markdown",
   "metadata": {
    "collapsed": false
   },
   "source": [
    "## Search target & Domain\n",
    "### Target\n",
    "目標是要在以下股票中，模型能yield出高準確率和低標準差，目前我們使用‘台塑’作為研究對象<br>\n",
    "['世界', '加權指數', '台積電', '統一', '台塑', '鴻海']\n",
    "\n",
    "### Domain\n",
    "我們定義我們的搜尋空間，我們將會在這個空間中找出最好的 training pipeline\n",
    "我們使用以下模型：<br>\n",
    "svc, knn, logistic regression, random forest, GussianNB, StackingClassifier(all before)<br>\n",
    "搭配各種不同的前處理流程（在程式裡定義，這裡不一一列舉）：<br>"
   ]
  },
  {
   "attachments": {},
   "cell_type": "markdown",
   "metadata": {
    "collapsed": false
   },
   "source": [
    "## Define search space\n",
    "我們定義我們的搜尋空間，我們將會在這個空間中找出最好的模型和hyper parameters"
   ]
  },
  {
   "cell_type": "code",
   "execution_count": 15,
   "metadata": {
    "collapsed": true
   },
   "outputs": [],
   "source": [
    "from sklearn.svm import SVC\n",
    "from sklearn.neighbors import KNeighborsClassifier\n",
    "from sklearn.linear_model import LogisticRegression\n",
    "from sklearn.ensemble import RandomForestClassifier\n",
    "from sklearn.naive_bayes import GaussianNB\n",
    "from sklearn.ensemble import StackingClassifier\n",
    "from sklearn.pipeline import make_pipeline\n",
    "from sklearn.preprocessing import StandardScaler\n",
    "\n",
    "# Support Vector Classifier\n",
    "svc = make_pipeline(StandardScaler(), SVC(probability=True))\n",
    "\n",
    "# K-Nearest Neighbors Classifier\n",
    "knn = make_pipeline(StandardScaler(), KNeighborsClassifier())\n",
    "\n",
    "# Logistic Regression Classifier\n",
    "lr = make_pipeline(StandardScaler(), LogisticRegression())\n",
    "\n",
    "# Random Forest Classifier\n",
    "rf = RandomForestClassifier()\n",
    "\n",
    "# Gaussian Naive Bayes Classifier\n",
    "gnb = GaussianNB()\n",
    "\n",
    "# Stacking Classifier\n",
    "estimators = [('svc', svc), ('knn', knn), ('lr', lr), ('rf', rf), ('gnb', gnb)]\n",
    "stacking_clf = StackingClassifier(estimators=estimators, final_estimator=SVC(probability=True))\n",
    "\n",
    "\n",
    "# stock names\n",
    "stock_names = ['世界', '加權指數', '台積電', '統一', '台塑', '鴻海']\n",
    "stock_name = '群創'\n",
    "# search space\n",
    "models = [svc, knn, lr, rf, stacking_clf]\n",
    "word2vec_similar__topns = [1]\n",
    "future_return_docs_labeler__s = [1, 3, 10]\n",
    "future_return_docs_labeler__thresholds = [3, 5]\n",
    "keywords_tfidf_vectorlizer__count_features = [1000]\n",
    "keywords_tfidf_vectorlizer__pca_components = [100]"
   ]
  },
  {
   "attachments": {},
   "cell_type": "markdown",
   "metadata": {
    "collapsed": false
   },
   "source": [
    "## Search\n",
    "對於每一種組合，我們計算此組合對於全部股票的平均準確率和標準差，我們同時還使用5 fold，來最低母體和sample的差距"
   ]
  },
  {
   "cell_type": "code",
   "execution_count": 16,
   "metadata": {
    "collapsed": false,
    "pycharm": {
     "is_executing": true
    }
   },
   "outputs": [
    {
     "name": "stdout",
     "output_type": "stream",
     "text": [
      "config:\n",
      "{'future_return_docs_labeler__thresholds': 3,\n",
      " 'future_return_docs_labeler_s': 1,\n",
      " 'keywords_tfidf_vectorlizer_count_features': 1000,\n",
      " 'keywords_tfidf_vectorlizer_pca_components': 100,\n",
      " 'model': Pipeline(steps=[('standardscaler', StandardScaler()),\n",
      "                ('svc', SVC(probability=True))]),\n",
      " 'word2vec_similar_topn': 1}\n"
     ]
    },
    {
     "name": "stderr",
     "output_type": "stream",
     "text": [
      "stock: 群創, fold: 2: 100%|██████████| 3/3 [03:59<00:00, 79.80s/it]\n"
     ]
    },
    {
     "name": "stdout",
     "output_type": "stream",
     "text": [
      "Average Accuracy: 0.6257964257964258\n",
      "config:\n",
      "{'future_return_docs_labeler__thresholds': 3,\n",
      " 'future_return_docs_labeler_s': 1,\n",
      " 'keywords_tfidf_vectorlizer_count_features': 1000,\n",
      " 'keywords_tfidf_vectorlizer_pca_components': 100,\n",
      " 'model': Pipeline(steps=[('standardscaler', StandardScaler()),\n",
      "                ('kneighborsclassifier', KNeighborsClassifier())]),\n",
      " 'word2vec_similar_topn': 1}\n"
     ]
    },
    {
     "name": "stderr",
     "output_type": "stream",
     "text": [
      "stock: 群創, fold: 2: 100%|██████████| 3/3 [03:20<00:00, 66.86s/it]\n"
     ]
    },
    {
     "name": "stdout",
     "output_type": "stream",
     "text": [
      "Average Accuracy: 0.46547887172887176\n",
      "config:\n",
      "{'future_return_docs_labeler__thresholds': 3,\n",
      " 'future_return_docs_labeler_s': 1,\n",
      " 'keywords_tfidf_vectorlizer_count_features': 1000,\n",
      " 'keywords_tfidf_vectorlizer_pca_components': 100,\n",
      " 'model': Pipeline(steps=[('standardscaler', StandardScaler()),\n",
      "                ('logisticregression', LogisticRegression())]),\n",
      " 'word2vec_similar_topn': 1}\n"
     ]
    },
    {
     "name": "stderr",
     "output_type": "stream",
     "text": [
      "stock: 群創, fold: 2: 100%|██████████| 3/3 [04:08<00:00, 82.81s/it] \n"
     ]
    },
    {
     "name": "stdout",
     "output_type": "stream",
     "text": [
      "Average Accuracy: 0.6150562851782364\n",
      "config:\n",
      "{'future_return_docs_labeler__thresholds': 3,\n",
      " 'future_return_docs_labeler_s': 1,\n",
      " 'keywords_tfidf_vectorlizer_count_features': 1000,\n",
      " 'keywords_tfidf_vectorlizer_pca_components': 100,\n",
      " 'model': RandomForestClassifier(),\n",
      " 'word2vec_similar_topn': 1}\n"
     ]
    },
    {
     "name": "stderr",
     "output_type": "stream",
     "text": [
      "stock: 群創, fold: 2: 100%|██████████| 3/3 [03:55<00:00, 78.45s/it]\n"
     ]
    },
    {
     "name": "stdout",
     "output_type": "stream",
     "text": [
      "Average Accuracy: 0.5622358335124292\n",
      "config:\n",
      "{'future_return_docs_labeler__thresholds': 3,\n",
      " 'future_return_docs_labeler_s': 1,\n",
      " 'keywords_tfidf_vectorlizer_count_features': 1000,\n",
      " 'keywords_tfidf_vectorlizer_pca_components': 100,\n",
      " 'model': StackingClassifier(estimators=[('svc',\n",
      "                                Pipeline(steps=[('standardscaler',\n",
      "                                                 StandardScaler()),\n",
      "                                                ('svc',\n",
      "                                                 SVC(probability=True))])),\n",
      "                               ('knn',\n",
      "                                Pipeline(steps=[('standardscaler',\n",
      "                                                 StandardScaler()),\n",
      "                                                ('kneighborsclassifier',\n",
      "                                                 KNeighborsClassifier())])),\n",
      "                               ('lr',\n",
      "                                Pipeline(steps=[('standardscaler',\n",
      "                                                 StandardScaler()),\n",
      "                                                ('logisticregression',\n",
      "                                                 LogisticRegression())])),\n",
      "                               ('rf', RandomForestClassifier()),\n",
      "                               ('gnb', GaussianNB())],\n",
      "                   final_estimator=SVC(probability=True)),\n",
      " 'word2vec_similar_topn': 1}\n"
     ]
    },
    {
     "name": "stderr",
     "output_type": "stream",
     "text": [
      "stock: 群創, fold: 2: 100%|██████████| 3/3 [03:22<00:00, 67.63s/it]\n"
     ]
    },
    {
     "name": "stdout",
     "output_type": "stream",
     "text": [
      "Average Accuracy: 0.4347474747474747\n",
      "config:\n",
      "{'future_return_docs_labeler__thresholds': 3,\n",
      " 'future_return_docs_labeler_s': 3,\n",
      " 'keywords_tfidf_vectorlizer_count_features': 1000,\n",
      " 'keywords_tfidf_vectorlizer_pca_components': 100,\n",
      " 'model': Pipeline(steps=[('standardscaler', StandardScaler()),\n",
      "                ('svc', SVC(probability=True))]),\n",
      " 'word2vec_similar_topn': 1}\n"
     ]
    },
    {
     "name": "stderr",
     "output_type": "stream",
     "text": [
      "stock: 群創, fold: 2: 100%|██████████| 3/3 [04:05<00:00, 81.95s/it] \n"
     ]
    },
    {
     "name": "stdout",
     "output_type": "stream",
     "text": [
      "Average Accuracy: 0.6172162106982442\n",
      "config:\n",
      "{'future_return_docs_labeler__thresholds': 3,\n",
      " 'future_return_docs_labeler_s': 3,\n",
      " 'keywords_tfidf_vectorlizer_count_features': 1000,\n",
      " 'keywords_tfidf_vectorlizer_pca_components': 100,\n",
      " 'model': Pipeline(steps=[('standardscaler', StandardScaler()),\n",
      "                ('kneighborsclassifier', KNeighborsClassifier())]),\n",
      " 'word2vec_similar_topn': 1}\n"
     ]
    },
    {
     "name": "stderr",
     "output_type": "stream",
     "text": [
      "stock: 群創, fold: 2: 100%|██████████| 3/3 [04:11<00:00, 83.83s/it]\n"
     ]
    },
    {
     "name": "stdout",
     "output_type": "stream",
     "text": [
      "Average Accuracy: 0.5725490196078432\n",
      "config:\n",
      "{'future_return_docs_labeler__thresholds': 3,\n",
      " 'future_return_docs_labeler_s': 3,\n",
      " 'keywords_tfidf_vectorlizer_count_features': 1000,\n",
      " 'keywords_tfidf_vectorlizer_pca_components': 100,\n",
      " 'model': Pipeline(steps=[('standardscaler', StandardScaler()),\n",
      "                ('logisticregression', LogisticRegression())]),\n",
      " 'word2vec_similar_topn': 1}\n"
     ]
    },
    {
     "name": "stderr",
     "output_type": "stream",
     "text": [
      "stock: 群創, fold: 2: 100%|██████████| 3/3 [04:26<00:00, 88.77s/it]\n"
     ]
    },
    {
     "name": "stdout",
     "output_type": "stream",
     "text": [
      "Average Accuracy: 0.5865539452495975\n",
      "config:\n",
      "{'future_return_docs_labeler__thresholds': 3,\n",
      " 'future_return_docs_labeler_s': 3,\n",
      " 'keywords_tfidf_vectorlizer_count_features': 1000,\n",
      " 'keywords_tfidf_vectorlizer_pca_components': 100,\n",
      " 'model': RandomForestClassifier(),\n",
      " 'word2vec_similar_topn': 1}\n"
     ]
    },
    {
     "name": "stderr",
     "output_type": "stream",
     "text": [
      "stock: 群創, fold: 2: 100%|██████████| 3/3 [03:32<00:00, 70.86s/it]\n"
     ]
    },
    {
     "name": "stdout",
     "output_type": "stream",
     "text": [
      "Average Accuracy: 0.599616858237548\n",
      "config:\n",
      "{'future_return_docs_labeler__thresholds': 3,\n",
      " 'future_return_docs_labeler_s': 3,\n",
      " 'keywords_tfidf_vectorlizer_count_features': 1000,\n",
      " 'keywords_tfidf_vectorlizer_pca_components': 100,\n",
      " 'model': StackingClassifier(estimators=[('svc',\n",
      "                                Pipeline(steps=[('standardscaler',\n",
      "                                                 StandardScaler()),\n",
      "                                                ('svc',\n",
      "                                                 SVC(probability=True))])),\n",
      "                               ('knn',\n",
      "                                Pipeline(steps=[('standardscaler',\n",
      "                                                 StandardScaler()),\n",
      "                                                ('kneighborsclassifier',\n",
      "                                                 KNeighborsClassifier())])),\n",
      "                               ('lr',\n",
      "                                Pipeline(steps=[('standardscaler',\n",
      "                                                 StandardScaler()),\n",
      "                                                ('logisticregression',\n",
      "                                                 LogisticRegression())])),\n",
      "                               ('rf', RandomForestClassifier()),\n",
      "                               ('gnb', GaussianNB())],\n",
      "                   final_estimator=SVC(probability=True)),\n",
      " 'word2vec_similar_topn': 1}\n"
     ]
    },
    {
     "name": "stderr",
     "output_type": "stream",
     "text": [
      "stock: 群創, fold: 2: 100%|██████████| 3/3 [05:01<00:00, 100.43s/it]\n"
     ]
    },
    {
     "name": "stdout",
     "output_type": "stream",
     "text": [
      "Average Accuracy: 0.43688467535360287\n",
      "config:\n",
      "{'future_return_docs_labeler__thresholds': 3,\n",
      " 'future_return_docs_labeler_s': 10,\n",
      " 'keywords_tfidf_vectorlizer_count_features': 1000,\n",
      " 'keywords_tfidf_vectorlizer_pca_components': 100,\n",
      " 'model': Pipeline(steps=[('standardscaler', StandardScaler()),\n",
      "                ('svc', SVC(probability=True))]),\n",
      " 'word2vec_similar_topn': 1}\n"
     ]
    },
    {
     "name": "stderr",
     "output_type": "stream",
     "text": [
      "stock: 群創, fold: 2: 100%|██████████| 3/3 [05:03<00:00, 101.05s/it]\n"
     ]
    },
    {
     "name": "stdout",
     "output_type": "stream",
     "text": [
      "Average Accuracy: 0.5764279967819791\n",
      "config:\n",
      "{'future_return_docs_labeler__thresholds': 3,\n",
      " 'future_return_docs_labeler_s': 10,\n",
      " 'keywords_tfidf_vectorlizer_count_features': 1000,\n",
      " 'keywords_tfidf_vectorlizer_pca_components': 100,\n",
      " 'model': Pipeline(steps=[('standardscaler', StandardScaler()),\n",
      "                ('kneighborsclassifier', KNeighborsClassifier())]),\n",
      " 'word2vec_similar_topn': 1}\n"
     ]
    },
    {
     "name": "stderr",
     "output_type": "stream",
     "text": [
      "stock: 群創, fold: 2: 100%|██████████| 3/3 [05:10<00:00, 103.51s/it]\n"
     ]
    },
    {
     "name": "stdout",
     "output_type": "stream",
     "text": [
      "Average Accuracy: 0.6185942775785837\n",
      "config:\n",
      "{'future_return_docs_labeler__thresholds': 3,\n",
      " 'future_return_docs_labeler_s': 10,\n",
      " 'keywords_tfidf_vectorlizer_count_features': 1000,\n",
      " 'keywords_tfidf_vectorlizer_pca_components': 100,\n",
      " 'model': Pipeline(steps=[('standardscaler', StandardScaler()),\n",
      "                ('logisticregression', LogisticRegression())]),\n",
      " 'word2vec_similar_topn': 1}\n"
     ]
    },
    {
     "name": "stderr",
     "output_type": "stream",
     "text": [
      "stock: 群創, fold: 2: 100%|██████████| 3/3 [04:08<00:00, 82.69s/it]\n"
     ]
    },
    {
     "name": "stdout",
     "output_type": "stream",
     "text": [
      "Average Accuracy: 0.5988568781690199\n",
      "config:\n",
      "{'future_return_docs_labeler__thresholds': 3,\n",
      " 'future_return_docs_labeler_s': 10,\n",
      " 'keywords_tfidf_vectorlizer_count_features': 1000,\n",
      " 'keywords_tfidf_vectorlizer_pca_components': 100,\n",
      " 'model': RandomForestClassifier(),\n",
      " 'word2vec_similar_topn': 1}\n"
     ]
    },
    {
     "name": "stderr",
     "output_type": "stream",
     "text": [
      "stock: 群創, fold: 2: 100%|██████████| 3/3 [05:00<00:00, 100.27s/it]\n"
     ]
    },
    {
     "name": "stdout",
     "output_type": "stream",
     "text": [
      "Average Accuracy: 0.5902816820756289\n",
      "config:\n",
      "{'future_return_docs_labeler__thresholds': 3,\n",
      " 'future_return_docs_labeler_s': 10,\n",
      " 'keywords_tfidf_vectorlizer_count_features': 1000,\n",
      " 'keywords_tfidf_vectorlizer_pca_components': 100,\n",
      " 'model': StackingClassifier(estimators=[('svc',\n",
      "                                Pipeline(steps=[('standardscaler',\n",
      "                                                 StandardScaler()),\n",
      "                                                ('svc',\n",
      "                                                 SVC(probability=True))])),\n",
      "                               ('knn',\n",
      "                                Pipeline(steps=[('standardscaler',\n",
      "                                                 StandardScaler()),\n",
      "                                                ('kneighborsclassifier',\n",
      "                                                 KNeighborsClassifier())])),\n",
      "                               ('lr',\n",
      "                                Pipeline(steps=[('standardscaler',\n",
      "                                                 StandardScaler()),\n",
      "                                                ('logisticregression',\n",
      "                                                 LogisticRegression())])),\n",
      "                               ('rf', RandomForestClassifier()),\n",
      "                               ('gnb', GaussianNB())],\n",
      "                   final_estimator=SVC(probability=True)),\n",
      " 'word2vec_similar_topn': 1}\n"
     ]
    },
    {
     "name": "stderr",
     "output_type": "stream",
     "text": [
      "stock: 群創, fold: 2: 100%|██████████| 3/3 [05:53<00:00, 117.69s/it]\n"
     ]
    },
    {
     "name": "stdout",
     "output_type": "stream",
     "text": [
      "Average Accuracy: 0.5075891381345926\n",
      "config:\n",
      "{'future_return_docs_labeler__thresholds': 5,\n",
      " 'future_return_docs_labeler_s': 1,\n",
      " 'keywords_tfidf_vectorlizer_count_features': 1000,\n",
      " 'keywords_tfidf_vectorlizer_pca_components': 100,\n",
      " 'model': Pipeline(steps=[('standardscaler', StandardScaler()),\n",
      "                ('svc', SVC(probability=True))]),\n",
      " 'word2vec_similar_topn': 1}\n"
     ]
    },
    {
     "name": "stderr",
     "output_type": "stream",
     "text": [
      "stock: 群創, fold: 2: 100%|██████████| 3/3 [05:07<00:00, 102.45s/it]\n"
     ]
    },
    {
     "name": "stdout",
     "output_type": "stream",
     "text": [
      "Average Accuracy: 0.5326649958228905\n",
      "config:\n",
      "{'future_return_docs_labeler__thresholds': 5,\n",
      " 'future_return_docs_labeler_s': 1,\n",
      " 'keywords_tfidf_vectorlizer_count_features': 1000,\n",
      " 'keywords_tfidf_vectorlizer_pca_components': 100,\n",
      " 'model': Pipeline(steps=[('standardscaler', StandardScaler()),\n",
      "                ('kneighborsclassifier', KNeighborsClassifier())]),\n",
      " 'word2vec_similar_topn': 1}\n"
     ]
    },
    {
     "name": "stderr",
     "output_type": "stream",
     "text": [
      "stock: 群創, fold: 2: 100%|██████████| 3/3 [04:14<00:00, 84.71s/it]\n"
     ]
    },
    {
     "name": "stdout",
     "output_type": "stream",
     "text": [
      "Average Accuracy: 0.5250793650793651\n",
      "config:\n",
      "{'future_return_docs_labeler__thresholds': 5,\n",
      " 'future_return_docs_labeler_s': 1,\n",
      " 'keywords_tfidf_vectorlizer_count_features': 1000,\n",
      " 'keywords_tfidf_vectorlizer_pca_components': 100,\n",
      " 'model': Pipeline(steps=[('standardscaler', StandardScaler()),\n",
      "                ('logisticregression', LogisticRegression())]),\n",
      " 'word2vec_similar_topn': 1}\n"
     ]
    },
    {
     "name": "stderr",
     "output_type": "stream",
     "text": [
      "stock: 群創, fold: 2: 100%|██████████| 3/3 [05:20<00:00, 106.72s/it]\n"
     ]
    },
    {
     "name": "stdout",
     "output_type": "stream",
     "text": [
      "Average Accuracy: 0.4929453262786596\n",
      "config:\n",
      "{'future_return_docs_labeler__thresholds': 5,\n",
      " 'future_return_docs_labeler_s': 1,\n",
      " 'keywords_tfidf_vectorlizer_count_features': 1000,\n",
      " 'keywords_tfidf_vectorlizer_pca_components': 100,\n",
      " 'model': RandomForestClassifier(),\n",
      " 'word2vec_similar_topn': 1}\n"
     ]
    },
    {
     "name": "stderr",
     "output_type": "stream",
     "text": [
      "stock: 群創, fold: 2: 100%|██████████| 3/3 [05:05<00:00, 101.82s/it]\n"
     ]
    },
    {
     "name": "stdout",
     "output_type": "stream",
     "text": [
      "Average Accuracy: 0.5185185185185185\n",
      "config:\n",
      "{'future_return_docs_labeler__thresholds': 5,\n",
      " 'future_return_docs_labeler_s': 1,\n",
      " 'keywords_tfidf_vectorlizer_count_features': 1000,\n",
      " 'keywords_tfidf_vectorlizer_pca_components': 100,\n",
      " 'model': StackingClassifier(estimators=[('svc',\n",
      "                                Pipeline(steps=[('standardscaler',\n",
      "                                                 StandardScaler()),\n",
      "                                                ('svc',\n",
      "                                                 SVC(probability=True))])),\n",
      "                               ('knn',\n",
      "                                Pipeline(steps=[('standardscaler',\n",
      "                                                 StandardScaler()),\n",
      "                                                ('kneighborsclassifier',\n",
      "                                                 KNeighborsClassifier())])),\n",
      "                               ('lr',\n",
      "                                Pipeline(steps=[('standardscaler',\n",
      "                                                 StandardScaler()),\n",
      "                                                ('logisticregression',\n",
      "                                                 LogisticRegression())])),\n",
      "                               ('rf', RandomForestClassifier()),\n",
      "                               ('gnb', GaussianNB())],\n",
      "                   final_estimator=SVC(probability=True)),\n",
      " 'word2vec_similar_topn': 1}\n"
     ]
    },
    {
     "name": "stderr",
     "output_type": "stream",
     "text": [
      "stock: 群創, fold: 2:  67%|██████▋   | 2/3 [02:53<01:26, 86.70s/it]/Users/Ethan/Developer/Projects/College/大四下/數據分析/期中/venv/lib/python3.11/site-packages/sklearn/metrics/_classification.py:1344: UndefinedMetricWarning: Precision and F-score are ill-defined and being set to 0.0 in labels with no predicted samples. Use `zero_division` parameter to control this behavior.\n",
      "  _warn_prf(average, modifier, msg_start, len(result))\n",
      "/Users/Ethan/Developer/Projects/College/大四下/數據分析/期中/venv/lib/python3.11/site-packages/sklearn/metrics/_classification.py:1344: UndefinedMetricWarning: Precision and F-score are ill-defined and being set to 0.0 in labels with no predicted samples. Use `zero_division` parameter to control this behavior.\n",
      "  _warn_prf(average, modifier, msg_start, len(result))\n",
      "/Users/Ethan/Developer/Projects/College/大四下/數據分析/期中/venv/lib/python3.11/site-packages/sklearn/metrics/_classification.py:1344: UndefinedMetricWarning: Precision and F-score are ill-defined and being set to 0.0 in labels with no predicted samples. Use `zero_division` parameter to control this behavior.\n",
      "  _warn_prf(average, modifier, msg_start, len(result))\n",
      "/Users/Ethan/Developer/Projects/College/大四下/數據分析/期中/venv/lib/python3.11/site-packages/sklearn/metrics/_classification.py:1344: UndefinedMetricWarning: Precision and F-score are ill-defined and being set to 0.0 in labels with no predicted samples. Use `zero_division` parameter to control this behavior.\n",
      "  _warn_prf(average, modifier, msg_start, len(result))\n",
      "/Users/Ethan/Developer/Projects/College/大四下/數據分析/期中/venv/lib/python3.11/site-packages/sklearn/metrics/_classification.py:1344: UndefinedMetricWarning: Precision and F-score are ill-defined and being set to 0.0 in labels with no predicted samples. Use `zero_division` parameter to control this behavior.\n",
      "  _warn_prf(average, modifier, msg_start, len(result))\n",
      "/Users/Ethan/Developer/Projects/College/大四下/數據分析/期中/venv/lib/python3.11/site-packages/sklearn/metrics/_classification.py:1344: UndefinedMetricWarning: Precision and F-score are ill-defined and being set to 0.0 in labels with no predicted samples. Use `zero_division` parameter to control this behavior.\n",
      "  _warn_prf(average, modifier, msg_start, len(result))\n",
      "stock: 群創, fold: 2: 100%|██████████| 3/3 [05:06<00:00, 102.10s/it]\n"
     ]
    },
    {
     "name": "stdout",
     "output_type": "stream",
     "text": [
      "Average Accuracy: 0.5763406812000162\n",
      "config:\n",
      "{'future_return_docs_labeler__thresholds': 5,\n",
      " 'future_return_docs_labeler_s': 3,\n",
      " 'keywords_tfidf_vectorlizer_count_features': 1000,\n",
      " 'keywords_tfidf_vectorlizer_pca_components': 100,\n",
      " 'model': Pipeline(steps=[('standardscaler', StandardScaler()),\n",
      "                ('svc', SVC(probability=True))]),\n",
      " 'word2vec_similar_topn': 1}\n"
     ]
    },
    {
     "name": "stderr",
     "output_type": "stream",
     "text": [
      "stock: 群創, fold: 2: 100%|██████████| 3/3 [04:30<00:00, 90.17s/it]\n"
     ]
    },
    {
     "name": "stdout",
     "output_type": "stream",
     "text": [
      "Average Accuracy: 0.6940425531914894\n",
      "config:\n",
      "{'future_return_docs_labeler__thresholds': 5,\n",
      " 'future_return_docs_labeler_s': 3,\n",
      " 'keywords_tfidf_vectorlizer_count_features': 1000,\n",
      " 'keywords_tfidf_vectorlizer_pca_components': 100,\n",
      " 'model': Pipeline(steps=[('standardscaler', StandardScaler()),\n",
      "                ('kneighborsclassifier', KNeighborsClassifier())]),\n",
      " 'word2vec_similar_topn': 1}\n"
     ]
    },
    {
     "name": "stderr",
     "output_type": "stream",
     "text": [
      "stock: 群創, fold: 2: 100%|██████████| 3/3 [05:21<00:00, 107.07s/it]\n"
     ]
    },
    {
     "name": "stdout",
     "output_type": "stream",
     "text": [
      "Average Accuracy: 0.48299135372306107\n",
      "config:\n",
      "{'future_return_docs_labeler__thresholds': 5,\n",
      " 'future_return_docs_labeler_s': 3,\n",
      " 'keywords_tfidf_vectorlizer_count_features': 1000,\n",
      " 'keywords_tfidf_vectorlizer_pca_components': 100,\n",
      " 'model': Pipeline(steps=[('standardscaler', StandardScaler()),\n",
      "                ('logisticregression', LogisticRegression())]),\n",
      " 'word2vec_similar_topn': 1}\n"
     ]
    },
    {
     "name": "stderr",
     "output_type": "stream",
     "text": [
      "stock: 群創, fold: 2: 100%|██████████| 3/3 [04:07<00:00, 82.58s/it]\n"
     ]
    },
    {
     "name": "stdout",
     "output_type": "stream",
     "text": [
      "Average Accuracy: 0.6567877797113678\n",
      "config:\n",
      "{'future_return_docs_labeler__thresholds': 5,\n",
      " 'future_return_docs_labeler_s': 3,\n",
      " 'keywords_tfidf_vectorlizer_count_features': 1000,\n",
      " 'keywords_tfidf_vectorlizer_pca_components': 100,\n",
      " 'model': RandomForestClassifier(),\n",
      " 'word2vec_similar_topn': 1}\n"
     ]
    },
    {
     "name": "stderr",
     "output_type": "stream",
     "text": [
      "stock: 群創, fold: 2: 100%|██████████| 3/3 [04:16<00:00, 85.64s/it]\n"
     ]
    },
    {
     "name": "stdout",
     "output_type": "stream",
     "text": [
      "Average Accuracy: 0.6418527042234182\n",
      "config:\n",
      "{'future_return_docs_labeler__thresholds': 5,\n",
      " 'future_return_docs_labeler_s': 3,\n",
      " 'keywords_tfidf_vectorlizer_count_features': 1000,\n",
      " 'keywords_tfidf_vectorlizer_pca_components': 100,\n",
      " 'model': StackingClassifier(estimators=[('svc',\n",
      "                                Pipeline(steps=[('standardscaler',\n",
      "                                                 StandardScaler()),\n",
      "                                                ('svc',\n",
      "                                                 SVC(probability=True))])),\n",
      "                               ('knn',\n",
      "                                Pipeline(steps=[('standardscaler',\n",
      "                                                 StandardScaler()),\n",
      "                                                ('kneighborsclassifier',\n",
      "                                                 KNeighborsClassifier())])),\n",
      "                               ('lr',\n",
      "                                Pipeline(steps=[('standardscaler',\n",
      "                                                 StandardScaler()),\n",
      "                                                ('logisticregression',\n",
      "                                                 LogisticRegression())])),\n",
      "                               ('rf', RandomForestClassifier()),\n",
      "                               ('gnb', GaussianNB())],\n",
      "                   final_estimator=SVC(probability=True)),\n",
      " 'word2vec_similar_topn': 1}\n"
     ]
    },
    {
     "name": "stderr",
     "output_type": "stream",
     "text": [
      "stock: 群創, fold: 2: 100%|██████████| 3/3 [03:37<00:00, 72.35s/it]\n"
     ]
    },
    {
     "name": "stdout",
     "output_type": "stream",
     "text": [
      "Average Accuracy: 0.536682615629984\n",
      "config:\n",
      "{'future_return_docs_labeler__thresholds': 5,\n",
      " 'future_return_docs_labeler_s': 10,\n",
      " 'keywords_tfidf_vectorlizer_count_features': 1000,\n",
      " 'keywords_tfidf_vectorlizer_pca_components': 100,\n",
      " 'model': Pipeline(steps=[('standardscaler', StandardScaler()),\n",
      "                ('svc', SVC(probability=True))]),\n",
      " 'word2vec_similar_topn': 1}\n"
     ]
    },
    {
     "name": "stderr",
     "output_type": "stream",
     "text": [
      "stock: 群創, fold: 2: 100%|██████████| 3/3 [04:15<00:00, 85.01s/it] \n"
     ]
    },
    {
     "name": "stdout",
     "output_type": "stream",
     "text": [
      "Average Accuracy: 0.6187453388901075\n",
      "config:\n",
      "{'future_return_docs_labeler__thresholds': 5,\n",
      " 'future_return_docs_labeler_s': 10,\n",
      " 'keywords_tfidf_vectorlizer_count_features': 1000,\n",
      " 'keywords_tfidf_vectorlizer_pca_components': 100,\n",
      " 'model': Pipeline(steps=[('standardscaler', StandardScaler()),\n",
      "                ('kneighborsclassifier', KNeighborsClassifier())]),\n",
      " 'word2vec_similar_topn': 1}\n"
     ]
    },
    {
     "name": "stderr",
     "output_type": "stream",
     "text": [
      "stock: 群創, fold: 2: 100%|██████████| 3/3 [04:25<00:00, 88.47s/it] \n"
     ]
    },
    {
     "name": "stdout",
     "output_type": "stream",
     "text": [
      "Average Accuracy: 0.6294824016563147\n",
      "config:\n",
      "{'future_return_docs_labeler__thresholds': 5,\n",
      " 'future_return_docs_labeler_s': 10,\n",
      " 'keywords_tfidf_vectorlizer_count_features': 1000,\n",
      " 'keywords_tfidf_vectorlizer_pca_components': 100,\n",
      " 'model': Pipeline(steps=[('standardscaler', StandardScaler()),\n",
      "                ('logisticregression', LogisticRegression())]),\n",
      " 'word2vec_similar_topn': 1}\n"
     ]
    },
    {
     "name": "stderr",
     "output_type": "stream",
     "text": [
      "stock: 群創, fold: 2: 100%|██████████| 3/3 [04:11<00:00, 83.93s/it]\n"
     ]
    },
    {
     "name": "stdout",
     "output_type": "stream",
     "text": [
      "Average Accuracy: 0.6015939522334875\n",
      "config:\n",
      "{'future_return_docs_labeler__thresholds': 5,\n",
      " 'future_return_docs_labeler_s': 10,\n",
      " 'keywords_tfidf_vectorlizer_count_features': 1000,\n",
      " 'keywords_tfidf_vectorlizer_pca_components': 100,\n",
      " 'model': RandomForestClassifier(),\n",
      " 'word2vec_similar_topn': 1}\n"
     ]
    },
    {
     "name": "stderr",
     "output_type": "stream",
     "text": [
      "stock: 群創, fold: 2: 100%|██████████| 3/3 [03:34<00:00, 71.57s/it]\n"
     ]
    },
    {
     "name": "stdout",
     "output_type": "stream",
     "text": [
      "Average Accuracy: 0.6477136961007929\n",
      "config:\n",
      "{'future_return_docs_labeler__thresholds': 5,\n",
      " 'future_return_docs_labeler_s': 10,\n",
      " 'keywords_tfidf_vectorlizer_count_features': 1000,\n",
      " 'keywords_tfidf_vectorlizer_pca_components': 100,\n",
      " 'model': StackingClassifier(estimators=[('svc',\n",
      "                                Pipeline(steps=[('standardscaler',\n",
      "                                                 StandardScaler()),\n",
      "                                                ('svc',\n",
      "                                                 SVC(probability=True))])),\n",
      "                               ('knn',\n",
      "                                Pipeline(steps=[('standardscaler',\n",
      "                                                 StandardScaler()),\n",
      "                                                ('kneighborsclassifier',\n",
      "                                                 KNeighborsClassifier())])),\n",
      "                               ('lr',\n",
      "                                Pipeline(steps=[('standardscaler',\n",
      "                                                 StandardScaler()),\n",
      "                                                ('logisticregression',\n",
      "                                                 LogisticRegression())])),\n",
      "                               ('rf', RandomForestClassifier()),\n",
      "                               ('gnb', GaussianNB())],\n",
      "                   final_estimator=SVC(probability=True)),\n",
      " 'word2vec_similar_topn': 1}\n"
     ]
    },
    {
     "name": "stderr",
     "output_type": "stream",
     "text": [
      "stock: 群創, fold: 2: 100%|██████████| 3/3 [04:46<00:00, 95.55s/it] "
     ]
    },
    {
     "name": "stdout",
     "output_type": "stream",
     "text": [
      "Average Accuracy: 0.5817880218963367\n"
     ]
    },
    {
     "name": "stderr",
     "output_type": "stream",
     "text": [
      "\n"
     ]
    }
   ],
   "source": [
    "from sklearn.model_selection import ParameterGrid, KFold\n",
    "import numpy as np\n",
    "from pprint import pprint\n",
    "from tqdm import tqdm\n",
    "\n",
    "# Define search space\n",
    "param_grid = {\n",
    "    'model': models,\n",
    "    'word2vec_similar_topn': word2vec_similar__topns,\n",
    "    'future_return_docs_labeler_s': future_return_docs_labeler__s,\n",
    "    'future_return_docs_labeler__thresholds': future_return_docs_labeler__thresholds,\n",
    "    'keywords_tfidf_vectorlizer_count_features': keywords_tfidf_vectorlizer__count_features,\n",
    "    'keywords_tfidf_vectorlizer_pca_components': keywords_tfidf_vectorlizer__pca_components\n",
    "}\n",
    "\n",
    "# Initialize grid search\n",
    "grid = ParameterGrid(param_grid)\n",
    "config_results = []\n",
    "\n",
    "# Define the number of folds for cross-validation\n",
    "n_splits = 3\n",
    "kfold = KFold(n_splits=n_splits)\n",
    "\n",
    "\n",
    "\n",
    "# Grid search loop\n",
    "for config in grid:\n",
    "    accuracies = []\n",
    "\n",
    "    print(f\"config:\")\n",
    "    pprint(config)\n",
    "    pbar = tqdm(range(n_splits))\n",
    "    for fold in pbar:\n",
    "        pbar.set_description(f\"stock: {stock_name}, fold: {fold}\")\n",
    "        stock = stock_meta.get_stock_by_name(stock_name)\n",
    "        \n",
    "        # split train and val\n",
    "        train_dataset, val_dataset = random_split_train_val(docs_dataset, split_ratio=0.7, verbose=False)\n",
    "\n",
    "        # Update pipeline with config\n",
    "        preprocess_pipeline = PreprocessPipeline(\n",
    "            docs_filterer=Word2VecSimilarFilterer(topn=config['word2vec_similar_topn'], white_noise_ratio=0),\n",
    "            docs_labeler=FutureReturnDocsLabeler(s=config['future_return_docs_labeler_s'], threshold=config['future_return_docs_labeler__thresholds']),\n",
    "            keywords_extractor=JiebaKeywordExtractor(),\n",
    "            vectorizer=KeywordsTfIdfVectorlizer(count_features=config['keywords_tfidf_vectorlizer_count_features'],\n",
    "                                               pca_components=config['keywords_tfidf_vectorlizer_pca_components'])\n",
    "        )\n",
    "\n",
    "        # Preprocess datasets\n",
    "        processed_train_dataset = preprocess_pipeline.preprocess(train_dataset, stock, do_fit=True, verbose=False)\n",
    "        # check label have both 1 and 0\n",
    "        if len(np.unique(processed_train_dataset.labels)) != 2:\n",
    "            continue\n",
    "        processed_val_dataset = preprocess_pipeline.preprocess(val_dataset, stock, do_fit=False, verbose=False)\n",
    "\n",
    "        # Train and validate model\n",
    "        clf = config['model']\n",
    "        result = train_eval_model(clf, processed_train_dataset, processed_val_dataset, verbose=False)\n",
    "\n",
    "        # record validate accuracy\n",
    "        accuracies.append(result.val_accuracy)\n",
    "\n",
    "    # Compute average and standard deviation\n",
    "    avg_accuracy = np.mean(accuracies)\n",
    "\n",
    "    # Record config and results\n",
    "    config_results.append({\n",
    "        'config': config,\n",
    "        'accuracy_avg': avg_accuracy,\n",
    "        'result': result\n",
    "    })\n",
    "\n",
    "    # Display config results\n",
    "    print(f\"Average Accuracy: {avg_accuracy}\")\n",
    "\n"
   ]
  },
  {
   "attachments": {},
   "cell_type": "markdown",
   "metadata": {},
   "source": [
    "# Search 結果\n",
    "我們找到能給出最高準確率的模型與設定，同時，我們也發現調整 s（futrue return days）太高會造成文章引響力低但太低的話雜訊又會太多;另一方面 threshhold影響也很大，如果調太低會造成資料不準確，但太高的話如意會沒有文章資料。\n",
    "\n",
    "以下展示我們最好的模型結果，我們展示各種模型最高準確率，我們發現使用svc 在我們研究中拿到最高81%的accuracy，有趣的是，最複雜的stacking模型反而表現非常不好"
   ]
  },
  {
   "cell_type": "code",
   "execution_count": 17,
   "metadata": {},
   "outputs": [
    {
     "data": {
      "image/png": "[encoded data removed]",
      "text/plain": [
       "<Figure size 640x480 with 1 Axes>"
      ]
     },
     "metadata": {},
     "output_type": "display_data"
    },
    {
     "data": {
      "text/html": [
       "<div>\n",
       "<style scoped>\n",
       "    .dataframe tbody tr th:only-of-type {\n",
       "        vertical-align: middle;\n",
       "    }\n",
       "\n",
       "    .dataframe tbody tr th {\n",
       "        vertical-align: top;\n",
       "    }\n",
       "\n",
       "    .dataframe thead th {\n",
       "        text-align: right;\n",
       "    }\n",
       "</style>\n",
       "<table border=\"1\" class=\"dataframe\">\n",
       "  <thead>\n",
       "    <tr style=\"text-align: right;\">\n",
       "      <th></th>\n",
       "      <th>model</th>\n",
       "      <th>accuracy</th>\n",
       "    </tr>\n",
       "  </thead>\n",
       "  <tbody>\n",
       "    <tr>\n",
       "      <th>0</th>\n",
       "      <td>svc</td>\n",
       "      <td>0.694043</td>\n",
       "    </tr>\n",
       "    <tr>\n",
       "      <th>1</th>\n",
       "      <td>knn</td>\n",
       "      <td>0.629482</td>\n",
       "    </tr>\n",
       "    <tr>\n",
       "      <th>2</th>\n",
       "      <td>lr</td>\n",
       "      <td>0.656788</td>\n",
       "    </tr>\n",
       "    <tr>\n",
       "      <th>3</th>\n",
       "      <td>rf</td>\n",
       "      <td>0.647714</td>\n",
       "    </tr>\n",
       "    <tr>\n",
       "      <th>4</th>\n",
       "      <td>stacking_clf</td>\n",
       "      <td>0.581788</td>\n",
       "    </tr>\n",
       "  </tbody>\n",
       "</table>\n",
       "</div>"
      ],
      "text/plain": [
       "          model  accuracy\n",
       "0           svc  0.694043\n",
       "1           knn  0.629482\n",
       "2            lr  0.656788\n",
       "3            rf  0.647714\n",
       "4  stacking_clf  0.581788"
      ]
     },
     "metadata": {},
     "output_type": "display_data"
    }
   ],
   "source": [
    "import matplotlib.pyplot as plt\n",
    "# use config_results to get a dictionary which map model name to its best config and best accuracy\n",
    "model_best_config = {}\n",
    "for config_result in config_results:\n",
    "    config = config_result['config']\n",
    "    model_name = str(config['model'])\n",
    "    if model_name not in model_best_config:\n",
    "        model_best_config[model_name] = {\n",
    "            'config': config,\n",
    "            'result': config_result\n",
    "        }\n",
    "    else:\n",
    "        if config_result['accuracy_avg'] > model_best_config[model_name]['result']['accuracy_avg']:\n",
    "            model_best_config[model_name] = {\n",
    "                'config': config,\n",
    "                'result': config_result\n",
    "            }\n",
    "name_model_to_best_config = {}\n",
    "for model, name in zip(model_best_config.keys(), ['svc', 'knn', 'lr', 'rf', 'stacking_clf']):\n",
    "    name_model_to_best_config[name] = model_best_config[model]\n",
    "\n",
    "# plot each model's best accuracy\n",
    "for model_name, config in name_model_to_best_config.items():\n",
    "    model_accuracy = config['result']['accuracy_avg']\n",
    "    plt.bar(model_name, model_accuracy)\n",
    "plt.title('Best Accuracy of Each Model')\n",
    "plt.show()\n",
    "\n",
    "# display model best accuracy using dataframe\n",
    "import pandas as pd\n",
    "\n",
    "model_best_accuracies = []\n",
    "for model_name, config in name_model_to_best_config.items():\n",
    "    model_accuracy = config['result']['accuracy_avg']\n",
    "    model_best_accuracies.append({\n",
    "        'model': model_name,\n",
    "        'accuracy': model_accuracy\n",
    "    })\n",
    "model_best_accuracies_df = pd.DataFrame(model_best_accuracies)\n",
    "display(model_best_accuracies_df)\n",
    "    "
   ]
  },
  {
   "attachments": {},
   "cell_type": "markdown",
   "metadata": {},
   "source": [
    "最後我們呈現我們最好的模型的metrix，並且是用在其他股票看看效果"
   ]
  },
  {
   "cell_type": "code",
   "execution_count": 20,
   "metadata": {},
   "outputs": [
    {
     "data": {
      "text/plain": [
       "{'config': {'future_return_docs_labeler__thresholds': 5,\n",
       "  'future_return_docs_labeler_s': 3,\n",
       "  'keywords_tfidf_vectorlizer_count_features': 1000,\n",
       "  'keywords_tfidf_vectorlizer_pca_components': 100,\n",
       "  'model': Pipeline(steps=[('standardscaler', StandardScaler()),\n",
       "                  ('svc', SVC(probability=True))]),\n",
       "  'word2vec_similar_topn': 1},\n",
       " 'result': {'config': {'future_return_docs_labeler__thresholds': 5,\n",
       "   'future_return_docs_labeler_s': 3,\n",
       "   'keywords_tfidf_vectorlizer_count_features': 1000,\n",
       "   'keywords_tfidf_vectorlizer_pca_components': 100,\n",
       "   'model': Pipeline(steps=[('standardscaler', StandardScaler()),\n",
       "                   ('svc', SVC(probability=True))]),\n",
       "   'word2vec_similar_topn': 1},\n",
       "  'accuracy_avg': 0.6940425531914894,\n",
       "  'result': EvaluationResult(model_name='Pipeline', train_accuracy=0.9167862266857962, train_report='              precision    recall  f1-score   support\\n\\n      fallen       0.89      0.96      0.92       365\\n       risen       0.95      0.87      0.91       332\\n\\n    accuracy                           0.92       697\\n   macro avg       0.92      0.91      0.92       697\\nweighted avg       0.92      0.92      0.92       697\\n', train_conf_matrix=array([[0.5035868 , 0.02008608],\n",
       "         [0.06312769, 0.41319943]]), train_roc_auc=0.977574682290807, val_accuracy=0.66, val_report='              precision    recall  f1-score   support\\n\\n      fallen       0.64      0.72      0.68        50\\n       risen       0.68      0.60      0.64        50\\n\\n    accuracy                           0.66       100\\n   macro avg       0.66      0.66      0.66       100\\nweighted avg       0.66      0.66      0.66       100\\n', val_conf_matrix=array([[0.36, 0.14],\n",
       "         [0.2 , 0.3 ]]), val_roc_auc=0.6336)}}"
      ]
     },
     "execution_count": 20,
     "metadata": {},
     "output_type": "execute_result"
    }
   ],
   "source": [
    "name_model_to_best_config['svc']"
   ]
  },
  {
   "cell_type": "code",
   "execution_count": 21,
   "metadata": {},
   "outputs": [
    {
     "name": "stdout",
     "output_type": "stream",
     "text": [
      "Splitting dataset into training and validation sets with ratio 0.7...\n",
      "preprocess train dataset\n",
      "==================================================\n",
      "[Word2VecSimilarFilterer] fitting the filterer\n",
      "load word2vec model from cache\n",
      "[Word2VecSimilarFilterer] Filter documents by does content/title/author contain the top most similar words to the stock name\n"
     ]
    },
    {
     "name": "stderr",
     "output_type": "stream",
     "text": [
      "filtering documents: 100%|██████████| 1653826/1653826 [00:39<00:00, 41473.93it/s]\n"
     ]
    },
    {
     "name": "stdout",
     "output_type": "stream",
     "text": [
      "left with 30673 documents after filtering\n",
      "==================================================\n",
      "\n",
      "\n",
      "==================================================\n",
      "[FutureReturnDocsLabeler] labeling documents by the s day future return percentage of the stock...\n"
     ]
    },
    {
     "name": "stderr",
     "output_type": "stream",
     "text": [
      "labeling documents: 100%|██████████| 1026/1026 [00:00<00:00, 2908.14it/s]\n"
     ]
    },
    {
     "name": "stdout",
     "output_type": "stream",
     "text": [
      "left with 7516 documents after labeling\n",
      "==================================================\n",
      "\n",
      "\n",
      "==================================================\n",
      "[JiebaKeywordExtractor] extract keywords from documents using jieba\n"
     ]
    },
    {
     "name": "stderr",
     "output_type": "stream",
     "text": [
      "extracting keywords: 100%|██████████| 7516/7516 [00:00<00:00, 2302731.11it/s]\n"
     ]
    },
    {
     "name": "stdout",
     "output_type": "stream",
     "text": [
      "remove 0 docs because of empty keywords\n",
      "left with 7516 docs\n",
      "==================================================\n",
      "\n",
      "\n",
      "==================================================\n",
      "[KeywordsTfIdfVectorlizer] fitting 7516 docs\n",
      "vectorizer fitted.\n",
      "[KeywordsTfIdfVectorlizer] transforming 7516 docs to vectors\n",
      "==================================================\n",
      "\n",
      "\n",
      "\n",
      "\n",
      "\n",
      "\n",
      "preprocess val dataset\n",
      "==================================================\n",
      "[Word2VecSimilarFilterer] Filter documents by does content/title/author contain the top most similar words to the stock name\n"
     ]
    },
    {
     "name": "stderr",
     "output_type": "stream",
     "text": [
      "filtering documents: 100%|██████████| 212584/212584 [00:05<00:00, 35703.52it/s]\n"
     ]
    },
    {
     "name": "stdout",
     "output_type": "stream",
     "text": [
      "left with 3886 documents after filtering\n",
      "==================================================\n",
      "\n",
      "\n",
      "==================================================\n",
      "[FutureReturnDocsLabeler] labeling documents by the s day future return percentage of the stock...\n"
     ]
    },
    {
     "name": "stderr",
     "output_type": "stream",
     "text": [
      "labeling documents: 100%|██████████| 1026/1026 [00:00<00:00, 6373.75it/s]\n"
     ]
    },
    {
     "name": "stdout",
     "output_type": "stream",
     "text": [
      "left with 934 documents after labeling\n",
      "==================================================\n",
      "\n",
      "\n",
      "==================================================\n",
      "[JiebaKeywordExtractor] extract keywords from documents using jieba\n"
     ]
    },
    {
     "name": "stderr",
     "output_type": "stream",
     "text": [
      "extracting keywords: 100%|██████████| 934/934 [00:00<00:00, 2181224.91it/s]\n"
     ]
    },
    {
     "name": "stdout",
     "output_type": "stream",
     "text": [
      "remove 0 docs because of empty keywords\n",
      "left with 934 docs\n",
      "==================================================\n",
      "\n",
      "\n",
      "==================================================\n",
      "[KeywordsTfIdfVectorlizer] transforming 934 docs to vectors\n",
      "==================================================\n",
      "\n",
      "\n",
      "fitting model...\n",
      "model prediction...\n",
      "calculating performance metrics...\n",
      "\n",
      "\n",
      "\n",
      "\n",
      "\n",
      "result:\n",
      "Training accuracy: 0.9246939861628526\n",
      "Validation accuracy: 0.6102783725910065\n",
      "\n",
      "Training classification report:\n",
      "              precision    recall  f1-score   support\n",
      "\n",
      "      fallen       0.93      0.91      0.92      3576\n",
      "       risen       0.92      0.94      0.93      3940\n",
      "\n",
      "    accuracy                           0.92      7516\n",
      "   macro avg       0.93      0.92      0.92      7516\n",
      "weighted avg       0.92      0.92      0.92      7516\n",
      "\n",
      "\n",
      "Validation classification report:\n",
      "              precision    recall  f1-score   support\n",
      "\n",
      "      fallen       0.55      0.50      0.52       402\n",
      "       risen       0.65      0.70      0.67       532\n",
      "\n",
      "    accuracy                           0.61       934\n",
      "   macro avg       0.60      0.60      0.60       934\n",
      "weighted avg       0.61      0.61      0.61       934\n",
      "\n"
     ]
    },
    {
     "data": {
      "image/png": "[encoded data removed]",
      "text/plain": [
       "<Figure size 800x400 with 4 Axes>"
      ]
     },
     "metadata": {},
     "output_type": "display_data"
    },
    {
     "data": {
      "image/png": "[encoded data removed]",
      "text/plain": [
       "<Figure size 1000x500 with 2 Axes>"
      ]
     },
     "metadata": {},
     "output_type": "display_data"
    }
   ],
   "source": [
    "# set up config\n",
    "stock = stock_meta.get_stock_by_name('群創')\n",
    "clf = make_pipeline(StandardScaler(), SVC(probability=True))\n",
    "preprocess_pipeline = PreprocessPipeline(\n",
    "    docs_filterer=Word2VecSimilarFilterer(topn=3, white_noise_ratio=0),\n",
    "    docs_labeler=FutureReturnDocsLabeler(s=3, threshold=5),\n",
    "    keywords_extractor=JiebaKeywordExtractor(),\n",
    "    vectorizer=KeywordsTfIdfVectorlizer(count_features=1000, pca_components=100)\n",
    ")\n",
    "\n",
    "# split train and val\n",
    "train_dataset, val_dataset = random_split_train_val(docs_dataset, split_ratio=0.7)\n",
    "# preprocess dataset\n",
    "print(\"preprocess train dataset\")\n",
    "train_dataset = preprocess_pipeline.preprocess(train_dataset, stock, do_fit=True, verbose=True)\n",
    "print(\"\\n\\n\\n\\npreprocess val dataset\")\n",
    "val_dataset = preprocess_pipeline.preprocess(val_dataset, stock, do_fit=False, verbose=True)\n",
    "# train and validate model\n",
    "result = train_eval_model(clf, train_dataset, val_dataset, verbose=True)\n",
    "\n",
    "# display result\n",
    "print(\"\\n\\n\\n\\n\\nresult:\")\n",
    "display_evaluation_result(result, clf, train_dataset, val_dataset)"
   ]
  },
  {
   "attachments": {},
   "cell_type": "markdown",
   "metadata": {},
   "source": [
    "由此發現，確實accuracy高，但主要是因為s小 threshold大時我們的資料集會很小，且看起來大部分文章多會特別注重漲，且資料有可能不平衡。"
   ]
  }
 ],
 "metadata": {
  "kernelspec": {
   "display_name": "Python 3",
   "language": "python",
   "name": "python3"
  },
  "language_info": {
   "codemirror_mode": {
    "name": "ipython",
    "version": 3
   },
   "file_extension": ".py",
   "mimetype": "text/x-python",
   "name": "python",
   "nbconvert_exporter": "python",
   "pygments_lexer": "ipython3",
   "version": "3.11.2"
  }
 },
 "nbformat": 4,
 "nbformat_minor": 0
}
