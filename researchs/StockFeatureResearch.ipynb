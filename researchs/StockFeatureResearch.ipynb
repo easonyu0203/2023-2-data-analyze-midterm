{
 "cells": [
  {
   "cell_type": "markdown",
   "source": [
    "# Stock Feature Research\n",
    "首先我們想先選則幾隻股票進行分析，而我們希望這些股票有以下好的特性：\n",
    "1. 資料量足夠：與此股票相關的文章必須足夠，我們可以用某些機制（ex. 文章包含股票名稱）來算出這個股票的文章數量\n",
    "2. 股票隨著輿論波動：我們假設文章會因為輿論而有所波動，因此我們希望這些股票的股價也會因為輿論而有所波動，而這點應該要做分析看結果才能知道\n",
    "\n",
    "我們講用此 notebook 來分析股票性質，進而選取我們關注的股票"
   ],
   "metadata": {
    "collapsed": false
   }
  },
  {
   "cell_type": "markdown",
   "source": [
    "##"
   ],
   "metadata": {
    "collapsed": false
   }
  },
  {
   "cell_type": "code",
   "execution_count": 5,
   "outputs": [
    {
     "data": {
      "text/plain": "'/Users/Ethan/Developer/Projects/College/大四下/數據分析/期中'"
     },
     "execution_count": 5,
     "metadata": {},
     "output_type": "execute_result"
    }
   ],
   "source": [
    "import os\n",
    "\n",
    "folder_name = \"researchs\"\n",
    "if folder_name in os.getcwd():\n",
    "    os.chdir(os.path.abspath(os.pardir))\n",
    "%pwd"
   ],
   "metadata": {
    "collapsed": false
   }
  },
  {
   "cell_type": "code",
   "execution_count": 6,
   "metadata": {
    "collapsed": true
   },
   "outputs": [
    {
     "data": {
      "text/plain": "StockMeta(stock_count=2607)"
     },
     "execution_count": 6,
     "metadata": {},
     "output_type": "execute_result"
    }
   ],
   "source": [
    "from datasets.stock_dataset import StockMeta\n",
    "from preprocess.docs_filterer import StockNameFilterer\n",
    "\n",
    "stock_meta = StockMeta(\"./organized_data/stock_metadata.csv\")\n",
    "stock_meta"
   ]
  }
 ],
 "metadata": {
  "kernelspec": {
   "display_name": "Python 3",
   "language": "python",
   "name": "python3"
  },
  "language_info": {
   "codemirror_mode": {
    "name": "ipython",
    "version": 2
   },
   "file_extension": ".py",
   "mimetype": "text/x-python",
   "name": "python",
   "nbconvert_exporter": "python",
   "pygments_lexer": "ipython2",
   "version": "2.7.6"
  }
 },
 "nbformat": 4,
 "nbformat_minor": 0
}
