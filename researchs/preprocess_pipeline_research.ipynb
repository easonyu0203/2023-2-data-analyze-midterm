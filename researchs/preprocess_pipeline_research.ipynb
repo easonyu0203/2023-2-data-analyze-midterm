{
 "cells": [
  {
   "cell_type": "markdown",
   "source": [
    "# Preprocess Pipeline Research\n",
    "\n",
    "In this notebook, we aim to find a good preprocess pipeline for convert document to vector, to determine a preprocess pipline is good or not really depend on the metrix we concerned and what model we use so we decide to use following process to determine the preprocess-pipline we will use for this project:\n",
    "\n",
    "we choose n model and m stock for each config-pipeline (same for each stock), using this to compute the average/std accuracy, and plot it to a graph to see which perform better\n",
    "\n",
    "For example if we choose 3 kind of model and run on 10 stock we can get 3 x 10 = 30 of score, since we care about accuracy we want to find a pipline which can yield high accuracy and low std for all combination\n",
    "\n",
    "NOTE: why we care about accuracy:<br>\n",
    "in context of stock future return prediction, we care both risen and fallen, and since accuracy take into account both positive and negative label( for recall, precision, f1 they care about positive label) we think this metrix can most represent what we want to achieve."
   ],
   "metadata": {
    "collapsed": false
   }
  },
  {
   "cell_type": "code",
   "execution_count": null,
   "metadata": {
    "collapsed": true
   },
   "outputs": [],
   "source": []
  }
 ],
 "metadata": {
  "kernelspec": {
   "display_name": "Python 3",
   "language": "python",
   "name": "python3"
  },
  "language_info": {
   "codemirror_mode": {
    "name": "ipython",
    "version": 2
   },
   "file_extension": ".py",
   "mimetype": "text/x-python",
   "name": "python",
   "nbconvert_exporter": "python",
   "pygments_lexer": "ipython2",
   "version": "2.7.6"
  }
 },
 "nbformat": 4,
 "nbformat_minor": 0
}
